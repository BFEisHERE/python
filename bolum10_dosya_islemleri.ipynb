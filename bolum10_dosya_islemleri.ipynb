{
 "cells": [
  {
   "cell_type": "code",
   "execution_count": 1,
   "id": "5f1fb203",
   "metadata": {},
   "outputs": [],
   "source": [
    "#DOSYA AÇMA VE YAZÆ\n",
    "#open(dosya_Adı , erişim_kipi) \n",
    "#dosya ıle ne yapacagımızı soylıcez\n",
    "#\"w\" dosya kiği\n",
    "#dosya açmak veya dosya yazmak için \"write\" anlamına gelen kipi kullanıyoruz.\n",
    "#dosya yoksa oluşturulur. dosya varsa silip tekrar oluşturur."
   ]
  },
  {
   "cell_type": "code",
   "execution_count": 2,
   "id": "cf796bce",
   "metadata": {},
   "outputs": [
    {
     "data": {
      "text/plain": [
       "<_io.TextIOWrapper name='sa.txt' mode='w' encoding='cp1254'>"
      ]
     },
     "execution_count": 2,
     "metadata": {},
     "output_type": "execute_result"
    }
   ],
   "source": [
    "open(\"sa.txt\",\"w\")"
   ]
  },
  {
   "cell_type": "code",
   "execution_count": 6,
   "id": "2cbbe5d1",
   "metadata": {},
   "outputs": [],
   "source": [
    "file = open(\"bilgiler.txt\",\"w\")"
   ]
  },
  {
   "cell_type": "code",
   "execution_count": 7,
   "id": "2256f8d1",
   "metadata": {},
   "outputs": [],
   "source": [
    "file.close()"
   ]
  },
  {
   "cell_type": "code",
   "execution_count": 12,
   "id": "be4621e8",
   "metadata": {},
   "outputs": [],
   "source": [
    "file = open(\"C:/Users/bfbur/Desktop/sas.txt\",\"w\")"
   ]
  },
  {
   "cell_type": "code",
   "execution_count": 13,
   "id": "34b915f1",
   "metadata": {},
   "outputs": [],
   "source": [
    "file = open(\"bilgiler.txt\",\"w\")"
   ]
  },
  {
   "cell_type": "code",
   "execution_count": 14,
   "id": "b9475877",
   "metadata": {},
   "outputs": [
    {
     "data": {
      "text/plain": [
       "20"
      ]
     },
     "execution_count": 14,
     "metadata": {},
     "output_type": "execute_result"
    }
   ],
   "source": [
    "file.write(\"Burak Furkan Erkemen\")"
   ]
  },
  {
   "cell_type": "code",
   "execution_count": 15,
   "id": "7ac12faf",
   "metadata": {},
   "outputs": [],
   "source": [
    "file.close()"
   ]
  },
  {
   "cell_type": "code",
   "execution_count": 16,
   "id": "aa27ac3a",
   "metadata": {},
   "outputs": [],
   "source": [
    "file = open(\"bilgiler.txt\",\"w\",encoding = \"utf-8\")"
   ]
  },
  {
   "cell_type": "code",
   "execution_count": 17,
   "id": "6413162e",
   "metadata": {},
   "outputs": [
    {
     "data": {
      "text/plain": [
       "36"
      ]
     },
     "execution_count": 17,
     "metadata": {},
     "output_type": "execute_result"
    }
   ],
   "source": [
    "file.write(\"Artık Türkçe Karakterleri de anlıyor\")"
   ]
  },
  {
   "cell_type": "code",
   "execution_count": 18,
   "id": "1d88a49d",
   "metadata": {},
   "outputs": [],
   "source": [
    "file.close()"
   ]
  },
  {
   "cell_type": "code",
   "execution_count": 19,
   "id": "f99a3456",
   "metadata": {},
   "outputs": [],
   "source": [
    "#bulunan bir dosya üstüne eklee için\n",
    "#\"a\" kipi kullanılır. yoksa yenisi oluşturulur. varsa üstüne yazılır"
   ]
  },
  {
   "cell_type": "code",
   "execution_count": 25,
   "id": "9b243506",
   "metadata": {},
   "outputs": [],
   "source": [
    "file = open(\"bilgiler.txt\",\"a\",encoding = \"utf-8\")"
   ]
  },
  {
   "cell_type": "code",
   "execution_count": 26,
   "id": "eb2d8221",
   "metadata": {},
   "outputs": [
    {
     "data": {
      "text/plain": [
       "21"
      ]
     },
     "execution_count": 26,
     "metadata": {},
     "output_type": "execute_result"
    }
   ],
   "source": [
    "file.write(\"\\nBurak Furkan ERKEMEN\")"
   ]
  },
  {
   "cell_type": "code",
   "execution_count": 27,
   "id": "b46a15a2",
   "metadata": {},
   "outputs": [],
   "source": [
    "file.close()"
   ]
  },
  {
   "cell_type": "code",
   "execution_count": 28,
   "id": "9ac57b60",
   "metadata": {},
   "outputs": [],
   "source": [
    "#******************************************************************\n",
    "#DOSYA OKUMA İŞLEMLERİ\n",
    "#\"r\" kipiyle açılıyor. eğer ki dosya yoksa hata verir"
   ]
  },
  {
   "cell_type": "code",
   "execution_count": 29,
   "id": "d999be4b",
   "metadata": {},
   "outputs": [],
   "source": [
    "file = open(\"bilgiler.txt\",\"r\",encoding = \"utf-8\")"
   ]
  },
  {
   "cell_type": "code",
   "execution_count": 30,
   "id": "57d5accd",
   "metadata": {},
   "outputs": [],
   "source": [
    "file.close()"
   ]
  },
  {
   "cell_type": "code",
   "execution_count": 31,
   "id": "9a41aa3d",
   "metadata": {},
   "outputs": [
    {
     "name": "stdout",
     "output_type": "stream",
     "text": [
      "Dosya Bulunamadı...\n"
     ]
    }
   ],
   "source": [
    "try:\n",
    "    file = open(\"bilgiler2.txt\",\"r\")\n",
    "except:\n",
    "    print(\"Dosya Bulunamadı...\")"
   ]
  },
  {
   "cell_type": "code",
   "execution_count": 32,
   "id": "e71ff12a",
   "metadata": {},
   "outputs": [],
   "source": [
    "#OKUMA YÖNTEMLERİ\n",
    "#FOR DÖNGÜSÜ İLE OKUMA"
   ]
  },
  {
   "cell_type": "code",
   "execution_count": 33,
   "id": "b1dd3a93",
   "metadata": {},
   "outputs": [
    {
     "name": "stdout",
     "output_type": "stream",
     "text": [
      "Artık Türkçe Karakterleri de anlıyorBurak Furkan ERKEMEN\n",
      "\n",
      "Burak Furkan ERKEMEN\n"
     ]
    }
   ],
   "source": [
    "file = open(\"bilgiler.txt\",\"r\",encoding = \"utf-8\")\n",
    "for i in file:#listeler gibi her bir satırda gezinilir\n",
    "    print(i)\n",
    "file.close()"
   ]
  },
  {
   "cell_type": "code",
   "execution_count": 34,
   "id": "06e3689d",
   "metadata": {},
   "outputs": [],
   "source": [
    "#read() fonksiyonu\n",
    "#eğer değer verilmezse bütün dosya okunur."
   ]
  },
  {
   "cell_type": "code",
   "execution_count": 37,
   "id": "3e2add33",
   "metadata": {},
   "outputs": [
    {
     "name": "stdout",
     "output_type": "stream",
     "text": [
      "Dosyanın İçeriği\n",
      "Artık Türkçe Karakterleri de anlıyorBurak Furkan ERKEMEN\n",
      "Burak Furkan ERKEMEN\n",
      "Dosyanın içeriği 2:\n",
      "\n",
      "içerik 2 gelmemesinin sebebi imleç en sona gider bu yüzden 2. içerik boş döner\n"
     ]
    }
   ],
   "source": [
    "file = open(\"bilgiler.txt\",\"r\",encoding = \"utf-8\")\n",
    "içerik = file.read()\n",
    "print(\"Dosyanın İçeriği\")\n",
    "print(içerik)\n",
    "print(\"Dosyanın içeriği 2:\")\n",
    "içerik2= file.read()\n",
    "print(içerik2)\n",
    "print(\"içerik 2 gelmemesinin sebebi imleç en sona gider bu yüzden 2. içerik boş döner\")"
   ]
  },
  {
   "cell_type": "code",
   "execution_count": 38,
   "id": "9d83e666",
   "metadata": {},
   "outputs": [],
   "source": [
    "#readline() her çağrıldığında sadece bir satırı okur"
   ]
  },
  {
   "cell_type": "code",
   "execution_count": 39,
   "id": "5fb7116e",
   "metadata": {},
   "outputs": [],
   "source": [
    "file = open(\"bilgiler.txt\",\"r\",encoding = \"utf-8\")"
   ]
  },
  {
   "cell_type": "code",
   "execution_count": 41,
   "id": "fa1a9aea",
   "metadata": {},
   "outputs": [
    {
     "name": "stdout",
     "output_type": "stream",
     "text": [
      "Burak Furkan ERKEMEN\n"
     ]
    }
   ],
   "source": [
    "print(file.readline())\n",
    "file.close()"
   ]
  },
  {
   "cell_type": "code",
   "execution_count": 42,
   "id": "5662023e",
   "metadata": {},
   "outputs": [
    {
     "name": "stdout",
     "output_type": "stream",
     "text": [
      "Artık Türkçe Karakterleri de anlıyorBurak Furkan ERKEMEN\n",
      "\n"
     ]
    }
   ],
   "source": [
    "file = open(\"bilgiler.txt\",\"r\",encoding = \"utf-8\")\n",
    "print(file.readline())\n",
    "file.close()"
   ]
  },
  {
   "cell_type": "code",
   "execution_count": 43,
   "id": "11a8a498",
   "metadata": {},
   "outputs": [
    {
     "name": "stdout",
     "output_type": "stream",
     "text": [
      "Artık Türkçe Karakterleri de anlıyorBurak Furkan ERKEMEN\n",
      "\n",
      "Burak Furkan ERKEMEN\n",
      "\n",
      "\n"
     ]
    }
   ],
   "source": [
    "file = open(\"bilgiler.txt\",\"r\",encoding = \"utf-8\")\n",
    "print(file.readline())\n",
    "print(file.readline())\n",
    "print(file.readline())\n",
    "print(file.readline())\n",
    "file.close()"
   ]
  },
  {
   "cell_type": "code",
   "execution_count": 45,
   "id": "fc8dceab",
   "metadata": {},
   "outputs": [
    {
     "name": "stdout",
     "output_type": "stream",
     "text": [
      "['Artık Türkçe Karakterleri de anlıyorBurak Furkan ERKEMEN\\n', 'Burak Furkan ERKEMEN']\n"
     ]
    },
    {
     "data": {
      "text/plain": [
       "<function TextIOWrapper.close()>"
      ]
     },
     "execution_count": 45,
     "metadata": {},
     "output_type": "execute_result"
    }
   ],
   "source": [
    "file = open(\"bilgiler.txt\",\"r\",encoding = \"utf-8\")\n",
    "\n",
    "liste = file.readlines()\n",
    "print(liste)\n",
    "file.close"
   ]
  },
  {
   "cell_type": "code",
   "execution_count": 46,
   "id": "1ec9c114",
   "metadata": {},
   "outputs": [],
   "source": [
    "#*********************************************************\n",
    "#DOSYALARDA KULLANILAN ÖZEL FONKSİYONLAR"
   ]
  },
  {
   "cell_type": "code",
   "execution_count": 1,
   "id": "572b87d3",
   "metadata": {},
   "outputs": [],
   "source": [
    "#-> otomatik dosya kapatma\n",
    "# with open(dosya_adı,dosya_kipi) as file:\n",
    "#     dosya işlemleri!!"
   ]
  },
  {
   "cell_type": "code",
   "execution_count": 2,
   "id": "070b5583",
   "metadata": {},
   "outputs": [
    {
     "name": "stdout",
     "output_type": "stream",
     "text": [
      "Artık Türkçe Karakterleri de anlıyorBurak Furkan ERKEMEN\n",
      "\n",
      "Burak Furkan ERKEMEN\n"
     ]
    }
   ],
   "source": [
    "with open(\"bilgiler.txt\",\"r\",encoding = \"utf-8\") as file:\n",
    "    for i in file:\n",
    "        print(i)"
   ]
  },
  {
   "cell_type": "code",
   "execution_count": 3,
   "id": "bba3fab9",
   "metadata": {},
   "outputs": [],
   "source": [
    "#DOSYALARI İLERİ GERİ SARMAK\n",
    "#seek()-tell() fonksiyonları"
   ]
  },
  {
   "cell_type": "code",
   "execution_count": 4,
   "id": "f1faa48e",
   "metadata": {},
   "outputs": [
    {
     "name": "stdout",
     "output_type": "stream",
     "text": [
      "0\n"
     ]
    }
   ],
   "source": [
    "with open(\"bilgiler.txt\",\"r\",encoding = \"utf-8\") as file:\n",
    "    print(file.tell())"
   ]
  },
  {
   "cell_type": "code",
   "execution_count": 5,
   "id": "936f5c2f",
   "metadata": {},
   "outputs": [
    {
     "name": "stdout",
     "output_type": "stream",
     "text": [
      "0\n",
      "20\n"
     ]
    }
   ],
   "source": [
    "with open(\"bilgiler.txt\",\"r\",encoding = \"utf-8\") as file:\n",
    "    print(file.tell())\n",
    "    file.seek(20)\n",
    "    print(file.tell())"
   ]
  },
  {
   "cell_type": "code",
   "execution_count": 8,
   "id": "14b62943",
   "metadata": {},
   "outputs": [
    {
     "name": "stdout",
     "output_type": "stream",
     "text": [
      "23\n",
      "k Türkçe Karakte\n",
      "8\n",
      "k Türkçe Karakte\n"
     ]
    }
   ],
   "source": [
    "with open(\"bilgiler.txt\",\"r\",encoding = \"utf-8\") as file:\n",
    "    file.seek(5)\n",
    "    içerik = file.read(16)\n",
    "    print(file.tell())\n",
    "    print(içerik)\n",
    "#***********************************\n",
    "    file.seek(2)\n",
    "    içerik2 = file.read(5)\n",
    "    print(file.tell())\n",
    "    print(içerik)"
   ]
  },
  {
   "cell_type": "code",
   "execution_count": 9,
   "id": "8a9961ff",
   "metadata": {},
   "outputs": [],
   "source": [
    "#********************************\n",
    "#DOSYALARDA DEĞİŞİKLİK YAPMA İŞLEMLERİ\n",
    "#seek() - write()"
   ]
  },
  {
   "cell_type": "code",
   "execution_count": 10,
   "id": "931fcda8",
   "metadata": {},
   "outputs": [
    {
     "name": "stdout",
     "output_type": "stream",
     "text": [
      "Artık Türkçe Karakterleri de anlıyorBurak Furkan ERKEMEN\n",
      "Burak Furkan ERKEMEN\n"
     ]
    }
   ],
   "source": [
    "with open(\"bilgiler.txt\",\"r+\",encoding = \"utf-8\") as file:\n",
    "    print(file.read())"
   ]
  },
  {
   "cell_type": "code",
   "execution_count": 13,
   "id": "2a4bbf22",
   "metadata": {},
   "outputs": [
    {
     "name": "stdout",
     "output_type": "stream",
     "text": [
      "ÇE\n",
      "MAYMUN\n",
      "\n"
     ]
    }
   ],
   "source": [
    "with open(\"bilgiler.txt\",\"r+\",encoding = \"utf-8\") as file:\n",
    "    file.seek(10)\n",
    "    file.write(\"ZUHAHAHA\")\n",
    "    print(file.read())"
   ]
  },
  {
   "cell_type": "code",
   "execution_count": 14,
   "id": "efeaeea2",
   "metadata": {},
   "outputs": [],
   "source": [
    "#DOSYANIN SONUNDA DEĞİŞİKLİK YAPMA "
   ]
  },
  {
   "cell_type": "code",
   "execution_count": 20,
   "id": "5c2aef05",
   "metadata": {},
   "outputs": [],
   "source": [
    "with open(\"bilgiler.txt\",\"r+\",encoding = \"utf-8\") as file:\n",
    "    file.write(\"Tüçü\\n\")"
   ]
  },
  {
   "cell_type": "code",
   "execution_count": 21,
   "id": "5d3c6112",
   "metadata": {},
   "outputs": [
    {
     "name": "stdout",
     "output_type": "stream",
     "text": [
      "Tüçü\n",
      "RZUHAHAHAÇE\n",
      "MAYMUN\n",
      "TüçüTüçüTüçü\n",
      "\n"
     ]
    }
   ],
   "source": [
    "with open(\"bilgiler.txt\",\"r\",encoding = \"utf-8\") as file:\n",
    "    print(file.read())"
   ]
  },
  {
   "cell_type": "code",
   "execution_count": 30,
   "id": "478c4bc0",
   "metadata": {},
   "outputs": [],
   "source": [
    "#LİSTENİN BAŞINDA DEĞİŞİKLİK YAPMA"
   ]
  },
  {
   "cell_type": "code",
   "execution_count": 31,
   "id": "4ca194d1",
   "metadata": {},
   "outputs": [
    {
     "name": "stdout",
     "output_type": "stream",
     "text": [
      "Tüçü\n",
      "RZUHAHAHAÇE\n",
      "MAYMUN\n",
      "TüçüTüçüTüçü\n",
      "\n"
     ]
    }
   ],
   "source": [
    "with open(\"bilgiler.txt\",\"r+\",encoding = \"utf-8\") as file:\n",
    "    içerik = file.read()\n",
    "    içerik = \"Burak Furkan\\n\"+içerik\n",
    "    file.seek(0)\n",
    "    print(file.read())\n",
    "    file.write(içerik)"
   ]
  },
  {
   "cell_type": "code",
   "execution_count": 32,
   "id": "67bca666",
   "metadata": {},
   "outputs": [
    {
     "name": "stdout",
     "output_type": "stream",
     "text": [
      "Tüçü\n",
      "RZUHAHAHAÇE\n",
      "MAYMUN\n",
      "TüçüTüçüTüçü\n",
      "Burak Furkan\n",
      "Tüçü\n",
      "RZUHAHAHAÇE\n",
      "MAYMUN\n",
      "TüçüTüçüTüçü\n",
      "\n"
     ]
    }
   ],
   "source": [
    "with open(\"bilgiler.txt\",\"r\",encoding = \"utf-8\") as file:\n",
    "    print(file.read())"
   ]
  },
  {
   "cell_type": "code",
   "execution_count": 33,
   "id": "ae213860",
   "metadata": {},
   "outputs": [],
   "source": [
    "#DOSYA ORTASINDA DEĞİŞİKLİK YAPMA\n",
    "#readline(fonksiyonu)"
   ]
  },
  {
   "cell_type": "code",
   "execution_count": 35,
   "id": "abb5b636",
   "metadata": {},
   "outputs": [
    {
     "name": "stdout",
     "output_type": "stream",
     "text": [
      "['BURAK \\n', 'FURKAN\\n', 'TUĞÇE\\n', 'NURİ\\n', 'MUHİTTİN']\n"
     ]
    }
   ],
   "source": [
    "with open(\"bilgiler.txt\",\"r+\",encoding = \"utf-8\") as file:\n",
    "    liste = file.readlines()\n",
    "    print(liste)"
   ]
  },
  {
   "cell_type": "code",
   "execution_count": 41,
   "id": "52364e50",
   "metadata": {},
   "outputs": [],
   "source": [
    "with open(\"bilgiler.txt\",\"r+\",encoding = \"utf-8\") as file:\n",
    "    liste = file.readlines()\n",
    "    liste.insert(2,\"TÜÇÜM\\n\")\n",
    "    file.seek(0)\n",
    "    file.writelines(liste)"
   ]
  },
  {
   "cell_type": "code",
   "execution_count": 43,
   "id": "aa6555d9",
   "metadata": {},
   "outputs": [
    {
     "name": "stdout",
     "output_type": "stream",
     "text": [
      "BURAK \n",
      "FURKAN\n",
      "TÜÇÜM\n",
      "TUĞÇE\n",
      "NURİ\n",
      "MUHİTTİN\n"
     ]
    }
   ],
   "source": [
    "with open(\"bilgiler.txt\",\"r+\",encoding = \"utf-8\") as file:\n",
    "    print(file.read())"
   ]
  },
  {
   "cell_type": "code",
   "execution_count": null,
   "id": "85353fee",
   "metadata": {},
   "outputs": [],
   "source": []
  }
 ],
 "metadata": {
  "kernelspec": {
   "display_name": "Python 3 (ipykernel)",
   "language": "python",
   "name": "python3"
  },
  "language_info": {
   "codemirror_mode": {
    "name": "ipython",
    "version": 3
   },
   "file_extension": ".py",
   "mimetype": "text/x-python",
   "name": "python",
   "nbconvert_exporter": "python",
   "pygments_lexer": "ipython3",
   "version": "3.9.7"
  }
 },
 "nbformat": 4,
 "nbformat_minor": 5
}
