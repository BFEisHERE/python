{
 "cells": [
  {
   "cell_type": "code",
   "execution_count": null,
   "id": "d0ac99e8",
   "metadata": {},
   "outputs": [],
   "source": [
    "#GÖMÜLÜ FONLSİYONLAR\n",
    "#MAP FONKSİYONU\n",
    "#map(fonksiyon,iterasyon yapılabilecek veritipi(liste,demet,vb..),....)\n",
    "# ilk parametre olarak fonksiyo objesi alır."
   ]
  },
  {
   "cell_type": "code",
   "execution_count": null,
   "id": "366619de",
   "metadata": {},
   "outputs": [],
   "source": [
    "def double(x):\n",
    "    return x*2"
   ]
  },
  {
   "cell_type": "code",
   "execution_count": null,
   "id": "b896e06b",
   "metadata": {},
   "outputs": [],
   "source": [
    "map(double,[1,2,3,4,5,6,7])"
   ]
  },
  {
   "cell_type": "code",
   "execution_count": null,
   "id": "e9408ec6",
   "metadata": {},
   "outputs": [],
   "source": [
    "list(map(double,[1,2,3,4,5,6,7]))"
   ]
  },
  {
   "cell_type": "code",
   "execution_count": null,
   "id": "241dd08a",
   "metadata": {},
   "outputs": [],
   "source": [
    "list(map(lambda x: x **2,(1,2,3,4,5,6,7,8,9,10)))\n"
   ]
  },
  {
   "cell_type": "code",
   "execution_count": null,
   "id": "845073e3",
   "metadata": {},
   "outputs": [],
   "source": [
    "liste1 = [1,2,3,4,5]\n",
    "liste2=[5,6,7,8,5]\n",
    "liste3 = [9,10,11,12,13]\n",
    "list(map(lambda x,y:x*y,liste1,liste2))"
   ]
  },
  {
   "cell_type": "code",
   "execution_count": null,
   "id": "da5ea5a3",
   "metadata": {},
   "outputs": [],
   "source": [
    "list(map(lambda x,y,z:x*y+z,liste1,liste2,liste3))"
   ]
  },
  {
   "cell_type": "code",
   "execution_count": null,
   "id": "1fb02973",
   "metadata": {},
   "outputs": [],
   "source": [
    "#**********************************************\n",
    "#reduce fonksiyonu\n",
    "#reduce(fonksiyon,iterasyon yapılabilen veri tipi(list,demet,vb))\n",
    "#listenin ilk 2 elemanı işlemi yapar sonra 3. elemana gönderir ve daha sonra\n",
    "#işlemın sonunda bir değer gönderir"
   ]
  },
  {
   "cell_type": "code",
   "execution_count": 20,
   "id": "3ced7a1d",
   "metadata": {},
   "outputs": [],
   "source": [
    "from functools import reduce"
   ]
  },
  {
   "cell_type": "code",
   "execution_count": 21,
   "id": "8a9d4999",
   "metadata": {},
   "outputs": [],
   "source": [
    "def toplama(x,y):\n",
    "    return x+y"
   ]
  },
  {
   "cell_type": "code",
   "execution_count": 22,
   "id": "f6d552e0",
   "metadata": {},
   "outputs": [
    {
     "data": {
      "text/plain": [
       "55"
      ]
     },
     "execution_count": 22,
     "metadata": {},
     "output_type": "execute_result"
    }
   ],
   "source": [
    "reduce(toplama,[5,10,15,25])"
   ]
  },
  {
   "cell_type": "code",
   "execution_count": 23,
   "id": "a337f249",
   "metadata": {},
   "outputs": [
    {
     "data": {
      "text/plain": [
       "120"
      ]
     },
     "execution_count": 23,
     "metadata": {},
     "output_type": "execute_result"
    }
   ],
   "source": [
    "reduce(lambda x,y:x*y,[1,2,3,4,5])#faktoriyel bulmak gibi"
   ]
  },
  {
   "cell_type": "code",
   "execution_count": 24,
   "id": "780cb743",
   "metadata": {},
   "outputs": [],
   "source": [
    "def maksimum(x,y):\n",
    "    if(x>y):\n",
    "        return x\n",
    "    else:\n",
    "        return y"
   ]
  },
  {
   "cell_type": "code",
   "execution_count": 25,
   "id": "22667ad0",
   "metadata": {},
   "outputs": [
    {
     "data": {
      "text/plain": [
       "3"
      ]
     },
     "execution_count": 25,
     "metadata": {},
     "output_type": "execute_result"
    }
   ],
   "source": [
    "reduce(maksimum,[-2,3,1,-4])"
   ]
  },
  {
   "cell_type": "code",
   "execution_count": 26,
   "id": "a1ceb60a",
   "metadata": {},
   "outputs": [],
   "source": [
    "#*************************************\n",
    "#filter fonksiyon\n",
    "#filter(fonksiyon,iterasyon yapılabilen veri tipi(list,demet,vb))\n",
    "#fonksiyon true veya false donmek zorunda"
   ]
  },
  {
   "cell_type": "code",
   "execution_count": 27,
   "id": "0ebdffae",
   "metadata": {},
   "outputs": [
    {
     "data": {
      "text/plain": [
       "[2, 4, 6, 8]"
      ]
     },
     "execution_count": 27,
     "metadata": {},
     "output_type": "execute_result"
    }
   ],
   "source": [
    "list(filter(lambda x: x%2==0,[1,2,3,4,5,6,7,8]))"
   ]
  },
  {
   "cell_type": "code",
   "execution_count": 28,
   "id": "5bfeeee5",
   "metadata": {},
   "outputs": [],
   "source": [
    "def asalmı(x):\n",
    "    i = 2\n",
    "    if(x == 1):\n",
    "        return False\n",
    "    elif(x == 2):\n",
    "        return True\n",
    "    else:\n",
    "        while(1<x):\n",
    "            if(x%i==0):\n",
    "                return False\n",
    "            i +=1\n",
    "        return True"
   ]
  },
  {
   "cell_type": "code",
   "execution_count": 29,
   "id": "85901980",
   "metadata": {},
   "outputs": [
    {
     "data": {
      "text/plain": [
       "[2]"
      ]
     },
     "execution_count": 29,
     "metadata": {},
     "output_type": "execute_result"
    }
   ],
   "source": [
    "list(filter(asalmı,range(1,100)))"
   ]
  },
  {
   "cell_type": "code",
   "execution_count": 30,
   "id": "e4ccdc14",
   "metadata": {},
   "outputs": [],
   "source": [
    "#***************************************************************\n",
    "#zip fonksiyonu"
   ]
  },
  {
   "cell_type": "code",
   "execution_count": 31,
   "id": "ad23cb4a",
   "metadata": {},
   "outputs": [],
   "source": [
    "liste1 = [1,2,3,4,5]\n",
    "liste2=[6,7,8,9,10,11]\n",
    "#sonuc [1,6],[2,7],...."
   ]
  },
  {
   "cell_type": "code",
   "execution_count": 32,
   "id": "71b9f498",
   "metadata": {},
   "outputs": [
    {
     "name": "stdout",
     "output_type": "stream",
     "text": [
      "[(1, 6), (2, 7), (3, 8), (4, 9), (5, 10)]\n"
     ]
    }
   ],
   "source": [
    "i = 0\n",
    "sonuç = list()\n",
    "while(i<len(liste1)and i<len(liste2)):\n",
    "    sonuç.append((liste1[i],liste2[i]))\n",
    "    i += 1\n",
    "print(sonuç)"
   ]
  },
  {
   "cell_type": "code",
   "execution_count": 33,
   "id": "a338aeb9",
   "metadata": {},
   "outputs": [
    {
     "data": {
      "text/plain": [
       "<zip at 0x205ab1e4cc0>"
      ]
     },
     "execution_count": 33,
     "metadata": {},
     "output_type": "execute_result"
    }
   ],
   "source": [
    "zip(liste1,liste2)"
   ]
  },
  {
   "cell_type": "code",
   "execution_count": 34,
   "id": "cc362470",
   "metadata": {},
   "outputs": [
    {
     "data": {
      "text/plain": [
       "[(1, 6), (2, 7), (3, 8), (4, 9), (5, 10)]"
      ]
     },
     "execution_count": 34,
     "metadata": {},
     "output_type": "execute_result"
    }
   ],
   "source": [
    "list(zip(liste1,liste2))"
   ]
  },
  {
   "cell_type": "code",
   "execution_count": 35,
   "id": "57ba974f",
   "metadata": {},
   "outputs": [
    {
     "data": {
      "text/plain": [
       "[(1, 6, 'Python'), (2, 7, 'Php'), (3, 8, 'Java'), (4, 9, 'Js')]"
      ]
     },
     "execution_count": 35,
     "metadata": {},
     "output_type": "execute_result"
    }
   ],
   "source": [
    "liste1 = [1,2,3,4,5]\n",
    "liste2=[6,7,8,9,10,11]\n",
    "liste3=[\"Python\",\"Php\",\"Java\",\"Js\"]\n",
    "\n",
    "list(zip(liste1,liste2,liste3))"
   ]
  },
  {
   "cell_type": "code",
   "execution_count": 36,
   "id": "c8b0d742",
   "metadata": {},
   "outputs": [],
   "source": [
    "liste1 = [1,2,3,4,5]\n",
    "liste2=[\"Python\",\"Php\",\"Java\",\"Js\"]"
   ]
  },
  {
   "cell_type": "code",
   "execution_count": 38,
   "id": "57ea5907",
   "metadata": {},
   "outputs": [
    {
     "name": "stdout",
     "output_type": "stream",
     "text": [
      "1 Python\n",
      "2 Php\n",
      "3 Java\n",
      "4 Js\n"
     ]
    }
   ],
   "source": [
    "for i,j in zip(liste1,liste2):\n",
    "    print(i,j)"
   ]
  },
  {
   "cell_type": "code",
   "execution_count": 39,
   "id": "822b8aff",
   "metadata": {},
   "outputs": [],
   "source": [
    "sözlük1 = {\"elma\":1,\"Armut\":2,\"Kiraz\":3}\n",
    "sözlük2 = {\"Sıfır\":0,\"Bir\":1,\"İki\":2}"
   ]
  },
  {
   "cell_type": "code",
   "execution_count": 40,
   "id": "a53c0436",
   "metadata": {},
   "outputs": [
    {
     "data": {
      "text/plain": [
       "[('elma', 'Sıfır'), ('Armut', 'Bir'), ('Kiraz', 'İki')]"
      ]
     },
     "execution_count": 40,
     "metadata": {},
     "output_type": "execute_result"
    }
   ],
   "source": [
    "list(zip(sözlük1,sözlük2))"
   ]
  },
  {
   "cell_type": "code",
   "execution_count": 41,
   "id": "ef68d422",
   "metadata": {},
   "outputs": [
    {
     "data": {
      "text/plain": [
       "[(1, 0), (2, 1), (3, 2)]"
      ]
     },
     "execution_count": 41,
     "metadata": {},
     "output_type": "execute_result"
    }
   ],
   "source": [
    "list(zip(sözlük1.values(),sözlük2.values()))"
   ]
  },
  {
   "cell_type": "code",
   "execution_count": 1,
   "id": "2d02fb9b",
   "metadata": {},
   "outputs": [],
   "source": [
    "#***********************************************\n",
    "#Enumerate Fonksiyonu"
   ]
  },
  {
   "cell_type": "code",
   "execution_count": 2,
   "id": "cdc6339a",
   "metadata": {},
   "outputs": [
    {
     "name": "stdout",
     "output_type": "stream",
     "text": [
      "[(0, 'elmma'), (1, 'armut'), (2, 'muz'), (3, 'kiraz')]\n"
     ]
    }
   ],
   "source": [
    "liste = [\"elmma\",\"armut\",\"muz\",\"kiraz\"]\n",
    "i=0\n",
    "sonuç = list()\n",
    "while(i<len(liste)):\n",
    "    sonuç.append((i,liste[i]))\n",
    "    i+=1\n",
    "print(sonuç)"
   ]
  },
  {
   "cell_type": "code",
   "execution_count": 3,
   "id": "b8ce0d7e",
   "metadata": {},
   "outputs": [
    {
     "data": {
      "text/plain": [
       "<enumerate at 0x1c20c4a6d80>"
      ]
     },
     "execution_count": 3,
     "metadata": {},
     "output_type": "execute_result"
    }
   ],
   "source": [
    "enumerate(liste)"
   ]
  },
  {
   "cell_type": "code",
   "execution_count": 4,
   "id": "12b89364",
   "metadata": {},
   "outputs": [
    {
     "data": {
      "text/plain": [
       "[(0, 'elmma'), (1, 'armut'), (2, 'muz'), (3, 'kiraz')]"
      ]
     },
     "execution_count": 4,
     "metadata": {},
     "output_type": "execute_result"
    }
   ],
   "source": [
    "list(enumerate(liste))"
   ]
  },
  {
   "cell_type": "code",
   "execution_count": 5,
   "id": "baf50d7f",
   "metadata": {},
   "outputs": [
    {
     "name": "stdout",
     "output_type": "stream",
     "text": [
      "0 elmma\n",
      "1 armut\n",
      "2 muz\n",
      "3 kiraz\n"
     ]
    }
   ],
   "source": [
    "for i,j in enumerate(liste):\n",
    "    print(i,j)"
   ]
  },
  {
   "cell_type": "code",
   "execution_count": 6,
   "id": "94100e84",
   "metadata": {},
   "outputs": [],
   "source": [
    "liste=[\"a\",\"b\",\"c\",\"d\",\"e\",\"f\",\"g\"]"
   ]
  },
  {
   "cell_type": "code",
   "execution_count": 7,
   "id": "48e363da",
   "metadata": {},
   "outputs": [
    {
     "name": "stdout",
     "output_type": "stream",
     "text": [
      "a\n",
      "c\n",
      "e\n",
      "g\n"
     ]
    }
   ],
   "source": [
    "for i,j in enumerate(liste):\n",
    "    if(i%2 ==0):\n",
    "        print(j)"
   ]
  },
  {
   "cell_type": "code",
   "execution_count": 1,
   "id": "5d55d75f",
   "metadata": {},
   "outputs": [],
   "source": [
    "#*******************************************\n",
    "#all - any fonksiyonları"
   ]
  },
  {
   "cell_type": "code",
   "execution_count": 3,
   "id": "49496b91",
   "metadata": {},
   "outputs": [],
   "source": [
    "def hepsi(liste):\n",
    "    for i in liste:\n",
    "        if not i:\n",
    "            return False\n",
    "    return True"
   ]
  },
  {
   "cell_type": "code",
   "execution_count": 4,
   "id": "1a3605f4",
   "metadata": {},
   "outputs": [],
   "source": [
    "liste = [True,False,True,False,True]"
   ]
  },
  {
   "cell_type": "code",
   "execution_count": 5,
   "id": "cd75f126",
   "metadata": {},
   "outputs": [
    {
     "data": {
      "text/plain": [
       "False"
      ]
     },
     "execution_count": 5,
     "metadata": {},
     "output_type": "execute_result"
    }
   ],
   "source": [
    "hepsi(liste)"
   ]
  },
  {
   "cell_type": "code",
   "execution_count": 6,
   "id": "d0a98902",
   "metadata": {},
   "outputs": [],
   "source": [
    "liste = [1,2,3,4,5]"
   ]
  },
  {
   "cell_type": "code",
   "execution_count": 7,
   "id": "43a71ffb",
   "metadata": {},
   "outputs": [
    {
     "data": {
      "text/plain": [
       "True"
      ]
     },
     "execution_count": 7,
     "metadata": {},
     "output_type": "execute_result"
    }
   ],
   "source": [
    "hepsi(liste)"
   ]
  },
  {
   "cell_type": "code",
   "execution_count": 8,
   "id": "3adc58ec",
   "metadata": {},
   "outputs": [],
   "source": [
    "def herhangi(liste):\n",
    "    for i in liste:\n",
    "        if i:\n",
    "            return True\n",
    "    return False"
   ]
  },
  {
   "cell_type": "code",
   "execution_count": 9,
   "id": "5d37e0dd",
   "metadata": {},
   "outputs": [
    {
     "data": {
      "text/plain": [
       "True"
      ]
     },
     "execution_count": 9,
     "metadata": {},
     "output_type": "execute_result"
    }
   ],
   "source": [
    "liste = [True,False,True,False,True]\n",
    "herhangi(liste)"
   ]
  },
  {
   "cell_type": "code",
   "execution_count": 10,
   "id": "848f78c3",
   "metadata": {},
   "outputs": [],
   "source": [
    "liste = [0,0,0,0,0,0,0,0,0]"
   ]
  },
  {
   "cell_type": "code",
   "execution_count": 11,
   "id": "dd60a0b2",
   "metadata": {},
   "outputs": [
    {
     "data": {
      "text/plain": [
       "False"
      ]
     },
     "execution_count": 11,
     "metadata": {},
     "output_type": "execute_result"
    }
   ],
   "source": [
    "herhangi(liste)"
   ]
  },
  {
   "cell_type": "code",
   "execution_count": 13,
   "id": "76661c0e",
   "metadata": {},
   "outputs": [
    {
     "data": {
      "text/plain": [
       "False"
      ]
     },
     "execution_count": 13,
     "metadata": {},
     "output_type": "execute_result"
    }
   ],
   "source": [
    "liste = [True,False,True,False,True]\n",
    "all(liste) #İÇİNDEKİ BÜTÜN DEĞERLER TRUE İSE TRUE \n",
    "#EĞER BİR TANE FALSE VARSA FALSE OLUR"
   ]
  },
  {
   "cell_type": "code",
   "execution_count": 14,
   "id": "ac25c278",
   "metadata": {},
   "outputs": [
    {
     "data": {
      "text/plain": [
       "True"
      ]
     },
     "execution_count": 14,
     "metadata": {},
     "output_type": "execute_result"
    }
   ],
   "source": [
    "liste = [1,1,1,1,1,1,1]\n",
    "all(liste)"
   ]
  },
  {
   "cell_type": "code",
   "execution_count": 15,
   "id": "3c2d443f",
   "metadata": {},
   "outputs": [
    {
     "data": {
      "text/plain": [
       "True"
      ]
     },
     "execution_count": 15,
     "metadata": {},
     "output_type": "execute_result"
    }
   ],
   "source": [
    "liste = [True,False,True,False,True]\n",
    "any(liste) #BÜTÜN DEĞERLER FALSE İSE FALSE DEĞERİNİ DÖNDÜRÜR\n",
    "#EĞER BİR TRUE VARSA TRUE DEĞERİNİ DÖNDÜRÜR"
   ]
  },
  {
   "cell_type": "code",
   "execution_count": 16,
   "id": "2e165740",
   "metadata": {},
   "outputs": [
    {
     "data": {
      "text/plain": [
       "True"
      ]
     },
     "execution_count": 16,
     "metadata": {},
     "output_type": "execute_result"
    }
   ],
   "source": [
    "any([False,False,False,False,False,False,False,True])"
   ]
  },
  {
   "cell_type": "code",
   "execution_count": 18,
   "id": "33b8e854",
   "metadata": {},
   "outputs": [
    {
     "data": {
      "text/plain": [
       "False"
      ]
     },
     "execution_count": 18,
     "metadata": {},
     "output_type": "execute_result"
    }
   ],
   "source": [
    "all([True,True,True,True,True,True,False])"
   ]
  },
  {
   "cell_type": "code",
   "execution_count": null,
   "id": "28beb14d",
   "metadata": {},
   "outputs": [],
   "source": []
  }
 ],
 "metadata": {
  "kernelspec": {
   "display_name": "Python 3 (ipykernel)",
   "language": "python",
   "name": "python3"
  },
  "language_info": {
   "codemirror_mode": {
    "name": "ipython",
    "version": 3
   },
   "file_extension": ".py",
   "mimetype": "text/x-python",
   "name": "python",
   "nbconvert_exporter": "python",
   "pygments_lexer": "ipython3",
   "version": "3.9.7"
  }
 },
 "nbformat": 4,
 "nbformat_minor": 5
}
