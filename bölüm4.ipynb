{
 "cells": [
  {
   "cell_type": "code",
   "execution_count": 1,
   "id": "6fe22a20",
   "metadata": {},
   "outputs": [],
   "source": [
    "#BÖLÜM4 \n",
    "#MANTIKSAL DEĞERLER VE KARŞILAŞTIRMA OPERATÖRLERİ"
   ]
  },
  {
   "cell_type": "code",
   "execution_count": 2,
   "id": "9aa5c2a1",
   "metadata": {},
   "outputs": [
    {
     "name": "stdout",
     "output_type": "stream",
     "text": [
      "<class 'bool'>\n"
     ]
    }
   ],
   "source": [
    "#boolean\n",
    "a=True\n",
    "print(type(a))"
   ]
  },
  {
   "cell_type": "code",
   "execution_count": 3,
   "id": "295ce18e",
   "metadata": {},
   "outputs": [
    {
     "data": {
      "text/plain": [
       "bool"
      ]
     },
     "execution_count": 3,
     "metadata": {},
     "output_type": "execute_result"
    }
   ],
   "source": [
    "b=False\n",
    "type(b)"
   ]
  },
  {
   "cell_type": "code",
   "execution_count": 13,
   "id": "639bbe9a",
   "metadata": {},
   "outputs": [
    {
     "data": {
      "text/plain": [
       "True"
      ]
     },
     "execution_count": 13,
     "metadata": {},
     "output_type": "execute_result"
    }
   ],
   "source": [
    "1 == 1"
   ]
  },
  {
   "cell_type": "code",
   "execution_count": 14,
   "id": "8fad9b05",
   "metadata": {},
   "outputs": [
    {
     "data": {
      "text/plain": [
       "False"
      ]
     },
     "execution_count": 14,
     "metadata": {},
     "output_type": "execute_result"
    }
   ],
   "source": [
    "1 == 2"
   ]
  },
  {
   "cell_type": "code",
   "execution_count": 15,
   "id": "4b4130d2",
   "metadata": {},
   "outputs": [],
   "source": [
    "#KARŞILAŞTIRMA OPERATÖRLERİ !!!\n",
    "#== iki değer eşitse true değilse false döner\n",
    "#!= eşit değil mi? iki değr eşit değilse true eşitse false döner\n",
    "#> soldaki değer sağdakinden büyükse true değilse false döner\n",
    "#< sağdaki değer soldakinden büyükse true değilse false döner\n",
    "#>= soldaki değer sağdakine büyük veya eşitse true değilse false \n",
    "#<= sağdaki değer soldakinden büyük veya eşitse true değilse false "
   ]
  },
  {
   "cell_type": "code",
   "execution_count": 16,
   "id": "dfdc8e59",
   "metadata": {},
   "outputs": [
    {
     "data": {
      "text/plain": [
       "True"
      ]
     },
     "execution_count": 16,
     "metadata": {},
     "output_type": "execute_result"
    }
   ],
   "source": [
    "\"BURAK\" == \"BURAK\""
   ]
  },
  {
   "cell_type": "code",
   "execution_count": 17,
   "id": "822d954d",
   "metadata": {},
   "outputs": [
    {
     "data": {
      "text/plain": [
       "False"
      ]
     },
     "execution_count": 17,
     "metadata": {},
     "output_type": "execute_result"
    }
   ],
   "source": [
    "\"BURAK\" == \"burak\""
   ]
  },
  {
   "cell_type": "code",
   "execution_count": 18,
   "id": "16434338",
   "metadata": {},
   "outputs": [
    {
     "data": {
      "text/plain": [
       "True"
      ]
     },
     "execution_count": 18,
     "metadata": {},
     "output_type": "execute_result"
    }
   ],
   "source": [
    "\"Burak\" != \"BURAK\""
   ]
  },
  {
   "cell_type": "code",
   "execution_count": 20,
   "id": "3152422c",
   "metadata": {},
   "outputs": [
    {
     "data": {
      "text/plain": [
       "False"
      ]
     },
     "execution_count": 20,
     "metadata": {},
     "output_type": "execute_result"
    }
   ],
   "source": [
    "\"burak\" != \"burak\""
   ]
  },
  {
   "cell_type": "code",
   "execution_count": 21,
   "id": "ae2ec4c2",
   "metadata": {},
   "outputs": [
    {
     "data": {
      "text/plain": [
       "False"
      ]
     },
     "execution_count": 21,
     "metadata": {},
     "output_type": "execute_result"
    }
   ],
   "source": [
    "0 > 1 "
   ]
  },
  {
   "cell_type": "code",
   "execution_count": 22,
   "id": "7efdffa9",
   "metadata": {},
   "outputs": [
    {
     "data": {
      "text/plain": [
       "True"
      ]
     },
     "execution_count": 22,
     "metadata": {},
     "output_type": "execute_result"
    }
   ],
   "source": [
    "0 > -1"
   ]
  },
  {
   "cell_type": "code",
   "execution_count": 23,
   "id": "314d42e1",
   "metadata": {},
   "outputs": [
    {
     "data": {
      "text/plain": [
       "True"
      ]
     },
     "execution_count": 23,
     "metadata": {},
     "output_type": "execute_result"
    }
   ],
   "source": [
    "0 < 1"
   ]
  },
  {
   "cell_type": "code",
   "execution_count": 24,
   "id": "f2151836",
   "metadata": {},
   "outputs": [
    {
     "data": {
      "text/plain": [
       "False"
      ]
     },
     "execution_count": 24,
     "metadata": {},
     "output_type": "execute_result"
    }
   ],
   "source": [
    "0 < -1"
   ]
  },
  {
   "cell_type": "code",
   "execution_count": 25,
   "id": "7e2102f1",
   "metadata": {},
   "outputs": [
    {
     "data": {
      "text/plain": [
       "True"
      ]
     },
     "execution_count": 25,
     "metadata": {},
     "output_type": "execute_result"
    }
   ],
   "source": [
    "0 <= 1 "
   ]
  },
  {
   "cell_type": "code",
   "execution_count": 26,
   "id": "3247cc5f",
   "metadata": {},
   "outputs": [
    {
     "data": {
      "text/plain": [
       "False"
      ]
     },
     "execution_count": 26,
     "metadata": {},
     "output_type": "execute_result"
    }
   ],
   "source": [
    "0>=1"
   ]
  },
  {
   "cell_type": "code",
   "execution_count": 27,
   "id": "ba712bd4",
   "metadata": {},
   "outputs": [
    {
     "data": {
      "text/plain": [
       "True"
      ]
     },
     "execution_count": 27,
     "metadata": {},
     "output_type": "execute_result"
    }
   ],
   "source": [
    "0 <=0 "
   ]
  },
  {
   "cell_type": "code",
   "execution_count": 28,
   "id": "e1f43a9d",
   "metadata": {},
   "outputs": [],
   "source": [
    "#MANTIK OPERATÖRLERİ !!!!!!!!!!!!!!!11\n",
    "#and operatörü"
   ]
  },
  {
   "cell_type": "code",
   "execution_count": 30,
   "id": "d4fc0d50",
   "metadata": {},
   "outputs": [
    {
     "data": {
      "text/plain": [
       "True"
      ]
     },
     "execution_count": 30,
     "metadata": {},
     "output_type": "execute_result"
    }
   ],
   "source": [
    "#her işlem kendi içinde true ise sonuç true değilse false çıkar\n",
    "1<2 and \"burak\"==\"burak\""
   ]
  },
  {
   "cell_type": "code",
   "execution_count": 31,
   "id": "bd4af1a1",
   "metadata": {},
   "outputs": [
    {
     "data": {
      "text/plain": [
       "False"
      ]
     },
     "execution_count": 31,
     "metadata": {},
     "output_type": "execute_result"
    }
   ],
   "source": [
    "1>2 and \"burak\" == \"burak\""
   ]
  },
  {
   "cell_type": "code",
   "execution_count": 32,
   "id": "a09e4510",
   "metadata": {},
   "outputs": [
    {
     "data": {
      "text/plain": [
       "True"
      ]
     },
     "execution_count": 32,
     "metadata": {},
     "output_type": "execute_result"
    }
   ],
   "source": [
    "#or operatörü \n",
    "#bir tane true işlem olsa bile sonucu true cıkartır\n",
    "1<2 or 1>2 or 3>56 "
   ]
  },
  {
   "cell_type": "code",
   "execution_count": 33,
   "id": "a3c6c84a",
   "metadata": {},
   "outputs": [
    {
     "data": {
      "text/plain": [
       "False"
      ]
     },
     "execution_count": 33,
     "metadata": {},
     "output_type": "execute_result"
    }
   ],
   "source": [
    "1>2 or \"Burak\" == \"burak\""
   ]
  },
  {
   "cell_type": "code",
   "execution_count": 34,
   "id": "2815c7af",
   "metadata": {},
   "outputs": [
    {
     "data": {
      "text/plain": [
       "True"
      ]
     },
     "execution_count": 34,
     "metadata": {},
     "output_type": "execute_result"
    }
   ],
   "source": [
    "#not operatörü\n",
    "#işlemin sonucunu değiştirir\n",
    "2 == 2 "
   ]
  },
  {
   "cell_type": "code",
   "execution_count": 35,
   "id": "0c6f2acf",
   "metadata": {},
   "outputs": [
    {
     "data": {
      "text/plain": [
       "False"
      ]
     },
     "execution_count": 35,
     "metadata": {},
     "output_type": "execute_result"
    }
   ],
   "source": [
    "not 2 == 2 "
   ]
  },
  {
   "cell_type": "code",
   "execution_count": 36,
   "id": "0bb4cf5d",
   "metadata": {},
   "outputs": [
    {
     "data": {
      "text/plain": [
       "True"
      ]
     },
     "execution_count": 36,
     "metadata": {},
     "output_type": "execute_result"
    }
   ],
   "source": [
    "#operatörlerin beraber kullanımı\n",
    "not (2.14>3.40 or (2 != 2 and \"Burak\" == \"Burak\"))"
   ]
  },
  {
   "cell_type": "code",
   "execution_count": 37,
   "id": "6d1b1bac",
   "metadata": {},
   "outputs": [],
   "source": [
    "#!!!!!!!!!!!!!!!!!!!!!!!!!!!!!!!!!!!!!!!!!!!!!!!!!!!!!!!!!!!!!!!"
   ]
  },
  {
   "cell_type": "code",
   "execution_count": 1,
   "id": "c28bb5eb",
   "metadata": {},
   "outputs": [
    {
     "name": "stdout",
     "output_type": "stream",
     "text": [
      "9\n"
     ]
    }
   ],
   "source": [
    "#KOŞULLU İFADELER İF-ELSE DURUMLARI!!!!!\n",
    "a=2\n",
    "b=3\n",
    "c=4\n",
    "print(a+b+c)"
   ]
  },
  {
   "cell_type": "code",
   "execution_count": 4,
   "id": "d27c984c",
   "metadata": {},
   "outputs": [
    {
     "name": "stdout",
     "output_type": "stream",
     "text": [
      "2\n",
      "Merhaba\n"
     ]
    }
   ],
   "source": [
    "a=2 #block 1 e ait kod\n",
    "\n",
    "if(a == 2):\n",
    "    print(a) #block 3 e ait kod !!!!!!!!!!\n",
    "print(\"Merhaba\")#block 1 e ait kod"
   ]
  },
  {
   "cell_type": "code",
   "execution_count": 5,
   "id": "52b58208",
   "metadata": {},
   "outputs": [],
   "source": [
    "#if(koşul):\n",
    "#    if bloğu- koşul true olursa calısır\n",
    "#    if bloğu girintiyle oluşturulur!\n",
    "#else:\n",
    "#    else bloğu - if in tersi \n",
    "#elif:     ---> else if aynı mantık!!\n",
    "#    elif bloğu"
   ]
  },
  {
   "cell_type": "code",
   "execution_count": 14,
   "id": "0e22e4cb",
   "metadata": {},
   "outputs": [
    {
     "name": "stdout",
     "output_type": "stream",
     "text": [
      "Yaşınızı Giriniz:32\n",
      "Mekana girebilirsin\n"
     ]
    }
   ],
   "source": [
    "#mekan programı!\n",
    "yaş = int(input(\"Yaşınızı Giriniz:\"))\n",
    "if(yaş < 18):\n",
    "    print(\"Mekana giremezsiniz\")\n",
    "else:\n",
    "    print(\"Mekana girebilirsin\")"
   ]
  },
  {
   "cell_type": "code",
   "execution_count": 15,
   "id": "fe44d0cb",
   "metadata": {},
   "outputs": [
    {
     "name": "stdout",
     "output_type": "stream",
     "text": [
      "sayı:31\n",
      "sıfır veya pozitif sayıdır\n"
     ]
    }
   ],
   "source": [
    "sayı = int(input(\"sayı:\"))\n",
    "if(sayı<0):\n",
    "    print(\"Negatif\")\n",
    "else:\n",
    "    print(\"sıfır veya pozitif sayıdır\")"
   ]
  },
  {
   "cell_type": "code",
   "execution_count": 17,
   "id": "fbecae0d",
   "metadata": {},
   "outputs": [
    {
     "name": "stdout",
     "output_type": "stream",
     "text": [
      "sayı:0\n",
      "nötr sayı\n"
     ]
    }
   ],
   "source": [
    "sayı = int(input(\"sayı:\"))\n",
    "if(sayı<0):\n",
    "    print(\"negatif\")\n",
    "elif(sayı==0):\n",
    "    print(\"nötr sayı\")\n",
    "else:\n",
    "    print(\"pozitif\")"
   ]
  },
  {
   "cell_type": "code",
   "execution_count": 18,
   "id": "f1908cd2",
   "metadata": {},
   "outputs": [
    {
     "name": "stdout",
     "output_type": "stream",
     "text": [
      "Not :31\n",
      "FF\n"
     ]
    }
   ],
   "source": [
    "note = float(input(\"Not :\"))\n",
    "if(note >=90):\n",
    "    print(\"AA\")\n",
    "elif(note >= 85):\n",
    "    print(\"BA\")\n",
    "elif(note >= 80):\n",
    "    print(\"BB\")\n",
    "elif(note >= 75):\n",
    "    print(\"CB\")\n",
    "elif(note >= 70):\n",
    "    print(\"CC\")\n",
    "elif(note >= 60):\n",
    "    print(\"DD\")\n",
    "elif(note >= 50):\n",
    "    print(\"FD\")\n",
    "else:\n",
    "    print(\"FF\")"
   ]
  },
  {
   "cell_type": "code",
   "execution_count": null,
   "id": "4067a987",
   "metadata": {},
   "outputs": [],
   "source": []
  }
 ],
 "metadata": {
  "kernelspec": {
   "display_name": "Python 3 (ipykernel)",
   "language": "python",
   "name": "python3"
  },
  "language_info": {
   "codemirror_mode": {
    "name": "ipython",
    "version": 3
   },
   "file_extension": ".py",
   "mimetype": "text/x-python",
   "name": "python",
   "nbconvert_exporter": "python",
   "pygments_lexer": "ipython3",
   "version": "3.9.7"
  }
 },
 "nbformat": 4,
 "nbformat_minor": 5
}
