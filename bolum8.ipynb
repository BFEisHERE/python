{
 "cells": [
  {
   "cell_type": "code",
   "execution_count": 3,
   "id": "f1c3406e",
   "metadata": {},
   "outputs": [
    {
     "data": {
      "text/plain": [
       "'************************************************************\\n\\nBÖLÜM 8 NESNE TABANLI PROGRAMLAMA MANTIĞI\\n\\n************************************************************'"
      ]
     },
     "execution_count": 3,
     "metadata": {},
     "output_type": "execute_result"
    }
   ],
   "source": [
    "\"\"\"************************************************************\n",
    "\n",
    "BÖLÜM 8 NESNE TABANLI PROGRAMLAMA MANTIĞI\n",
    "\n",
    "************************************************************\"\"\"\n",
    "#obje/nesne oluşturarak yapılıyor. C# tarafı bu sanırım. "
   ]
  },
  {
   "cell_type": "code",
   "execution_count": 4,
   "id": "ee9665a7",
   "metadata": {},
   "outputs": [
    {
     "name": "stdout",
     "output_type": "stream",
     "text": [
      "[1, 2, 3, 4, 5, 6]\n"
     ]
    }
   ],
   "source": [
    "liste = [1,2,3,4,5] #liste objesi\n",
    "liste.append(6)\n",
    "print(liste)"
   ]
  },
  {
   "cell_type": "code",
   "execution_count": 5,
   "id": "ecf702d5",
   "metadata": {},
   "outputs": [],
   "source": [
    "#type() --> fonksiyonu her şeyin obje olduğunu gösteriyor."
   ]
  },
  {
   "cell_type": "code",
   "execution_count": 7,
   "id": "f39a782b",
   "metadata": {},
   "outputs": [],
   "source": [
    "#***********SINIFLAR VEYA CLASSLAR************"
   ]
  },
  {
   "cell_type": "code",
   "execution_count": 8,
   "id": "cddf4068",
   "metadata": {},
   "outputs": [],
   "source": [
    "#yeni bir veri tipi oluşturulur\n",
    "class car():\n",
    "    model = \"bmw\"\n",
    "    renk = \"gümüş\"\n",
    "    tork = 225\n",
    "    silindir = 4"
   ]
  },
  {
   "cell_type": "code",
   "execution_count": 14,
   "id": "3b8b441a",
   "metadata": {},
   "outputs": [
    {
     "name": "stdout",
     "output_type": "stream",
     "text": [
      "mercedes\n"
     ]
    }
   ],
   "source": [
    "car1 = car()\n",
    "car1.model = \"mercedes\"\n",
    "car1.renk = \"gumus\"\n",
    "car1.tork = 100\n",
    "car1.silindir = 2\n",
    "print(car1.model)"
   ]
  },
  {
   "cell_type": "code",
   "execution_count": 17,
   "id": "5b9448aa",
   "metadata": {},
   "outputs": [
    {
     "data": {
      "text/plain": [
       "'bmw'"
      ]
     },
     "execution_count": 17,
     "metadata": {},
     "output_type": "execute_result"
    }
   ],
   "source": [
    "car2=car()\n",
    "car2.model  # eğer ki bir değere eşitlenmezse kayıtlı değeri döndürür"
   ]
  },
  {
   "cell_type": "code",
   "execution_count": 18,
   "id": "a92d6071",
   "metadata": {},
   "outputs": [
    {
     "name": "stdout",
     "output_type": "stream",
     "text": [
      "gümüş\n"
     ]
    }
   ],
   "source": [
    "print(car.renk)"
   ]
  },
  {
   "cell_type": "code",
   "execution_count": 27,
   "id": "33806495",
   "metadata": {},
   "outputs": [
    {
     "data": {
      "text/plain": [
       "['__class__',\n",
       " '__delattr__',\n",
       " '__dict__',\n",
       " '__dir__',\n",
       " '__doc__',\n",
       " '__eq__',\n",
       " '__format__',\n",
       " '__ge__',\n",
       " '__getattribute__',\n",
       " '__gt__',\n",
       " '__hash__',\n",
       " '__init__',\n",
       " '__init_subclass__',\n",
       " '__le__',\n",
       " '__lt__',\n",
       " '__module__',\n",
       " '__ne__',\n",
       " '__new__',\n",
       " '__reduce__',\n",
       " '__reduce_ex__',\n",
       " '__repr__',\n",
       " '__setattr__',\n",
       " '__sizeof__',\n",
       " '__str__',\n",
       " '__subclasshook__',\n",
       " '__weakref__',\n",
       " 'model',\n",
       " 'renk',\n",
       " 'silindir',\n",
       " 'tork']"
      ]
     },
     "execution_count": 27,
     "metadata": {},
     "output_type": "execute_result"
    }
   ],
   "source": [
    "#_init_\n",
    "dir(car2)"
   ]
  },
  {
   "cell_type": "code",
   "execution_count": 28,
   "id": "e9e82677",
   "metadata": {},
   "outputs": [],
   "source": [
    "class car():\n",
    "    model = \"bmw\"\n",
    "    renk = \"gümüş\"\n",
    "    tork = 225\n",
    "    silindir = 4\n",
    "    def __init__(self):\n",
    "        print(\"init fonksiyonu çağrıldı\") #otomatik olarak çağrılır\n",
    "#self anahtar kelimesi obje oluşturulduğunda objeyı gösteren bır referanstır."
   ]
  },
  {
   "cell_type": "code",
   "execution_count": 30,
   "id": "7a41eb85",
   "metadata": {},
   "outputs": [
    {
     "name": "stdout",
     "output_type": "stream",
     "text": [
      "init fonksiyonu çağrıldı\n"
     ]
    }
   ],
   "source": [
    "araba1= car()"
   ]
  },
  {
   "cell_type": "code",
   "execution_count": 32,
   "id": "7034510e",
   "metadata": {},
   "outputs": [],
   "source": [
    "class araba():\n",
    "    def __init__(self,model,renk,beygir,silindir):\n",
    "        self.model = model\n",
    "        self.renk = renk\n",
    "        self.beygir = beygir\n",
    "        self.silindir = silindir\n",
    "        print(\"__init__ fonksiyonu çağruldı\")\n",
    "        print(\"Aracın modeli:{}, rengi:{}, beygir gücü:{}, silindir sayısı:{}\".format(model,renk,beygir,silindir))"
   ]
  },
  {
   "cell_type": "code",
   "execution_count": 33,
   "id": "c775a286",
   "metadata": {},
   "outputs": [
    {
     "name": "stdout",
     "output_type": "stream",
     "text": [
      "__init__ fonksiyonu çağruldı\n",
      "Aracın modeli:BMW, rengi:BLACK, beygir gücü:300, silindir sayısı:4\n"
     ]
    }
   ],
   "source": [
    "araba1 = araba(\"BMW\",\"BLACK\",300,4)"
   ]
  },
  {
   "cell_type": "code",
   "execution_count": 34,
   "id": "1f1dbac6",
   "metadata": {},
   "outputs": [],
   "source": [
    "#************METODLAR*******************\n",
    "#sınıfların içinde metodları eklemek"
   ]
  },
  {
   "cell_type": "code",
   "execution_count": 54,
   "id": "86e4885a",
   "metadata": {},
   "outputs": [],
   "source": [
    "class Yazılımcı():\n",
    "    def __init__(self,ad,soyad,maaş,no,dil):\n",
    "        self.ad = ad\n",
    "        self.soyad = soyad\n",
    "        self.maaş = maaş\n",
    "        self.no = no\n",
    "        self.dil = dil\n",
    "    def bilgilerigöster(self):\n",
    "        print(\"\"\"\n",
    "        Yazılımcı Objesinin Özellikleri\n",
    "        İsim:{}\n",
    "        Soyisim:{}\n",
    "        Maaş:{}\n",
    "        Numarası:{}\n",
    "        Diller:{}\n",
    "        \"\"\".format(self.ad,self.soyad,self.maaş,self.no,self.dil))\n",
    "    def maaş_buncelleme(self,ucret):\n",
    "        print(\"Guncelleniyor\")\n",
    "        self.maaş = ucret\n",
    "    def dil_ekle(self,yenidil):\n",
    "        print(\"Guncelleniyor\")\n",
    "        self.dil +=yenidil"
   ]
  },
  {
   "cell_type": "code",
   "execution_count": 55,
   "id": "80d308b2",
   "metadata": {},
   "outputs": [],
   "source": [
    "yazılımcı = Yazılımcı(\"Burak\",\"ERKEMEN\",3000,12345,[\"JAVA\",\"C#\",\"PYTHON\",\"JS\"])"
   ]
  },
  {
   "cell_type": "code",
   "execution_count": 56,
   "id": "834935ef",
   "metadata": {},
   "outputs": [
    {
     "name": "stdout",
     "output_type": "stream",
     "text": [
      "\n",
      "        Yazılımcı Objesinin Özellikleri\n",
      "        İsim:Burak\n",
      "        Soyisim:ERKEMEN\n",
      "        Maaş:3000\n",
      "        Numarası:12345\n",
      "        Diller:['JAVA', 'C#', 'PYTHON', 'JS']\n",
      "        \n"
     ]
    }
   ],
   "source": [
    "yazılımcı.bilgilerigöster()"
   ]
  },
  {
   "cell_type": "code",
   "execution_count": 58,
   "id": "022b9677",
   "metadata": {},
   "outputs": [
    {
     "name": "stdout",
     "output_type": "stream",
     "text": [
      "Guncelleniyor\n",
      "\n",
      "        Yazılımcı Objesinin Özellikleri\n",
      "        İsim:Burak\n",
      "        Soyisim:ERKEMEN\n",
      "        Maaş:1000\n",
      "        Numarası:12345\n",
      "        Diller:['JAVA', 'C#', 'PYTHON', 'JS']\n",
      "        \n"
     ]
    }
   ],
   "source": [
    "yazılımcı.maaş_buncelleme(1000)\n",
    "yazılımcı.bilgilerigöster()"
   ]
  },
  {
   "cell_type": "code",
   "execution_count": 61,
   "id": "5c162a1d",
   "metadata": {},
   "outputs": [
    {
     "name": "stdout",
     "output_type": "stream",
     "text": [
      "Guncelleniyor\n",
      "\n",
      "        Yazılımcı Objesinin Özellikleri\n",
      "        İsim:Burak\n",
      "        Soyisim:ERKEMEN\n",
      "        Maaş:1000\n",
      "        Numarası:12345\n",
      "        Diller:['JAVA', 'C#', 'PYTHON', 'JS', 'V', 'B', 'VB']\n",
      "        \n"
     ]
    }
   ],
   "source": [
    "yazılımcı.dil_ekle([\"VB\"])\n",
    "yazılımcı.bilgilerigöster()"
   ]
  },
  {
   "cell_type": "code",
   "execution_count": 1,
   "id": "3f774ed2",
   "metadata": {},
   "outputs": [],
   "source": [
    "#*******************INHERİTANCE(KALITIM)***************************\n",
    "#bir class başka bir classı miras alabilir"
   ]
  },
  {
   "cell_type": "code",
   "execution_count": 4,
   "id": "529e9cb1",
   "metadata": {},
   "outputs": [],
   "source": [
    "class Calısan():\n",
    "    \n",
    "    def __init__(self,isim,maas,departman):\n",
    "        print(\"Calısan sınıfının init fonksiyonu\")\n",
    "        \n",
    "        self.isim = isim\n",
    "        self.maas = maas\n",
    "        self.departman = departman\n",
    "    def bilgilerigoster(self):\n",
    "        print(\"Calısan Sınıfının Bilgilei\")\n",
    "        print(\"İsim: {}\\nMaas: {}\\nDepartman: {}\".format(self.isim,self.maas,self.departman))\n",
    "    def departmandegıstır(self,yenidepartman):\n",
    "        self.departman = yenidepartman"
   ]
  },
  {
   "cell_type": "code",
   "execution_count": 5,
   "id": "44937353",
   "metadata": {},
   "outputs": [],
   "source": [
    "class Yönetici(Calısan):\n",
    "    pass"
   ]
  },
  {
   "cell_type": "code",
   "execution_count": 6,
   "id": "0c74791a",
   "metadata": {},
   "outputs": [
    {
     "name": "stdout",
     "output_type": "stream",
     "text": [
      "Calısan sınıfının init fonksiyonu\n"
     ]
    }
   ],
   "source": [
    "yönetici = Yönetici(\"Burak\",3000,\"Yazılım\")"
   ]
  },
  {
   "cell_type": "code",
   "execution_count": 7,
   "id": "70935ab1",
   "metadata": {},
   "outputs": [
    {
     "name": "stdout",
     "output_type": "stream",
     "text": [
      "Calısan Sınıfının Bilgilei\n",
      "İsim: Burak\n",
      "Maas: 3000\n",
      "Departman: Yazılım\n"
     ]
    }
   ],
   "source": [
    "yönetici.bilgilerigoster()"
   ]
  },
  {
   "cell_type": "code",
   "execution_count": 8,
   "id": "405b0c2f",
   "metadata": {},
   "outputs": [],
   "source": [
    "yönetici.departmandegıstır(\"Teknik bilim\")"
   ]
  },
  {
   "cell_type": "code",
   "execution_count": 9,
   "id": "3a42b051",
   "metadata": {},
   "outputs": [
    {
     "name": "stdout",
     "output_type": "stream",
     "text": [
      "Calısan Sınıfının Bilgilei\n",
      "İsim: Burak\n",
      "Maas: 3000\n",
      "Departman: Teknik bilim\n"
     ]
    }
   ],
   "source": [
    "yönetici.bilgilerigoster()"
   ]
  },
  {
   "cell_type": "code",
   "execution_count": 10,
   "id": "116a2c8d",
   "metadata": {},
   "outputs": [],
   "source": [
    "class Yönetici(Calısan):\n",
    "    def zam_yap(self,zam):\n",
    "        self.maas +=zam"
   ]
  },
  {
   "cell_type": "code",
   "execution_count": 11,
   "id": "e597137b",
   "metadata": {},
   "outputs": [
    {
     "name": "stdout",
     "output_type": "stream",
     "text": [
      "Calısan sınıfının init fonksiyonu\n"
     ]
    }
   ],
   "source": [
    "yönetici = Yönetici(\"Furkan\",1250,\"Staj\")"
   ]
  },
  {
   "cell_type": "code",
   "execution_count": 14,
   "id": "83fa4920",
   "metadata": {},
   "outputs": [
    {
     "name": "stdout",
     "output_type": "stream",
     "text": [
      "Calısan Sınıfının Bilgilei\n",
      "İsim: Furkan\n",
      "Maas: 1750\n",
      "Departman: Staj\n"
     ]
    }
   ],
   "source": [
    "yönetici.zam_yap(500)\n",
    "yönetici.bilgilerigoster()"
   ]
  },
  {
   "cell_type": "code",
   "execution_count": 15,
   "id": "51f09a85",
   "metadata": {},
   "outputs": [],
   "source": [
    "#***********OVERRİDİNG(İPTAL ETME)***************\n",
    "#miras alınan metot silinir yeni yazılan kullanılır"
   ]
  },
  {
   "cell_type": "code",
   "execution_count": 16,
   "id": "8a96b56b",
   "metadata": {},
   "outputs": [],
   "source": [
    "class Calısan():\n",
    "    \n",
    "    def __init__(self,isim,maas,departman):\n",
    "        print(\"Calısan sınıfının init fonksiyonu\")\n",
    "        \n",
    "        self.isim = isim\n",
    "        self.maas = maas\n",
    "        self.departman = departman\n",
    "    def bilgilerigoster(self):\n",
    "        print(\"Calısan Sınıfının Bilgilei\")\n",
    "        print(\"İsim: {}\\nMaas: {}\\nDepartman: {}\".format(self.isim,self.maas,self.departman))\n",
    "    def departmandegıstır(self,yenidepartman):\n",
    "        self.departman = yenidepartman"
   ]
  },
  {
   "cell_type": "code",
   "execution_count": 28,
   "id": "39b8bd1c",
   "metadata": {},
   "outputs": [],
   "source": [
    "class Yönetici(Calısan):\n",
    "    def __init__(self,isim,maas,departman,kisisayısı):\n",
    "        print(\"Calısan sınıfının init fonksiyonu\")\n",
    "        \n",
    "        self.isim = isim\n",
    "        self.maas = maas\n",
    "        self.departman = departman\n",
    "        self.kisisayısı = kisisayısı\n",
    "        \n",
    "    def bilgilerigoster(self):\n",
    "        print(\"Calısan Sınıfının Bilgilei\")\n",
    "        print(\"İsim: {}\\nMaas: {}\\nDepartman: {}\\nKisi Sayısı: {}\".format(self.isim,self.maas,self.departman,self.kisisayısı))\n",
    "    def zam_yap(self,zam):\n",
    "        self.maas +=zam"
   ]
  },
  {
   "cell_type": "code",
   "execution_count": 31,
   "id": "5ee2b3ec",
   "metadata": {},
   "outputs": [
    {
     "name": "stdout",
     "output_type": "stream",
     "text": [
      "Calısan sınıfının init fonksiyonu\n"
     ]
    }
   ],
   "source": [
    "yönetici = Yönetici(\"Burak Furkan\",5000,\"Yazılım\",15)"
   ]
  },
  {
   "cell_type": "code",
   "execution_count": 32,
   "id": "9d7362de",
   "metadata": {},
   "outputs": [
    {
     "name": "stdout",
     "output_type": "stream",
     "text": [
      "Calısan Sınıfının Bilgilei\n",
      "İsim: Burak Furkan\n",
      "Maas: 5000\n",
      "Departman: Yazılım\n",
      "Kisi Sayısı: 15\n"
     ]
    }
   ],
   "source": [
    "yönetici.bilgilerigoster()"
   ]
  },
  {
   "cell_type": "code",
   "execution_count": 33,
   "id": "36b7a4e5",
   "metadata": {},
   "outputs": [],
   "source": [
    "#******************\"super\" ANAHTAR KELİMESİ**********************"
   ]
  },
  {
   "cell_type": "code",
   "execution_count": 34,
   "id": "afe20d3c",
   "metadata": {},
   "outputs": [],
   "source": [
    "class Calısan():\n",
    "    \n",
    "    def __init__(self,isim,maas,departman):\n",
    "        print(\"Calısan sınıfının init fonksiyonu\")\n",
    "        \n",
    "        self.isim = isim\n",
    "        self.maas = maas\n",
    "        self.departman = departman\n",
    "    def bilgilerigoster(self):\n",
    "        print(\"Calısan Sınıfının Bilgilei\")\n",
    "        print(\"İsim: {}\\nMaas: {}\\nDepartman: {}\".format(self.isim,self.maas,self.departman))\n",
    "    def departmandegıstır(self,yenidepartman):\n",
    "        self.departman = yenidepartman"
   ]
  },
  {
   "cell_type": "code",
   "execution_count": 37,
   "id": "211315ec",
   "metadata": {},
   "outputs": [],
   "source": [
    "class Yönetici(Calısan):\n",
    "    def __init__(self,isim,maas,departman,kisisayısı):\n",
    "        super().__init__(isim,maas,departman)\n",
    "        self.kisisayısı = kisisayısı\n",
    "        \n",
    "    def bilgilerigoster(self):\n",
    "        print(\"Calısan Sınıfının Bilgilei\")\n",
    "        print(\"İsim: {}\\nMaas: {}\\nDepartman: {}\\nKisi Sayısı: {}\".format(self.isim,self.maas,self.departman,self.kisisayısı))\n",
    "    def zam_yap(self,zam):\n",
    "        self.maas +=zam"
   ]
  },
  {
   "cell_type": "code",
   "execution_count": 38,
   "id": "22464f5a",
   "metadata": {},
   "outputs": [
    {
     "name": "stdout",
     "output_type": "stream",
     "text": [
      "Calısan sınıfının init fonksiyonu\n",
      "Calısan Sınıfının Bilgilei\n",
      "İsim: Burak ERKEMEN\n",
      "Maas: 15000\n",
      "Departman: Yazılım Müh.\n",
      "Kisi Sayısı: 20\n"
     ]
    }
   ],
   "source": [
    "yönetici = Yönetici(\"Burak ERKEMEN\",15000,\"Yazılım Müh.\",20)\n",
    "yönetici.bilgilerigoster()"
   ]
  },
  {
   "cell_type": "code",
   "execution_count": 39,
   "id": "1934b81e",
   "metadata": {},
   "outputs": [],
   "source": [
    "#**************************ÖZEL METODLAR****************************"
   ]
  },
  {
   "cell_type": "code",
   "execution_count": 40,
   "id": "bcc3e128",
   "metadata": {},
   "outputs": [],
   "source": [
    "class Kitap():\n",
    "    pass"
   ]
  },
  {
   "cell_type": "code",
   "execution_count": 41,
   "id": "1b5197c7",
   "metadata": {},
   "outputs": [],
   "source": [
    "kitap = Kitap()  ## __init__ metodu cağrılıyor ve böylece obje oluşuyor"
   ]
  },
  {
   "cell_type": "code",
   "execution_count": 42,
   "id": "100a982e",
   "metadata": {},
   "outputs": [
    {
     "name": "stdout",
     "output_type": "stream",
     "text": [
      "<__main__.Kitap object at 0x0000023348E6E460>\n"
     ]
    }
   ],
   "source": [
    "print(kitap) ##__str__ metodu çağrılıyor python kendı kendıne yapıyor"
   ]
  },
  {
   "cell_type": "code",
   "execution_count": 43,
   "id": "218afc4f",
   "metadata": {},
   "outputs": [
    {
     "ename": "TypeError",
     "evalue": "object of type 'Kitap' has no len()",
     "output_type": "error",
     "traceback": [
      "\u001b[1;31m---------------------------------------------------------------------------\u001b[0m",
      "\u001b[1;31mTypeError\u001b[0m                                 Traceback (most recent call last)",
      "\u001b[1;32m~\\AppData\\Local\\Temp/ipykernel_21536/3934309124.py\u001b[0m in \u001b[0;36m<module>\u001b[1;34m\u001b[0m\n\u001b[1;32m----> 1\u001b[1;33m \u001b[0mlen\u001b[0m\u001b[1;33m(\u001b[0m\u001b[0mkitap\u001b[0m\u001b[1;33m)\u001b[0m \u001b[1;31m## __len__ metodu cağrılıypr ama python yine kendi kendine tanımlıyor\u001b[0m\u001b[1;33m\u001b[0m\u001b[1;33m\u001b[0m\u001b[0m\n\u001b[0m",
      "\u001b[1;31mTypeError\u001b[0m: object of type 'Kitap' has no len()"
     ]
    }
   ],
   "source": [
    "len(kitap) ## __len__ metodu cağrılıypr ama python yine kendi kendine tanımlıyor"
   ]
  },
  {
   "cell_type": "code",
   "execution_count": 44,
   "id": "16457078",
   "metadata": {},
   "outputs": [],
   "source": [
    "del Kitap #__del__ metodu"
   ]
  },
  {
   "cell_type": "code",
   "execution_count": 45,
   "id": "0edb7ac5",
   "metadata": {},
   "outputs": [
    {
     "ename": "NameError",
     "evalue": "name 'Kitap' is not defined",
     "output_type": "error",
     "traceback": [
      "\u001b[1;31m---------------------------------------------------------------------------\u001b[0m",
      "\u001b[1;31mNameError\u001b[0m                                 Traceback (most recent call last)",
      "\u001b[1;32m~\\AppData\\Local\\Temp/ipykernel_21536/614355463.py\u001b[0m in \u001b[0;36m<module>\u001b[1;34m\u001b[0m\n\u001b[1;32m----> 1\u001b[1;33m \u001b[0mKitap\u001b[0m\u001b[1;33m\u001b[0m\u001b[1;33m\u001b[0m\u001b[0m\n\u001b[0m",
      "\u001b[1;31mNameError\u001b[0m: name 'Kitap' is not defined"
     ]
    }
   ],
   "source": [
    "Kitap"
   ]
  },
  {
   "cell_type": "code",
   "execution_count": 46,
   "id": "415f2d80",
   "metadata": {},
   "outputs": [],
   "source": [
    "class Kitap():\n",
    "    def __init__(self,isim,yazar,sayfa,tür):\n",
    "        print(\"init metodu\")\n",
    "        self.isim = isim\n",
    "        self.yazar = yazar\n",
    "        self.sayfa = sayfa\n",
    "        self.tür = tür"
   ]
  },
  {
   "cell_type": "code",
   "execution_count": 47,
   "id": "da15c698",
   "metadata": {},
   "outputs": [
    {
     "name": "stdout",
     "output_type": "stream",
     "text": [
      "init metodu\n"
     ]
    }
   ],
   "source": [
    "kitap = Kitap(\"Tutunamayanlar\",\"Oğuz Atay\",600,\"Hikaye\")"
   ]
  },
  {
   "cell_type": "code",
   "execution_count": 48,
   "id": "42e28d3d",
   "metadata": {},
   "outputs": [],
   "source": [
    "class Kitap():\n",
    "    def __init__(self,isim,yazar,sayfa,tür):\n",
    "        print(\"init metodu\")\n",
    "        self.isim = isim\n",
    "        self.yazar = yazar\n",
    "        self.sayfa = sayfa\n",
    "        self.tür = tür\n",
    "    def __str__(self): ##ekrana yazdırma\n",
    "        return \"İsim: {}\\nYazar: {}\\nSayfa Sayısı:{}\\nTür: {}\".format(self.isim,self.yazar,self.sayfa,self.tür)"
   ]
  },
  {
   "cell_type": "code",
   "execution_count": 49,
   "id": "86427215",
   "metadata": {},
   "outputs": [
    {
     "name": "stdout",
     "output_type": "stream",
     "text": [
      "init metodu\n"
     ]
    }
   ],
   "source": [
    "kitap = Kitap(\"Tutunamayanlar\",\"Oğuz Atay\",600,\"Hikaye\")"
   ]
  },
  {
   "cell_type": "code",
   "execution_count": 50,
   "id": "ad7da0a9",
   "metadata": {},
   "outputs": [
    {
     "name": "stdout",
     "output_type": "stream",
     "text": [
      "İsim: Tutunamayanlar\n",
      "Yazar: Oğuz Atay\n",
      "Sayfa Sayısı:600\n",
      "Tür: Hikaye\n"
     ]
    }
   ],
   "source": [
    "print(kitap)"
   ]
  },
  {
   "cell_type": "code",
   "execution_count": 51,
   "id": "f5ac4827",
   "metadata": {},
   "outputs": [],
   "source": [
    "class Kitap():\n",
    "    def __init__(self,isim,yazar,sayfa,tür):\n",
    "        print(\"init metodu\")\n",
    "        self.isim = isim\n",
    "        self.yazar = yazar\n",
    "        self.sayfa = sayfa\n",
    "        self.tür = tür\n",
    "    def __str__(self): ##ekrana yazdırma\n",
    "        return \"İsim: {}\\nYazar: {}\\nSayfa Sayısı:{}\\nTür: {}\".format(self.isim,self.yazar,self.sayfa,self.tür)\n",
    "    \n",
    "    def __len__(self):\n",
    "        return self.sayfa"
   ]
  },
  {
   "cell_type": "code",
   "execution_count": 52,
   "id": "cd37f5ce",
   "metadata": {},
   "outputs": [
    {
     "name": "stdout",
     "output_type": "stream",
     "text": [
      "init metodu\n"
     ]
    }
   ],
   "source": [
    "kitap = Kitap(\"Tutunamayanlar\",\"Oğuz Atay\",600,\"Hikaye\")"
   ]
  },
  {
   "cell_type": "code",
   "execution_count": 53,
   "id": "cfd9b417",
   "metadata": {},
   "outputs": [
    {
     "data": {
      "text/plain": [
       "600"
      ]
     },
     "execution_count": 53,
     "metadata": {},
     "output_type": "execute_result"
    }
   ],
   "source": [
    "len(kitap)"
   ]
  },
  {
   "cell_type": "code",
   "execution_count": 54,
   "id": "5652dc58",
   "metadata": {},
   "outputs": [],
   "source": [
    "class Kitap():\n",
    "    def __init__(self,isim,yazar,sayfa,tür):\n",
    "        print(\"init metodu\")\n",
    "        self.isim = isim\n",
    "        self.yazar = yazar\n",
    "        self.sayfa = sayfa\n",
    "        self.tür = tür\n",
    "    def __str__(self): ##ekrana yazdırma\n",
    "        return \"İsim: {}\\nYazar: {}\\nSayfa Sayısı:{}\\nTür: {}\".format(self.isim,self.yazar,self.sayfa,self.tür)\n",
    "    \n",
    "    def __len__(self):\n",
    "        return self.sayfa\n",
    "    \n",
    "    def __del__(self):\n",
    "        print(\"Kitap objesi siliniyor....\")"
   ]
  },
  {
   "cell_type": "code",
   "execution_count": 55,
   "id": "1cdf19fa",
   "metadata": {},
   "outputs": [
    {
     "name": "stdout",
     "output_type": "stream",
     "text": [
      "init metodu\n"
     ]
    }
   ],
   "source": [
    "kitap = Kitap(\"Tutunamayanlar\",\"Oğuz Atay\",600,\"Hikaye\")"
   ]
  },
  {
   "cell_type": "code",
   "execution_count": 56,
   "id": "4cc4740b",
   "metadata": {},
   "outputs": [
    {
     "name": "stdout",
     "output_type": "stream",
     "text": [
      "Kitap objesi siliniyor....\n"
     ]
    }
   ],
   "source": [
    "del(kitap)"
   ]
  },
  {
   "cell_type": "code",
   "execution_count": null,
   "id": "a8d285fa",
   "metadata": {},
   "outputs": [],
   "source": []
  }
 ],
 "metadata": {
  "kernelspec": {
   "display_name": "Python 3 (ipykernel)",
   "language": "python",
   "name": "python3"
  },
  "language_info": {
   "codemirror_mode": {
    "name": "ipython",
    "version": 3
   },
   "file_extension": ".py",
   "mimetype": "text/x-python",
   "name": "python",
   "nbconvert_exporter": "python",
   "pygments_lexer": "ipython3",
   "version": "3.9.7"
  }
 },
 "nbformat": 4,
 "nbformat_minor": 5
}
