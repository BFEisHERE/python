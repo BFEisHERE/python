{
 "cells": [
  {
   "cell_type": "code",
   "execution_count": 1,
   "id": "c359b233",
   "metadata": {},
   "outputs": [
    {
     "name": "stdout",
     "output_type": "stream",
     "text": [
      "[1, 'Burak', 2, 3, 4, 5, 6]\n"
     ]
    }
   ],
   "source": [
    "#!!!!!!!!!!!!!!!!!!!!!FONKSİYONLAR!!!!!!!!!!!!!!\n",
    "#METODLAR!!!!!!!!!\n",
    "liste = [1,2,3,4,5,6]\n",
    "liste.insert(1,\"Burak\")\n",
    "print(liste)"
   ]
  },
  {
   "cell_type": "code",
   "execution_count": 2,
   "id": "9aeeab18",
   "metadata": {},
   "outputs": [
    {
     "name": "stdout",
     "output_type": "stream",
     "text": [
      "['Burak', 'Furkan', 'ERKEMEN', 1, 'Burak', 2, 3, 4, 5, 6]\n"
     ]
    }
   ],
   "source": [
    "liste.insert(0,\"Burak\")\n",
    "liste.insert(1,\"Furkan\")\n",
    "liste.insert(2,\"ERKEMEN\")\n",
    "print(liste)"
   ]
  },
  {
   "cell_type": "code",
   "execution_count": 3,
   "id": "78b16b8b",
   "metadata": {},
   "outputs": [
    {
     "name": "stdout",
     "output_type": "stream",
     "text": [
      "['Burak', 'Furkan', 'ERKEMEN', 1, 'Burak', 2, 3, 4, 5, 6, 'Yazılım müh']\n"
     ]
    }
   ],
   "source": [
    "#insert metodu!!!\n",
    "liste.append(\"Yazılım müh\")\n",
    "print(liste)"
   ]
  },
  {
   "cell_type": "code",
   "execution_count": 5,
   "id": "daf85642",
   "metadata": {},
   "outputs": [
    {
     "name": "stdout",
     "output_type": "stream",
     "text": [
      "['Burak', 'Furkan', 'ERKEMEN', 1, 'Burak', 2, 3, 4, 5]\n"
     ]
    }
   ],
   "source": [
    "liste.pop()\n",
    "print(liste)"
   ]
  },
  {
   "cell_type": "code",
   "execution_count": 6,
   "id": "244860d3",
   "metadata": {},
   "outputs": [],
   "source": [
    "#help(liste.pop())  kodun ne ıse yaradıgını anlatır!!!"
   ]
  },
  {
   "cell_type": "code",
   "execution_count": 7,
   "id": "59405ad7",
   "metadata": {},
   "outputs": [],
   "source": [
    "#!!!!!!!!!!!!!!FONKSİYONALR VE KULLANIMII!!!!!!!!!!!!!\n",
    "#print() bile bir fonksiyondur!\n",
    "#bir defa tanımlanır programda daha sonra istenilen zamanda kullanılır!!\n",
    "#fonsiyonlar kod tekrarını engeller"
   ]
  },
  {
   "cell_type": "code",
   "execution_count": 8,
   "id": "22431b20",
   "metadata": {},
   "outputs": [],
   "source": [
    "#***********FONKSİYONLARIN TANIMLANMASI********************\n",
    "#def fonksiyon_adı(parametre,parametre,......(opsiyonel)):\n",
    "#    fonksiyon bloğı\n",
    "#    yapılacak işlemler\n",
    "#    dönüş değeri - opsiyonel"
   ]
  },
  {
   "cell_type": "code",
   "execution_count": 9,
   "id": "9df7b26c",
   "metadata": {},
   "outputs": [],
   "source": [
    "def selamla():\n",
    "    print(\"Merhabalar!! \\nNasılsınız?\")\n",
    "    "
   ]
  },
  {
   "cell_type": "code",
   "execution_count": 10,
   "id": "8305d9eb",
   "metadata": {},
   "outputs": [
    {
     "data": {
      "text/plain": [
       "function"
      ]
     },
     "execution_count": 10,
     "metadata": {},
     "output_type": "execute_result"
    }
   ],
   "source": [
    "type(selamla)"
   ]
  },
  {
   "cell_type": "code",
   "execution_count": 11,
   "id": "784d4b8a",
   "metadata": {},
   "outputs": [
    {
     "name": "stdout",
     "output_type": "stream",
     "text": [
      "Merhabalar!! \n",
      "Nasılsınız\n"
     ]
    }
   ],
   "source": [
    "selamla()    #fonksiyon çağrısı"
   ]
  },
  {
   "cell_type": "code",
   "execution_count": 12,
   "id": "42405bd0",
   "metadata": {},
   "outputs": [
    {
     "name": "stdout",
     "output_type": "stream",
     "text": [
      "Merhabalar!! \n",
      "Nasılsınız\n",
      "Merhabalar!! \n",
      "Nasılsınız\n",
      "Merhabalar!! \n",
      "Nasılsınız\n",
      "Merhabalar!! \n",
      "Nasılsınız\n"
     ]
    }
   ],
   "source": [
    "selamla()\n",
    "selamla()\n",
    "selamla()\n",
    "selamla()"
   ]
  },
  {
   "cell_type": "code",
   "execution_count": 1,
   "id": "b0fffd69",
   "metadata": {},
   "outputs": [],
   "source": [
    "#********************PARAMETRE VE ARGUMANLAR"
   ]
  },
  {
   "cell_type": "code",
   "execution_count": 19,
   "id": "4ce74af2",
   "metadata": {},
   "outputs": [],
   "source": [
    "def selamla(isim):\n",
    "    print(\"İsminiz:\",isim)"
   ]
  },
  {
   "cell_type": "code",
   "execution_count": 16,
   "id": "f06b0943",
   "metadata": {},
   "outputs": [
    {
     "data": {
      "text/plain": [
       "function"
      ]
     },
     "execution_count": 16,
     "metadata": {},
     "output_type": "execute_result"
    }
   ],
   "source": [
    "type(selamla)"
   ]
  },
  {
   "cell_type": "code",
   "execution_count": 20,
   "id": "c0992960",
   "metadata": {},
   "outputs": [
    {
     "name": "stdout",
     "output_type": "stream",
     "text": [
      "İsminiz: Burak\n"
     ]
    }
   ],
   "source": [
    "selamla(\"Burak\")"
   ]
  },
  {
   "cell_type": "code",
   "execution_count": 21,
   "id": "607066fb",
   "metadata": {},
   "outputs": [],
   "source": [
    "def toplama(a,b,c):\n",
    "    print(\"Toplamları:\",a+b+c)"
   ]
  },
  {
   "cell_type": "code",
   "execution_count": 22,
   "id": "bbcb1b07",
   "metadata": {},
   "outputs": [
    {
     "name": "stdout",
     "output_type": "stream",
     "text": [
      "Toplamları: 0\n"
     ]
    }
   ],
   "source": [
    "toplama(1,2,-3)"
   ]
  },
  {
   "cell_type": "code",
   "execution_count": 23,
   "id": "e8bf8742",
   "metadata": {},
   "outputs": [],
   "source": [
    "def faktöriyel(sayı):\n",
    "    faktoriyel = 1\n",
    "    if(sayı == 0 or sayı == 1):\n",
    "        print(\"Faktöriyel:\",faktoriyel)\n",
    "    else:\n",
    "        while(sayı >=1):\n",
    "            faktoriyel *= sayı\n",
    "            sayı -= 1\n",
    "        print(\"Faktöriyeli:\",faktoriyel)"
   ]
  },
  {
   "cell_type": "code",
   "execution_count": 24,
   "id": "4d667174",
   "metadata": {},
   "outputs": [
    {
     "name": "stdout",
     "output_type": "stream",
     "text": [
      "Faktöriyel: 1\n"
     ]
    }
   ],
   "source": [
    "faktöriyel(1)"
   ]
  },
  {
   "cell_type": "code",
   "execution_count": 25,
   "id": "ec22b1c4",
   "metadata": {},
   "outputs": [
    {
     "name": "stdout",
     "output_type": "stream",
     "text": [
      "Faktöriyeli: 6\n"
     ]
    }
   ],
   "source": [
    "faktöriyel(3)"
   ]
  },
  {
   "cell_type": "code",
   "execution_count": 2,
   "id": "33c71ac4",
   "metadata": {},
   "outputs": [],
   "source": [
    "#**************FONKSYONLARDA RETURN İŞLEMLERİ***********************\n",
    "#fonksiyonun işlemi bittikten sonra çağrılan yere değer döndürülmesini sağlar."
   ]
  },
  {
   "cell_type": "code",
   "execution_count": 3,
   "id": "c2eacde4",
   "metadata": {},
   "outputs": [],
   "source": [
    "def toplam(a,b,c): #birinci fonksiyon\n",
    "    print(\"Toplamları:\",a+b+c)\n",
    "def ikiçarpımı(a): #ikinci fonksiyon\n",
    "    print(\"sayının ikiyle çarpımı\",a*2)"
   ]
  },
  {
   "cell_type": "code",
   "execution_count": 4,
   "id": "ef0d3f26",
   "metadata": {},
   "outputs": [
    {
     "name": "stdout",
     "output_type": "stream",
     "text": [
      "Toplamları: 12\n"
     ]
    },
    {
     "ename": "TypeError",
     "evalue": "unsupported operand type(s) for *: 'NoneType' and 'int'",
     "output_type": "error",
     "traceback": [
      "\u001b[1;31m---------------------------------------------------------------------------\u001b[0m",
      "\u001b[1;31mTypeError\u001b[0m                                 Traceback (most recent call last)",
      "\u001b[1;32m~\\AppData\\Local\\Temp/ipykernel_18132/928883931.py\u001b[0m in \u001b[0;36m<module>\u001b[1;34m\u001b[0m\n\u001b[0;32m      1\u001b[0m \u001b[0mtoplam\u001b[0m \u001b[1;33m=\u001b[0m \u001b[0mtoplam\u001b[0m\u001b[1;33m(\u001b[0m\u001b[1;36m3\u001b[0m\u001b[1;33m,\u001b[0m\u001b[1;36m4\u001b[0m\u001b[1;33m,\u001b[0m\u001b[1;36m5\u001b[0m\u001b[1;33m)\u001b[0m\u001b[1;33m\u001b[0m\u001b[1;33m\u001b[0m\u001b[0m\n\u001b[1;32m----> 2\u001b[1;33m \u001b[0mikiçarpımı\u001b[0m\u001b[1;33m(\u001b[0m\u001b[0mtoplam\u001b[0m\u001b[1;33m)\u001b[0m\u001b[1;33m\u001b[0m\u001b[1;33m\u001b[0m\u001b[0m\n\u001b[0m",
      "\u001b[1;32m~\\AppData\\Local\\Temp/ipykernel_18132/3811962816.py\u001b[0m in \u001b[0;36mikiçarpımı\u001b[1;34m(a)\u001b[0m\n\u001b[0;32m      2\u001b[0m     \u001b[0mprint\u001b[0m\u001b[1;33m(\u001b[0m\u001b[1;34m\"Toplamları:\"\u001b[0m\u001b[1;33m,\u001b[0m\u001b[0ma\u001b[0m\u001b[1;33m+\u001b[0m\u001b[0mb\u001b[0m\u001b[1;33m+\u001b[0m\u001b[0mc\u001b[0m\u001b[1;33m)\u001b[0m\u001b[1;33m\u001b[0m\u001b[1;33m\u001b[0m\u001b[0m\n\u001b[0;32m      3\u001b[0m \u001b[1;32mdef\u001b[0m \u001b[0mikiçarpımı\u001b[0m\u001b[1;33m(\u001b[0m\u001b[0ma\u001b[0m\u001b[1;33m)\u001b[0m\u001b[1;33m:\u001b[0m \u001b[1;31m#ikinci fonksiyon\u001b[0m\u001b[1;33m\u001b[0m\u001b[1;33m\u001b[0m\u001b[0m\n\u001b[1;32m----> 4\u001b[1;33m     \u001b[0mprint\u001b[0m\u001b[1;33m(\u001b[0m\u001b[1;34m\"sayının ikiyle çarpımı\"\u001b[0m\u001b[1;33m,\u001b[0m\u001b[0ma\u001b[0m\u001b[1;33m*\u001b[0m\u001b[1;36m2\u001b[0m\u001b[1;33m)\u001b[0m\u001b[1;33m\u001b[0m\u001b[1;33m\u001b[0m\u001b[0m\n\u001b[0m",
      "\u001b[1;31mTypeError\u001b[0m: unsupported operand type(s) for *: 'NoneType' and 'int'"
     ]
    }
   ],
   "source": [
    "toplam = toplam(3,4,5)\n",
    "ikiçarpımı(toplam)"
   ]
  },
  {
   "cell_type": "code",
   "execution_count": 15,
   "id": "74b09bdc",
   "metadata": {},
   "outputs": [],
   "source": [
    "def toplama(a,b,c): #birinci fonksiyon\n",
    "    print(\"Toplamları:\",a+b+c)\n",
    "    return a+b+c\n",
    "def ikiçarpımı(a): #ikinci fonksiyon\n",
    "    print(\"Sayının 2 katı:\")\n",
    "    return a*2"
   ]
  },
  {
   "cell_type": "code",
   "execution_count": 16,
   "id": "445c7497",
   "metadata": {},
   "outputs": [
    {
     "name": "stdout",
     "output_type": "stream",
     "text": [
      "Toplamları: 6\n",
      "Sayının 2 katı:\n",
      "12\n"
     ]
    }
   ],
   "source": [
    "toplam = toplama(1,2,3)\n",
    "print(ikiçarpımı(toplam))"
   ]
  },
  {
   "cell_type": "code",
   "execution_count": 17,
   "id": "a8342e1b",
   "metadata": {},
   "outputs": [
    {
     "name": "stdout",
     "output_type": "stream",
     "text": [
      "Sayının 2 katı:\n",
      "22\n"
     ]
    }
   ],
   "source": [
    "print(ikiçarpımı(11))"
   ]
  },
  {
   "cell_type": "code",
   "execution_count": 18,
   "id": "806fb890",
   "metadata": {},
   "outputs": [],
   "source": [
    "def uclecarp(a):\n",
    "    print(\"1. Fonksiyon çalıştı\")\n",
    "    return a*3\n",
    "def iki_ile_topla(a):\n",
    "    print(\"2. Fonksiyon çalıştı\")\n",
    "    return a+2\n",
    "def dördeböl(a):\n",
    "    print(\"3. Fonksiyon çalıştı\")\n",
    "    return a/4"
   ]
  },
  {
   "cell_type": "code",
   "execution_count": 20,
   "id": "b087ee02",
   "metadata": {},
   "outputs": [
    {
     "name": "stdout",
     "output_type": "stream",
     "text": [
      "1. Fonksiyon çalıştı\n",
      "2. Fonksiyon çalıştı\n",
      "3. Fonksiyon çalıştı\n",
      "23.75\n"
     ]
    }
   ],
   "source": [
    "print(dördeböl(iki_ile_topla(uclecarp(31))))"
   ]
  },
  {
   "cell_type": "code",
   "execution_count": 21,
   "id": "21bdb201",
   "metadata": {},
   "outputs": [
    {
     "name": "stdout",
     "output_type": "stream",
     "text": [
      "2. Fonksiyon çalıştı\n",
      "3. Fonksiyon çalıştı\n",
      "1. Fonksiyon çalıştı\n",
      "3.75\n"
     ]
    }
   ],
   "source": [
    "print(uclecarp(dördeböl(iki_ile_topla(3))))"
   ]
  },
  {
   "cell_type": "code",
   "execution_count": 22,
   "id": "208a8d62",
   "metadata": {},
   "outputs": [],
   "source": [
    "#************FONKSİYONLARDA PARAMETRE TÜRLERİ*************\n",
    "def selamla(isim):\n",
    "    print(\"Selamlar\",isim)"
   ]
  },
  {
   "cell_type": "code",
   "execution_count": 24,
   "id": "6a6603fd",
   "metadata": {},
   "outputs": [
    {
     "name": "stdout",
     "output_type": "stream",
     "text": [
      "Selamlar burak\n"
     ]
    }
   ],
   "source": [
    "selamla(\"burak\")"
   ]
  },
  {
   "cell_type": "code",
   "execution_count": 27,
   "id": "3a08a42d",
   "metadata": {},
   "outputs": [],
   "source": [
    "def selamla(isim = \"NoName\"):\n",
    "    print(\"Selam!\",isim)"
   ]
  },
  {
   "cell_type": "code",
   "execution_count": 28,
   "id": "aabb8f9f",
   "metadata": {},
   "outputs": [
    {
     "name": "stdout",
     "output_type": "stream",
     "text": [
      "Selam! NoName\n"
     ]
    }
   ],
   "source": [
    "selamla()"
   ]
  },
  {
   "cell_type": "code",
   "execution_count": 29,
   "id": "2aa75fae",
   "metadata": {},
   "outputs": [],
   "source": [
    "def bilgiler(ad = \"Girilmedi\",soyad = \"Girilmedi\",no = \"Girilmedi\"):\n",
    "    print(\"Ad:\",ad,\"Soyad:\",soyad,\"Numara:\",no)"
   ]
  },
  {
   "cell_type": "code",
   "execution_count": 30,
   "id": "873d6bcb",
   "metadata": {},
   "outputs": [
    {
     "name": "stdout",
     "output_type": "stream",
     "text": [
      "Ad: Burak Soyad: Erkemen Numara: 195541040\n"
     ]
    }
   ],
   "source": [
    "bilgiler(\"Burak\",\"Erkemen\",\"195541040\")"
   ]
  },
  {
   "cell_type": "code",
   "execution_count": 40,
   "id": "ffd25da7",
   "metadata": {},
   "outputs": [],
   "source": [
    "def bilgiler(ad = \"Girilmedi\",soyad = \"Girilmedi\",no = \"Girilmedi\"):\n",
    "    print(\"Ad:\",ad,\", Soyad:\",soyad,\", Numara:\",no)"
   ]
  },
  {
   "cell_type": "code",
   "execution_count": 41,
   "id": "0c5adde1",
   "metadata": {},
   "outputs": [
    {
     "name": "stdout",
     "output_type": "stream",
     "text": [
      "Ad: Girilmedi , Soyad: Girilmedi , Numara: Girilmedi\n"
     ]
    }
   ],
   "source": [
    "bilgiler()"
   ]
  },
  {
   "cell_type": "code",
   "execution_count": 44,
   "id": "33de3a60",
   "metadata": {},
   "outputs": [
    {
     "name": "stdout",
     "output_type": "stream",
     "text": [
      "Ad: Burak , Soyad: Girilmedi , Numara: 1\n"
     ]
    }
   ],
   "source": [
    "bilgiler(ad=\"Burak\",no=\"1\")"
   ]
  },
  {
   "cell_type": "code",
   "execution_count": 45,
   "id": "ef38a796",
   "metadata": {},
   "outputs": [],
   "source": [
    "#**************ESNEK SAYIDA DEĞERLER******************"
   ]
  },
  {
   "cell_type": "code",
   "execution_count": 47,
   "id": "c3477edc",
   "metadata": {},
   "outputs": [],
   "source": [
    "def toplama(a,b,c):\n",
    "    print(a+b+c)"
   ]
  },
  {
   "cell_type": "code",
   "execution_count": 53,
   "id": "220706e8",
   "metadata": {},
   "outputs": [],
   "source": [
    "#toplama(3,4,2,2)\n",
    "def toplama(*a):\n",
    "    print(a)"
   ]
  },
  {
   "cell_type": "code",
   "execution_count": 54,
   "id": "4608c6b4",
   "metadata": {},
   "outputs": [
    {
     "name": "stdout",
     "output_type": "stream",
     "text": [
      "(1, 2, 3, 4, 5)\n"
     ]
    }
   ],
   "source": [
    "toplama(1,2,3,4,5) "
   ]
  },
  {
   "cell_type": "code",
   "execution_count": 55,
   "id": "8ef26f6c",
   "metadata": {},
   "outputs": [],
   "source": [
    "def toplama(*a):\n",
    "    toplam=0\n",
    "    for i in a:\n",
    "        toplam += i\n",
    "    print(toplam)"
   ]
  },
  {
   "cell_type": "code",
   "execution_count": 56,
   "id": "e40ab37e",
   "metadata": {},
   "outputs": [
    {
     "name": "stdout",
     "output_type": "stream",
     "text": [
      "1329218\n"
     ]
    }
   ],
   "source": [
    "toplama(321,2311,5343,1321231,12)"
   ]
  },
  {
   "cell_type": "code",
   "execution_count": 58,
   "id": "284c219d",
   "metadata": {},
   "outputs": [],
   "source": [
    "#*****************GLOBAL  -  YEREL DEĞİŞKENLER******************\n",
    "#fonksiyonlar içindeki değerlere yerek değişken denir\n",
    "#programın her yerınde kullanılabilen deişkenlere global değişken denir"
   ]
  },
  {
   "cell_type": "code",
   "execution_count": 59,
   "id": "c24cf06b",
   "metadata": {},
   "outputs": [
    {
     "name": "stdout",
     "output_type": "stream",
     "text": [
      "10\n"
     ]
    },
    {
     "ename": "NameError",
     "evalue": "name 'a' is not defined",
     "output_type": "error",
     "traceback": [
      "\u001b[1;31m---------------------------------------------------------------------------\u001b[0m",
      "\u001b[1;31mNameError\u001b[0m                                 Traceback (most recent call last)",
      "\u001b[1;32m~\\AppData\\Local\\Temp/ipykernel_18132/2249299863.py\u001b[0m in \u001b[0;36m<module>\u001b[1;34m\u001b[0m\n\u001b[0;32m      4\u001b[0m \u001b[1;33m\u001b[0m\u001b[0m\n\u001b[0;32m      5\u001b[0m \u001b[0mfonk\u001b[0m\u001b[1;33m(\u001b[0m\u001b[1;33m)\u001b[0m\u001b[1;33m\u001b[0m\u001b[1;33m\u001b[0m\u001b[0m\n\u001b[1;32m----> 6\u001b[1;33m \u001b[0mprint\u001b[0m\u001b[1;33m(\u001b[0m\u001b[0ma\u001b[0m\u001b[1;33m)\u001b[0m\u001b[1;33m\u001b[0m\u001b[1;33m\u001b[0m\u001b[0m\n\u001b[0m",
      "\u001b[1;31mNameError\u001b[0m: name 'a' is not defined"
     ]
    }
   ],
   "source": [
    "def fonk():\n",
    "    a=10\n",
    "    print(a)\n",
    "    \n",
    "fonk()\n",
    "print(a)   #yerel değişken!!!!"
   ]
  },
  {
   "cell_type": "code",
   "execution_count": 62,
   "id": "ed426b42",
   "metadata": {},
   "outputs": [
    {
     "name": "stdout",
     "output_type": "stream",
     "text": [
      "b: 5\n",
      "a: 6\n",
      "a+b= 11\n"
     ]
    }
   ],
   "source": [
    "b = 5\n",
    "def fonk():\n",
    "    print(\"b:\",b)\n",
    "    a=6\n",
    "    print(\"a:\",a)\n",
    "    print(\"a+b=\",a+b)\n",
    "fonk()"
   ]
  },
  {
   "cell_type": "code",
   "execution_count": 66,
   "id": "36942b22",
   "metadata": {},
   "outputs": [
    {
     "name": "stdout",
     "output_type": "stream",
     "text": [
      "c: 2\n",
      "c: 10\n"
     ]
    }
   ],
   "source": [
    "c = 10\n",
    "def fonk():\n",
    "    c=2\n",
    "    print(\"c:\",c)\n",
    "fonk()\n",
    "print(\"c:\",c)"
   ]
  },
  {
   "cell_type": "code",
   "execution_count": 67,
   "id": "c560e28a",
   "metadata": {},
   "outputs": [
    {
     "name": "stdout",
     "output_type": "stream",
     "text": [
      "3\n",
      "3\n"
     ]
    }
   ],
   "source": [
    "d = 5\n",
    "def fonk():\n",
    "    global d  \n",
    "    d=3      #globaldeki d değeride değişmişstir\n",
    "    print(d)\n",
    "fonk()\n",
    "print(d)"
   ]
  },
  {
   "cell_type": "code",
   "execution_count": 69,
   "id": "ff7a9585",
   "metadata": {},
   "outputs": [
    {
     "name": "stdout",
     "output_type": "stream",
     "text": [
      "4\n",
      "4\n"
     ]
    }
   ],
   "source": [
    "if True:\n",
    "    e = 4\n",
    "    print(e)\n",
    "print(e)"
   ]
  },
  {
   "cell_type": "code",
   "execution_count": 70,
   "id": "aea00a7c",
   "metadata": {},
   "outputs": [],
   "source": [
    "#*************LAMBDA İFADELERİ FONKSİYONLARI ************************"
   ]
  },
  {
   "cell_type": "code",
   "execution_count": 72,
   "id": "0cafd6b1",
   "metadata": {},
   "outputs": [
    {
     "name": "stdout",
     "output_type": "stream",
     "text": [
      "[2, 4, 6, 8, 10]\n"
     ]
    }
   ],
   "source": [
    "#klasik list oluşturma\n",
    "liste = [1,2,3,4,5]\n",
    "liste1=list()\n",
    "for i in liste:\n",
    "    liste1.append(i*2)\n",
    "print(liste1)"
   ]
  },
  {
   "cell_type": "code",
   "execution_count": 73,
   "id": "1bcc21a4",
   "metadata": {},
   "outputs": [
    {
     "data": {
      "text/plain": [
       "[2, 4, 6, 8, 10]"
      ]
     },
     "execution_count": 73,
     "metadata": {},
     "output_type": "execute_result"
    }
   ],
   "source": [
    "liste2=[i * 2 for i in liste]    #list comprehension\n",
    "liste2"
   ]
  },
  {
   "cell_type": "code",
   "execution_count": 74,
   "id": "3b1c0edd",
   "metadata": {},
   "outputs": [],
   "source": [
    "#etiket = lambda parametre,parametre2,.... : işlem"
   ]
  },
  {
   "cell_type": "code",
   "execution_count": 76,
   "id": "8b9b2324",
   "metadata": {},
   "outputs": [
    {
     "name": "stdout",
     "output_type": "stream",
     "text": [
      "4\n"
     ]
    }
   ],
   "source": [
    "def ikikatı(a):\n",
    "    return a*2\n",
    "print(ikikatı(2))"
   ]
  },
  {
   "cell_type": "code",
   "execution_count": 77,
   "id": "605c5469",
   "metadata": {},
   "outputs": [
    {
     "data": {
      "text/plain": [
       "6"
      ]
     },
     "execution_count": 77,
     "metadata": {},
     "output_type": "execute_result"
    }
   ],
   "source": [
    "ikikatı2= lambda x : x*2\n",
    "ikikatı2(3)"
   ]
  },
  {
   "cell_type": "code",
   "execution_count": 79,
   "id": "03d2d2ea",
   "metadata": {},
   "outputs": [
    {
     "name": "stdout",
     "output_type": "stream",
     "text": [
      "4\n"
     ]
    }
   ],
   "source": [
    "def toplam(a,b,c):\n",
    "    return a+b+c\n",
    "print(toplam(1,2,1))\n",
    "    "
   ]
  },
  {
   "cell_type": "code",
   "execution_count": 80,
   "id": "4dc93784",
   "metadata": {},
   "outputs": [
    {
     "data": {
      "text/plain": [
       "3"
      ]
     },
     "execution_count": 80,
     "metadata": {},
     "output_type": "execute_result"
    }
   ],
   "source": [
    "toplama = lambda x,y,z: x+y+z\n",
    "toplama(1,1,1)"
   ]
  },
  {
   "cell_type": "code",
   "execution_count": 81,
   "id": "31de20f6",
   "metadata": {},
   "outputs": [],
   "source": [
    "def terscevir(s):\n",
    "    return s[::-1]"
   ]
  },
  {
   "cell_type": "code",
   "execution_count": 84,
   "id": "5e50edef",
   "metadata": {},
   "outputs": [
    {
     "data": {
      "text/plain": [
       "'karuB'"
      ]
     },
     "execution_count": 84,
     "metadata": {},
     "output_type": "execute_result"
    }
   ],
   "source": [
    "terscevir(\"Burak\")"
   ]
  },
  {
   "cell_type": "code",
   "execution_count": 87,
   "id": "cd575a5c",
   "metadata": {},
   "outputs": [
    {
     "name": "stdout",
     "output_type": "stream",
     "text": [
      "karub\n"
     ]
    }
   ],
   "source": [
    "ters = lambda s : s[::-1]\n",
    "print(ters(\"burak\"))"
   ]
  },
  {
   "cell_type": "code",
   "execution_count": 88,
   "id": "493e9552",
   "metadata": {},
   "outputs": [
    {
     "name": "stdout",
     "output_type": "stream",
     "text": [
      "True\n"
     ]
    }
   ],
   "source": [
    "def cifttek(sayı):\n",
    "    return sayı % 2 == 0\n",
    "print(cifttek(14))"
   ]
  },
  {
   "cell_type": "code",
   "execution_count": 89,
   "id": "c22f1367",
   "metadata": {},
   "outputs": [
    {
     "name": "stdout",
     "output_type": "stream",
     "text": [
      "False\n"
     ]
    }
   ],
   "source": [
    "print(cifttek(1))"
   ]
  },
  {
   "cell_type": "code",
   "execution_count": 90,
   "id": "c24acb38",
   "metadata": {},
   "outputs": [
    {
     "data": {
      "text/plain": [
       "False"
      ]
     },
     "execution_count": 90,
     "metadata": {},
     "output_type": "execute_result"
    }
   ],
   "source": [
    "cıfttek1 = lambda a : a%2 == 0\n",
    "cıfttek1(1)"
   ]
  },
  {
   "cell_type": "code",
   "execution_count": 91,
   "id": "ff60d485",
   "metadata": {},
   "outputs": [
    {
     "data": {
      "text/plain": [
       "True"
      ]
     },
     "execution_count": 91,
     "metadata": {},
     "output_type": "execute_result"
    }
   ],
   "source": [
    "cıfttek1(2)"
   ]
  },
  {
   "cell_type": "code",
   "execution_count": null,
   "id": "1b87a501",
   "metadata": {},
   "outputs": [],
   "source": []
  }
 ],
 "metadata": {
  "kernelspec": {
   "display_name": "Python 3 (ipykernel)",
   "language": "python",
   "name": "python3"
  },
  "language_info": {
   "codemirror_mode": {
    "name": "ipython",
    "version": 3
   },
   "file_extension": ".py",
   "mimetype": "text/x-python",
   "name": "python",
   "nbconvert_exporter": "python",
   "pygments_lexer": "ipython3",
   "version": "3.9.7"
  }
 },
 "nbformat": 4,
 "nbformat_minor": 5
}
