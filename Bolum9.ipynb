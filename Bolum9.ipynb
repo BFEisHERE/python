{
 "cells": [
  {
   "cell_type": "code",
   "execution_count": 1,
   "id": "115b6de7",
   "metadata": {},
   "outputs": [],
   "source": [
    "#HATA YAKALAMA try,except blockalrı"
   ]
  },
  {
   "cell_type": "code",
   "execution_count": 2,
   "id": "054ceaa0",
   "metadata": {},
   "outputs": [
    {
     "ename": "ValueError",
     "evalue": "invalid literal for int() with base 10: 'asdsaads'",
     "output_type": "error",
     "traceback": [
      "\u001b[1;31m---------------------------------------------------------------------------\u001b[0m",
      "\u001b[1;31mValueError\u001b[0m                                Traceback (most recent call last)",
      "\u001b[1;32m~\\AppData\\Local\\Temp/ipykernel_5636/925278112.py\u001b[0m in \u001b[0;36m<module>\u001b[1;34m\u001b[0m\n\u001b[1;32m----> 1\u001b[1;33m \u001b[0ma\u001b[0m \u001b[1;33m=\u001b[0m \u001b[0mint\u001b[0m\u001b[1;33m(\u001b[0m\u001b[1;34m\"asdsaads\"\u001b[0m\u001b[1;33m)\u001b[0m\u001b[1;33m\u001b[0m\u001b[1;33m\u001b[0m\u001b[0m\n\u001b[0m",
      "\u001b[1;31mValueError\u001b[0m: invalid literal for int() with base 10: 'asdsaads'"
     ]
    }
   ],
   "source": [
    "a = int(\"asdsaads\")"
   ]
  },
  {
   "cell_type": "code",
   "execution_count": 3,
   "id": "9e246bb6",
   "metadata": {},
   "outputs": [
    {
     "name": "stdout",
     "output_type": "stream",
     "text": [
      "Bir hata Oluştu\n",
      "Bloklar bitti\n"
     ]
    }
   ],
   "source": [
    "try:\n",
    "    a = int(\"asdsaads\")\n",
    "    print(\"Program Burada\")\n",
    "except:\n",
    "    print(\"Bir hata Oluştu\")\n",
    "print(\"Bloklar bitti\")"
   ]
  },
  {
   "cell_type": "code",
   "execution_count": 5,
   "id": "bd578ae7",
   "metadata": {},
   "outputs": [
    {
     "name": "stdout",
     "output_type": "stream",
     "text": [
      "Program Burada\n",
      "Bloklar bitti\n"
     ]
    }
   ],
   "source": [
    "try:\n",
    "    a = int(\"1\")\n",
    "    print(\"Program Burada\")\n",
    "except:\n",
    "    print(\"Bir hata Oluştu\")\n",
    "print(\"Bloklar bitti\")"
   ]
  },
  {
   "cell_type": "code",
   "execution_count": 6,
   "id": "9f4b5fdd",
   "metadata": {},
   "outputs": [
    {
     "name": "stdout",
     "output_type": "stream",
     "text": [
      "Bir hata Oluştu\n",
      "Bloklar bitti\n"
     ]
    }
   ],
   "source": [
    "try:\n",
    "    a = int(\"asdsaads\")\n",
    "    print(\"Program Burada\")\n",
    "except ValueError:\n",
    "    print(\"Bir hata Oluştu\")\n",
    "print(\"Bloklar bitti\")"
   ]
  },
  {
   "cell_type": "code",
   "execution_count": 7,
   "id": "bc5ce02d",
   "metadata": {},
   "outputs": [
    {
     "ename": "ValueError",
     "evalue": "invalid literal for int() with base 10: 'sada123'",
     "output_type": "error",
     "traceback": [
      "\u001b[1;31m---------------------------------------------------------------------------\u001b[0m",
      "\u001b[1;31mValueError\u001b[0m                                Traceback (most recent call last)",
      "\u001b[1;32m~\\AppData\\Local\\Temp/ipykernel_5636/1149358026.py\u001b[0m in \u001b[0;36m<module>\u001b[1;34m\u001b[0m\n\u001b[1;32m----> 1\u001b[1;33m \u001b[0ma\u001b[0m \u001b[1;33m=\u001b[0m \u001b[0mint\u001b[0m\u001b[1;33m(\u001b[0m\u001b[1;34m\"sada123\"\u001b[0m\u001b[1;33m)\u001b[0m\u001b[1;33m\u001b[0m\u001b[1;33m\u001b[0m\u001b[0m\n\u001b[0m",
      "\u001b[1;31mValueError\u001b[0m: invalid literal for int() with base 10: 'sada123'"
     ]
    }
   ],
   "source": [
    "a = int(\"sada123\")"
   ]
  },
  {
   "cell_type": "code",
   "execution_count": 8,
   "id": "5e7ef50b",
   "metadata": {},
   "outputs": [
    {
     "ename": "ZeroDivisionError",
     "evalue": "division by zero",
     "output_type": "error",
     "traceback": [
      "\u001b[1;31m---------------------------------------------------------------------------\u001b[0m",
      "\u001b[1;31mZeroDivisionError\u001b[0m                         Traceback (most recent call last)",
      "\u001b[1;32m~\\AppData\\Local\\Temp/ipykernel_5636/683720550.py\u001b[0m in \u001b[0;36m<module>\u001b[1;34m\u001b[0m\n\u001b[1;32m----> 1\u001b[1;33m \u001b[0mprint\u001b[0m\u001b[1;33m(\u001b[0m\u001b[1;36m2\u001b[0m\u001b[1;33m/\u001b[0m\u001b[1;36m0\u001b[0m\u001b[1;33m)\u001b[0m\u001b[1;33m\u001b[0m\u001b[1;33m\u001b[0m\u001b[0m\n\u001b[0m",
      "\u001b[1;31mZeroDivisionError\u001b[0m: division by zero"
     ]
    }
   ],
   "source": [
    "print(2/0)"
   ]
  },
  {
   "cell_type": "code",
   "execution_count": 12,
   "id": "13751aba",
   "metadata": {},
   "outputs": [
    {
     "name": "stdout",
     "output_type": "stream",
     "text": [
      "Sayı1:32132\n",
      "Sayı2:12\n",
      "2677.6666666666665\n",
      "Pogram Sonlandı\n"
     ]
    }
   ],
   "source": [
    "try:\n",
    "    a = int(input(\"Sayı1:\"))\n",
    "    b = int(input(\"Sayı2:\"))\n",
    "    print(a/b)\n",
    "except ValueError:\n",
    "    print(\"Giriş değerini doğru giriniz\")\n",
    "except ZeroDivisionError:\n",
    "    print(\"Bir sayı 0'a bölünemez!!\")\n",
    "print(\"Pogram Sonlandı\")"
   ]
  },
  {
   "cell_type": "markdown",
   "id": "a355b7e1",
   "metadata": {},
   "source": [
    "try:\n",
    "    a = int(input(\"Sayı1:\"))\n",
    "    b = int(input(\"Sayı2:\"))\n",
    "    print(a/b)\n",
    "except ValueError,ZeroDivisionError:\n",
    "    print(\"ValueError or ZeroDivisionError mıstakes\")\n",
    "print(\"System end!\")"
   ]
  },
  {
   "cell_type": "code",
   "execution_count": 15,
   "id": "9e115ff4",
   "metadata": {},
   "outputs": [],
   "source": [
    "#FİNALLY BLOKLARI \n",
    "#mutlaka calısması gereken kodlar kullanılır"
   ]
  },
  {
   "cell_type": "code",
   "execution_count": 14,
   "id": "44720d04",
   "metadata": {},
   "outputs": [
    {
     "name": "stdout",
     "output_type": "stream",
     "text": [
      "Sayı1:31\n",
      "Sayı2:12\n",
      "2.5833333333333335\n",
      "Burası Çalıştı!!\n",
      "Pogram Sonlandı\n"
     ]
    }
   ],
   "source": [
    "try:\n",
    "    a = int(input(\"Sayı1:\"))\n",
    "    b = int(input(\"Sayı2:\"))\n",
    "    print(a/b)\n",
    "except ValueError:\n",
    "    print(\"Giriş değerini doğru giriniz\")\n",
    "except ZeroDivisionError:\n",
    "    print(\"Bir sayı 0'a bölünemez!!\")\n",
    "finally:\n",
    "    print(\"Burası Çalıştı!!\")\n",
    "print(\"Pogram Sonlandı\")"
   ]
  },
  {
   "cell_type": "code",
   "execution_count": 16,
   "id": "ee5d5e45",
   "metadata": {},
   "outputs": [],
   "source": [
    "#HATA FIRLATMA\n",
    "#raise hataadı(opsiyonel mesaj)"
   ]
  },
  {
   "cell_type": "code",
   "execution_count": 17,
   "id": "279032e3",
   "metadata": {},
   "outputs": [],
   "source": [
    "def terscevir(s):\n",
    "    if(type(s) != str):\n",
    "        raise ValueError(\"Lütfen string bir değer gönderin\")\n",
    "    else:\n",
    "        return s[::-1]"
   ]
  },
  {
   "cell_type": "code",
   "execution_count": 18,
   "id": "9723daf0",
   "metadata": {},
   "outputs": [
    {
     "name": "stdout",
     "output_type": "stream",
     "text": [
      "KARUB\n"
     ]
    }
   ],
   "source": [
    "print(terscevir(\"BURAK\"))"
   ]
  },
  {
   "cell_type": "code",
   "execution_count": 19,
   "id": "bd379133",
   "metadata": {},
   "outputs": [
    {
     "ename": "ValueError",
     "evalue": "Lütfen string bir değer gönderin",
     "output_type": "error",
     "traceback": [
      "\u001b[1;31m---------------------------------------------------------------------------\u001b[0m",
      "\u001b[1;31mValueError\u001b[0m                                Traceback (most recent call last)",
      "\u001b[1;32m~\\AppData\\Local\\Temp/ipykernel_5636/1741970189.py\u001b[0m in \u001b[0;36m<module>\u001b[1;34m\u001b[0m\n\u001b[1;32m----> 1\u001b[1;33m \u001b[0mprint\u001b[0m\u001b[1;33m(\u001b[0m\u001b[0mterscevir\u001b[0m\u001b[1;33m(\u001b[0m\u001b[1;36m12\u001b[0m\u001b[1;33m)\u001b[0m\u001b[1;33m)\u001b[0m\u001b[1;33m\u001b[0m\u001b[1;33m\u001b[0m\u001b[0m\n\u001b[0m",
      "\u001b[1;32m~\\AppData\\Local\\Temp/ipykernel_5636/1066908406.py\u001b[0m in \u001b[0;36mterscevir\u001b[1;34m(s)\u001b[0m\n\u001b[0;32m      1\u001b[0m \u001b[1;32mdef\u001b[0m \u001b[0mterscevir\u001b[0m\u001b[1;33m(\u001b[0m\u001b[0ms\u001b[0m\u001b[1;33m)\u001b[0m\u001b[1;33m:\u001b[0m\u001b[1;33m\u001b[0m\u001b[1;33m\u001b[0m\u001b[0m\n\u001b[0;32m      2\u001b[0m     \u001b[1;32mif\u001b[0m\u001b[1;33m(\u001b[0m\u001b[0mtype\u001b[0m\u001b[1;33m(\u001b[0m\u001b[0ms\u001b[0m\u001b[1;33m)\u001b[0m \u001b[1;33m!=\u001b[0m \u001b[0mstr\u001b[0m\u001b[1;33m)\u001b[0m\u001b[1;33m:\u001b[0m\u001b[1;33m\u001b[0m\u001b[1;33m\u001b[0m\u001b[0m\n\u001b[1;32m----> 3\u001b[1;33m         \u001b[1;32mraise\u001b[0m \u001b[0mValueError\u001b[0m\u001b[1;33m(\u001b[0m\u001b[1;34m\"Lütfen string bir değer gönderin\"\u001b[0m\u001b[1;33m)\u001b[0m\u001b[1;33m\u001b[0m\u001b[1;33m\u001b[0m\u001b[0m\n\u001b[0m\u001b[0;32m      4\u001b[0m     \u001b[1;32melse\u001b[0m\u001b[1;33m:\u001b[0m\u001b[1;33m\u001b[0m\u001b[1;33m\u001b[0m\u001b[0m\n\u001b[0;32m      5\u001b[0m         \u001b[1;32mreturn\u001b[0m \u001b[0ms\u001b[0m\u001b[1;33m[\u001b[0m\u001b[1;33m:\u001b[0m\u001b[1;33m:\u001b[0m\u001b[1;33m-\u001b[0m\u001b[1;36m1\u001b[0m\u001b[1;33m]\u001b[0m\u001b[1;33m\u001b[0m\u001b[1;33m\u001b[0m\u001b[0m\n",
      "\u001b[1;31mValueError\u001b[0m: Lütfen string bir değer gönderin"
     ]
    }
   ],
   "source": [
    "print(terscevir(12))"
   ]
  },
  {
   "cell_type": "code",
   "execution_count": 20,
   "id": "b33c01ce",
   "metadata": {},
   "outputs": [
    {
     "name": "stdout",
     "output_type": "stream",
     "text": [
      "Fonksiyon Hata Verdi!!\n"
     ]
    }
   ],
   "source": [
    "try:\n",
    "    print(terscevir(12))\n",
    "except ValueError:\n",
    "    print(\"Fonksiyon Hata Verdi!!\")"
   ]
  },
  {
   "cell_type": "code",
   "execution_count": null,
   "id": "9a216b65",
   "metadata": {},
   "outputs": [],
   "source": []
  }
 ],
 "metadata": {
  "kernelspec": {
   "display_name": "Python 3 (ipykernel)",
   "language": "python",
   "name": "python3"
  },
  "language_info": {
   "codemirror_mode": {
    "name": "ipython",
    "version": 3
   },
   "file_extension": ".py",
   "mimetype": "text/x-python",
   "name": "python",
   "nbconvert_exporter": "python",
   "pygments_lexer": "ipython3",
   "version": "3.9.7"
  }
 },
 "nbformat": 4,
 "nbformat_minor": 5
}
