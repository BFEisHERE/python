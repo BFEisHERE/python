{
 "cells": [
  {
   "cell_type": "code",
   "execution_count": 1,
   "id": "4e6c728d",
   "metadata": {},
   "outputs": [
    {
     "data": {
      "text/plain": [
       "True"
      ]
     },
     "execution_count": 1,
     "metadata": {},
     "output_type": "execute_result"
    }
   ],
   "source": [
    "#DÖNGÜLER!!!!!\n",
    "#FOR DÖNGÜSÜ\n",
    "#in operatörü - değerin başka bir listede, demette veya stringte olup olmadığına bakar\n",
    "\"a\" in \"merhaba\""
   ]
  },
  {
   "cell_type": "code",
   "execution_count": 2,
   "id": "8da7a2cd",
   "metadata": {},
   "outputs": [
    {
     "data": {
      "text/plain": [
       "True"
      ]
     },
     "execution_count": 2,
     "metadata": {},
     "output_type": "execute_result"
    }
   ],
   "source": [
    "\"burak\" in \"burak furkan\""
   ]
  },
  {
   "cell_type": "code",
   "execution_count": 3,
   "id": "e324167c",
   "metadata": {},
   "outputs": [
    {
     "data": {
      "text/plain": [
       "False"
      ]
     },
     "execution_count": 3,
     "metadata": {},
     "output_type": "execute_result"
    }
   ],
   "source": [
    "\"z\" in \"burak\""
   ]
  },
  {
   "cell_type": "code",
   "execution_count": 4,
   "id": "df338cf6",
   "metadata": {},
   "outputs": [
    {
     "data": {
      "text/plain": [
       "False"
      ]
     },
     "execution_count": 4,
     "metadata": {},
     "output_type": "execute_result"
    }
   ],
   "source": [
    "6 in [1,2,3,4,5]"
   ]
  },
  {
   "cell_type": "code",
   "execution_count": 7,
   "id": "17f24582",
   "metadata": {},
   "outputs": [
    {
     "name": "stdout",
     "output_type": "stream",
     "text": [
      "1\n",
      "2\n",
      "3\n",
      "4\n",
      "5\n",
      "6\n",
      "7\n"
     ]
    }
   ],
   "source": [
    "#for nick in veri\n",
    "liste = [1,2,3,4,5,6,7]\n",
    "for eleman in liste:\n",
    "    print(eleman)"
   ]
  },
  {
   "cell_type": "code",
   "execution_count": 10,
   "id": "d2d7f6ec",
   "metadata": {},
   "outputs": [
    {
     "name": "stdout",
     "output_type": "stream",
     "text": [
      "toplam: 1  1\n",
      "toplam: 3  2\n",
      "toplam: 6  3\n",
      "toplam: 10  4\n",
      "toplam: 15  5\n",
      "toplam: 21  6\n",
      "toplam: 28  7\n",
      "28\n"
     ]
    }
   ],
   "source": [
    "toplam = 0\n",
    "liste = [1,2,3,4,5,6,7]\n",
    "for eleman in liste:\n",
    "    toplam= toplam + eleman\n",
    "    print(\"toplam: {}  {}\".format(toplam,eleman))\n",
    "print(toplam)"
   ]
  },
  {
   "cell_type": "code",
   "execution_count": 11,
   "id": "2ef502e3",
   "metadata": {},
   "outputs": [
    {
     "name": "stdout",
     "output_type": "stream",
     "text": [
      "Çift sayılar: 2\n",
      "Çift sayılar: 4\n",
      "Çift sayılar: 554\n",
      "Çift sayılar: 64\n",
      "Çift sayılar: 78\n"
     ]
    }
   ],
   "source": [
    "liste = [1,2,3,4,33,554,64,78]\n",
    "for eleman in liste:\n",
    "    if(eleman%2 == 0):\n",
    "        print(\"Çift sayılar: {}\".format(eleman))"
   ]
  },
  {
   "cell_type": "code",
   "execution_count": 15,
   "id": "51f8b555",
   "metadata": {},
   "outputs": [
    {
     "name": "stdout",
     "output_type": "stream",
     "text": [
      "bbb\n",
      "uuu\n",
      "uuu\n",
      "rrr\n",
      "aaa\n",
      "kkk\n"
     ]
    }
   ],
   "source": [
    "#her bir karakterde gezinme\n",
    "s=\"buurak\"\n",
    "for karakter in s:\n",
    "    print(karakter * 3)"
   ]
  },
  {
   "cell_type": "code",
   "execution_count": 16,
   "id": "611131ef",
   "metadata": {},
   "outputs": [
    {
     "name": "stdout",
     "output_type": "stream",
     "text": [
      "1\n",
      "2\n",
      "3\n",
      "4\n",
      "5\n",
      "6\n",
      "7\n"
     ]
    }
   ],
   "source": [
    "#demetler üzerinde gezinme\n",
    "demet = {1,2,3,4,5,6,7}\n",
    "for eleman in demet:\n",
    "    print(eleman)"
   ]
  },
  {
   "cell_type": "code",
   "execution_count": 18,
   "id": "622649de",
   "metadata": {},
   "outputs": [
    {
     "name": "stdout",
     "output_type": "stream",
     "text": [
      "(1, 2)\n",
      "(3, 4)\n",
      "(5, 6)\n",
      "(7, 8)\n",
      "i: 1, j: 2\n",
      "i: 3, j: 4\n",
      "i: 5, j: 6\n",
      "i: 7, j: 8\n"
     ]
    }
   ],
   "source": [
    "liste = [(1,2),(3,4),(5,6),(7,8)]\n",
    "for eleman in liste:\n",
    "    print(eleman)\n",
    "for (i,j) in liste:\n",
    "    print(\"i: {}, j: {}\".format(i,j))"
   ]
  },
  {
   "cell_type": "code",
   "execution_count": 19,
   "id": "19ae4788",
   "metadata": {},
   "outputs": [
    {
     "name": "stdout",
     "output_type": "stream",
     "text": [
      "1 2 3\n",
      "4 5 6\n",
      "7 8 9\n",
      "321 43 5443\n",
      "6\n",
      "120\n",
      "504\n",
      "75129729\n"
     ]
    }
   ],
   "source": [
    "liste = [(1,2,3),(4,5,6),(7,8,9),(321,43,5443)]\n",
    "for (i,j,k) in liste:\n",
    "    print(i,j,k)\n",
    "for (i,j,k) in liste:\n",
    "    print(i*j*k)"
   ]
  },
  {
   "cell_type": "code",
   "execution_count": 21,
   "id": "84f1357f",
   "metadata": {},
   "outputs": [
    {
     "name": "stdout",
     "output_type": "stream",
     "text": [
      "bir\n",
      "iki\n",
      "üç\n",
      "1\n",
      "2\n",
      "3\n",
      "('bir', 1)\n",
      "('iki', 2)\n",
      "('üç', 3)\n"
     ]
    }
   ],
   "source": [
    "#sözlükler üzerinde gezinmek!!!1\n",
    "sözlük =  {\"bir\":1,\"iki\":2,\"üç\":3}\n",
    "for eleman in sözlük:\n",
    "    print(eleman)\n",
    "for eleman in sözlük.values():\n",
    "    print(eleman)\n",
    "for eleman in sözlük.items():\n",
    "    print(eleman)"
   ]
  },
  {
   "cell_type": "code",
   "execution_count": 22,
   "id": "a25f962d",
   "metadata": {},
   "outputs": [],
   "source": [
    "#WHİLE DÖNGÜLERİ!!!!!!!!!!!!!\n",
    "#while(koşul):"
   ]
  },
  {
   "cell_type": "code",
   "execution_count": 23,
   "id": "96a289e4",
   "metadata": {},
   "outputs": [
    {
     "name": "stdout",
     "output_type": "stream",
     "text": [
      "i'nin değeri: 0\n",
      "i'nin değeri: 1\n",
      "i'nin değeri: 2\n",
      "i'nin değeri: 3\n",
      "i'nin değeri: 4\n",
      "i'nin değeri: 5\n",
      "i'nin değeri: 6\n",
      "i'nin değeri: 7\n",
      "i'nin değeri: 8\n",
      "i'nin değeri: 9\n"
     ]
    }
   ],
   "source": [
    "#döngüde i değerlerini yazdırma\n",
    "i=0\n",
    "while(i<10):\n",
    "    print(\"i'nin değeri: {}\".format(i))\n",
    "    i+=1 #koşul bir süre sonra false olmasu için gereklı"
   ]
  },
  {
   "cell_type": "code",
   "execution_count": 24,
   "id": "c8f7d15e",
   "metadata": {},
   "outputs": [
    {
     "name": "stdout",
     "output_type": "stream",
     "text": [
      "i'nin değeri: 0\n",
      "i'nin değeri: 2\n",
      "i'nin değeri: 4\n",
      "i'nin değeri: 6\n",
      "i'nin değeri: 8\n",
      "i'nin değeri: 10\n",
      "i'nin değeri: 12\n",
      "i'nin değeri: 14\n",
      "i'nin değeri: 16\n",
      "i'nin değeri: 18\n"
     ]
    }
   ],
   "source": [
    "i=0\n",
    "while(i<20):\n",
    "    print(\"i'nin değeri: {}\".format(i))\n",
    "    i+=2"
   ]
  },
  {
   "cell_type": "code",
   "execution_count": 25,
   "id": "14762061",
   "metadata": {},
   "outputs": [
    {
     "name": "stdout",
     "output_type": "stream",
     "text": [
      "Burak Furkan ERKEMEN\n",
      "Burak Furkan ERKEMEN\n",
      "Burak Furkan ERKEMEN\n",
      "Burak Furkan ERKEMEN\n",
      "Burak Furkan ERKEMEN\n",
      "Burak Furkan ERKEMEN\n",
      "Burak Furkan ERKEMEN\n",
      "Burak Furkan ERKEMEN\n",
      "Burak Furkan ERKEMEN\n",
      "Burak Furkan ERKEMEN\n",
      "Burak Furkan ERKEMEN\n",
      "Burak Furkan ERKEMEN\n",
      "Burak Furkan ERKEMEN\n",
      "Burak Furkan ERKEMEN\n",
      "Burak Furkan ERKEMEN\n",
      "Burak Furkan ERKEMEN\n",
      "Burak Furkan ERKEMEN\n",
      "Burak Furkan ERKEMEN\n",
      "Burak Furkan ERKEMEN\n",
      "Burak Furkan ERKEMEN\n",
      "Burak Furkan ERKEMEN\n",
      "Burak Furkan ERKEMEN\n",
      "Burak Furkan ERKEMEN\n",
      "Burak Furkan ERKEMEN\n",
      "Burak Furkan ERKEMEN\n",
      "Burak Furkan ERKEMEN\n",
      "Burak Furkan ERKEMEN\n",
      "Burak Furkan ERKEMEN\n",
      "Burak Furkan ERKEMEN\n",
      "Burak Furkan ERKEMEN\n",
      "Burak Furkan ERKEMEN\n",
      "Burak Furkan ERKEMEN\n",
      "Burak Furkan ERKEMEN\n",
      "Burak Furkan ERKEMEN\n",
      "Burak Furkan ERKEMEN\n",
      "Burak Furkan ERKEMEN\n",
      "Burak Furkan ERKEMEN\n",
      "Burak Furkan ERKEMEN\n",
      "Burak Furkan ERKEMEN\n",
      "Burak Furkan ERKEMEN\n"
     ]
    }
   ],
   "source": [
    "i=0\n",
    "while(i<40):\n",
    "    print(\"Burak Furkan ERKEMEN\")\n",
    "    i+=1"
   ]
  },
  {
   "cell_type": "code",
   "execution_count": 28,
   "id": "fd203d27",
   "metadata": {},
   "outputs": [
    {
     "name": "stdout",
     "output_type": "stream",
     "text": [
      "index:0   liste elemanı: 1\n",
      "index:1   liste elemanı: 2\n",
      "index:2   liste elemanı: 3\n",
      "index:3   liste elemanı: 4\n",
      "index:4   liste elemanı: 5\n"
     ]
    }
   ],
   "source": [
    "liste = [1,2,3,4,5]\n",
    "index=0\n",
    "while(index<len(liste)):\n",
    "    print(\"index:{}   liste elemanı: {}\".format(index,liste[index]))\n",
    "    index+=1"
   ]
  },
  {
   "cell_type": "code",
   "execution_count": 1,
   "id": "a4c704a5",
   "metadata": {},
   "outputs": [],
   "source": [
    "#range() fonksiyonu!!!\n",
    "#başlangıç- bitiş değeri veya arttırma değeri verilir!!\n",
    "#son sayı alınmaz!\n",
    "#range(0,3) = 0,1,2"
   ]
  },
  {
   "cell_type": "code",
   "execution_count": 2,
   "id": "c193a226",
   "metadata": {},
   "outputs": [
    {
     "name": "stdout",
     "output_type": "stream",
     "text": [
      "0 1 2 3 4 5 6 7 8 9 10 11 12 13 14 15 16 17 18 19\n"
     ]
    }
   ],
   "source": [
    "range(0,20)\n",
    "print(*range(0,20))#başına * konmalı"
   ]
  },
  {
   "cell_type": "code",
   "execution_count": 5,
   "id": "46bf8f1b",
   "metadata": {},
   "outputs": [
    {
     "name": "stdout",
     "output_type": "stream",
     "text": [
      "0 1 2 3 4 5 6 7 8 9 10 11 12 13 14 15 16 17 18 19\n"
     ]
    }
   ],
   "source": [
    "a=range(0,20)\n",
    "print(*a)"
   ]
  },
  {
   "cell_type": "code",
   "execution_count": 6,
   "id": "706acdc5",
   "metadata": {},
   "outputs": [
    {
     "name": "stdout",
     "output_type": "stream",
     "text": [
      "0 1 2 3 4 5 6 7 8 9 10 11 12 13 14 15 16 17 18 19\n"
     ]
    }
   ],
   "source": [
    "a=range(20)\n",
    "print(*a)"
   ]
  },
  {
   "cell_type": "code",
   "execution_count": 10,
   "id": "839048dc",
   "metadata": {},
   "outputs": [
    {
     "name": "stdout",
     "output_type": "stream",
     "text": [
      "0 2 4 6 8 10 12 14 16 18\n"
     ]
    }
   ],
   "source": [
    "a=range(0,20,2)\n",
    "print(*a)"
   ]
  },
  {
   "cell_type": "code",
   "execution_count": 12,
   "id": "dd417e9d",
   "metadata": {},
   "outputs": [
    {
     "name": "stdout",
     "output_type": "stream",
     "text": [
      "100 90 80 70 60 50 40 30 20 10\n"
     ]
    }
   ],
   "source": [
    "#yuksekten dusup azalması ıcın deger aralıgında \"-\" \n",
    "#bır sayı verılıp dusurulmesı lazım\n",
    "a = range(100,0,-10)\n",
    "print(*a)"
   ]
  },
  {
   "cell_type": "code",
   "execution_count": 13,
   "id": "60a89040",
   "metadata": {},
   "outputs": [
    {
     "name": "stdout",
     "output_type": "stream",
     "text": [
      "1\n",
      "2\n",
      "3\n",
      "4\n",
      "5\n",
      "6\n",
      "7\n",
      "8\n",
      "9\n",
      "10\n",
      "11\n",
      "12\n",
      "13\n",
      "14\n"
     ]
    }
   ],
   "source": [
    "for i in range(1,15):\n",
    "    print(i)"
   ]
  },
  {
   "cell_type": "code",
   "execution_count": 15,
   "id": "047e2dc8",
   "metadata": {},
   "outputs": [
    {
     "name": "stdout",
     "output_type": "stream",
     "text": [
      "* \n",
      "* * \n",
      "* * * \n",
      "* * * * \n",
      "* * * * * \n",
      "* * * * * * \n",
      "* * * * * * * \n",
      "* * * * * * * * \n",
      "* * * * * * * * * \n"
     ]
    }
   ],
   "source": [
    "for i in range(1,10):\n",
    "    print(\"* \"*i)"
   ]
  },
  {
   "cell_type": "code",
   "execution_count": 16,
   "id": "1ec1d313",
   "metadata": {},
   "outputs": [],
   "source": [
    "#BREAK - CONTİNUE !!!!!!!!!!\n",
    "#break - ifadesi!!!! \n",
    "#break döngüyü istenilen sonuç gelmesi durumunda kırma işlemi yapmaktadır!"
   ]
  },
  {
   "cell_type": "code",
   "execution_count": 18,
   "id": "7324d28f",
   "metadata": {},
   "outputs": [
    {
     "name": "stdout",
     "output_type": "stream",
     "text": [
      "0\n",
      "1\n",
      "2\n",
      "3\n",
      "4\n",
      "Döngü biter\n"
     ]
    }
   ],
   "source": [
    "i=0\n",
    "while(i<10):\n",
    "    print(i)\n",
    "    i+=1\n",
    "    if(i==5):\n",
    "        break\n",
    "print(\"Döngü biter\")"
   ]
  },
  {
   "cell_type": "code",
   "execution_count": 19,
   "id": "96109764",
   "metadata": {},
   "outputs": [
    {
     "name": "stdout",
     "output_type": "stream",
     "text": [
      "i: 0\n",
      "i: 1\n",
      "i: 2\n",
      "Döngü Biter\n"
     ]
    }
   ],
   "source": [
    "for i in range(0,6):\n",
    "    if(i == 3):\n",
    "        break\n",
    "    print(\"i:\",i)\n",
    "print(\"Döngü Biter\")"
   ]
  },
  {
   "cell_type": "code",
   "execution_count": 21,
   "id": "e0d006e1",
   "metadata": {},
   "outputs": [
    {
     "name": "stdout",
     "output_type": "stream",
     "text": [
      "çıkmak için q'ya basınız \n",
      "İsim giriniz:q\n",
      "uygulamadan cıılıyor!\n"
     ]
    }
   ],
   "source": [
    "while True: #sonsuz döngüdür break kullanılmalı!\n",
    "    isim=input(\"çıkmak için q'ya basınız \\nİsim giriniz:\")\n",
    "    if(isim == \"q\"):\n",
    "        print(\"uygulamadan cıılıyor!\")\n",
    "        break\n",
    "    print(\"isminiz:\",isim)\n",
    "    "
   ]
  },
  {
   "cell_type": "code",
   "execution_count": 22,
   "id": "62234ec7",
   "metadata": {},
   "outputs": [],
   "source": [
    "#continue ifadesi --->döngü gordüğü zaman işlemi bırakıp tekrar döngü içine döner"
   ]
  },
  {
   "cell_type": "code",
   "execution_count": 27,
   "id": "25cbd2f0",
   "metadata": {},
   "outputs": [
    {
     "name": "stdout",
     "output_type": "stream",
     "text": [
      "i: 0\n",
      "i: 1\n",
      "i: 2\n",
      "i: 4\n",
      "i: 5\n",
      "i: 7\n",
      "i: 8\n",
      "i: 9\n",
      "i: 10\n"
     ]
    }
   ],
   "source": [
    "liste = list(range(11))\n",
    "for i in liste:\n",
    "    if(i==3 or i==6):\n",
    "        continue\n",
    "    print(\"i:\",i)\n",
    "    "
   ]
  },
  {
   "cell_type": "code",
   "execution_count": 8,
   "id": "0f7a7f51",
   "metadata": {},
   "outputs": [
    {
     "name": "stdout",
     "output_type": "stream",
     "text": [
      "i: 0\n",
      "i: 1\n",
      "i: 3\n",
      "i: 4\n",
      "i: 5\n",
      "i: 6\n",
      "i: 7\n",
      "i: 8\n",
      "i: 9\n"
     ]
    }
   ],
   "source": [
    "a=0\n",
    "while(a < 10):\n",
    "    if(a == 2):\n",
    "        a +=1\n",
    "        continue\n",
    "    print(\"i:\",a)\n",
    "    a += 1"
   ]
  },
  {
   "cell_type": "code",
   "execution_count": 9,
   "id": "d8e5ad06",
   "metadata": {},
   "outputs": [
    {
     "name": "stdout",
     "output_type": "stream",
     "text": [
      "1\n",
      "3\n",
      "4\n",
      "6\n",
      "7\n",
      "8\n",
      "9\n"
     ]
    }
   ],
   "source": [
    "i = 1\n",
    "while (i < 10):\n",
    "    if(not(i == 2) and (not(i == 5))):\n",
    "        print(i)\n",
    "    i += 1"
   ]
  },
  {
   "cell_type": "code",
   "execution_count": 10,
   "id": "57cc70c7",
   "metadata": {},
   "outputs": [
    {
     "data": {
      "text/plain": [
       "[1, 2, 3, 4, 5]"
      ]
     },
     "execution_count": 10,
     "metadata": {},
     "output_type": "execute_result"
    }
   ],
   "source": [
    "#LİST COMPREHENSİON \n",
    "#kolay yöntemle liste üsertmeyi sağlar\n",
    "#listelerdeki append metdunu hatırla\n",
    "liste=[1,2,3,4]\n",
    "liste.append(5)\n",
    "liste"
   ]
  },
  {
   "cell_type": "code",
   "execution_count": 11,
   "id": "b6e2f255",
   "metadata": {},
   "outputs": [
    {
     "name": "stdout",
     "output_type": "stream",
     "text": [
      "[1, 2, 3, 4, 5]\n"
     ]
    }
   ],
   "source": [
    "#liste1 den liste2 yi oluşturma\n",
    "liste1=[1,2,3,4,5]\n",
    "liste2=list() #liste2=[] ikisi de boş liste oluşturka\n",
    "for i in liste1:\n",
    "    liste2.append(i) #liste2 ye liste 1 in elemanları for döngüsüyle aktarılır\n",
    "print(liste2)"
   ]
  },
  {
   "cell_type": "code",
   "execution_count": 13,
   "id": "766a4254",
   "metadata": {},
   "outputs": [
    {
     "name": "stdout",
     "output_type": "stream",
     "text": [
      "[1, 2, 3, 4, 5, 6]\n"
     ]
    }
   ],
   "source": [
    "liste3=[1,2,3,4,5,6]\n",
    "liste4=[i for i in liste3]  \n",
    "#[i for i in liste3]   \n",
    "#i değeri liste 3 teki her i değeri üstünde gezinerek onları liste4 e aktarır\n",
    "print(liste4)"
   ]
  },
  {
   "cell_type": "code",
   "execution_count": 16,
   "id": "3d45bdf2",
   "metadata": {},
   "outputs": [
    {
     "name": "stdout",
     "output_type": "stream",
     "text": [
      "[6, 8, 10]\n"
     ]
    }
   ],
   "source": [
    "liste =[3,4,5]\n",
    "liste1=[i * 2 for i in liste] #liste1 liste'nin 2 katı olarak yazdırılır\n",
    "print(liste1)"
   ]
  },
  {
   "cell_type": "code",
   "execution_count": 17,
   "id": "d6c2a398",
   "metadata": {},
   "outputs": [
    {
     "name": "stdout",
     "output_type": "stream",
     "text": [
      "[2, 12, 30]\n"
     ]
    }
   ],
   "source": [
    "liste = [(1,2),(3,4),(5,6)]\n",
    "liste1 = [i*j for i,j in liste]\n",
    "print(liste1)"
   ]
  },
  {
   "cell_type": "code",
   "execution_count": 18,
   "id": "e2fa9db1",
   "metadata": {},
   "outputs": [
    {
     "name": "stdout",
     "output_type": "stream",
     "text": [
      "['PPP', 'yyy', 'ttt', 'hhh', 'ooo', 'nnn']\n"
     ]
    }
   ],
   "source": [
    "s = \"Python\"\n",
    "liste1=[i*3 for i in s]\n",
    "print(liste1)"
   ]
  },
  {
   "cell_type": "code",
   "execution_count": 20,
   "id": "04413c1e",
   "metadata": {},
   "outputs": [
    {
     "name": "stdout",
     "output_type": "stream",
     "text": [
      "(1, 2, 3, 4)\n",
      "(5, 6, 7)\n",
      "(8, 9, 10, 11, 12, 13, 14, 15)\n"
     ]
    }
   ],
   "source": [
    "#!!!!!!!!!!!!!!!!!!!!!!!!!!!!!!!!!!!!!!!!!!!!!!!!!!!!\n",
    "liste = [(1,2,3,4),(5,6,7),(8,9,10,11,12,13,14,15)]\n",
    "liste2 = list()\n",
    "for i in liste:\n",
    "    print(i) #burakali i değeride aslında bir liste"
   ]
  },
  {
   "cell_type": "code",
   "execution_count": 27,
   "id": "945a5c7a",
   "metadata": {},
   "outputs": [
    {
     "name": "stdout",
     "output_type": "stream",
     "text": [
      "[1, 2, 3, 4, 5, 6, 7, 8, 9, 10, 11, 12, 13, 14, 15]\n"
     ]
    }
   ],
   "source": [
    "liste = [(1,2,3,4),(5,6,7),(8,9,10,11,12,13,14,15)]\n",
    "liste1= list()\n",
    "for i in liste:\n",
    "    for x in i:\n",
    "        liste1.append(x)\n",
    "print(liste1)"
   ]
  },
  {
   "cell_type": "code",
   "execution_count": 28,
   "id": "d76ff9c1",
   "metadata": {},
   "outputs": [
    {
     "name": "stdout",
     "output_type": "stream",
     "text": [
      "[1, 2, 3, 4, 5, 6, 7, 8, 9, 10, 11, 12, 13, 14, 15]\n"
     ]
    }
   ],
   "source": [
    "liste = [(1,2,3,4),(5,6,7),(8,9,10,11,12,13,14,15)]\n",
    "liste1 = [x for i in liste for x in i] \n",
    "print(liste1)"
   ]
  },
  {
   "cell_type": "code",
   "execution_count": null,
   "id": "0781c3cf",
   "metadata": {},
   "outputs": [],
   "source": []
  }
 ],
 "metadata": {
  "kernelspec": {
   "display_name": "Python 3 (ipykernel)",
   "language": "python",
   "name": "python3"
  },
  "language_info": {
   "codemirror_mode": {
    "name": "ipython",
    "version": 3
   },
   "file_extension": ".py",
   "mimetype": "text/x-python",
   "name": "python",
   "nbconvert_exporter": "python",
   "pygments_lexer": "ipython3",
   "version": "3.9.7"
  }
 },
 "nbformat": 4,
 "nbformat_minor": 5
}
