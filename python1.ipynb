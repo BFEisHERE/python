{
 "cells": [
  {
   "cell_type": "code",
   "execution_count": 1,
   "id": "caaeff68",
   "metadata": {},
   "outputs": [
    {
     "data": {
      "text/plain": [
       "7"
      ]
     },
     "execution_count": 1,
     "metadata": {},
     "output_type": "execute_result"
    }
   ],
   "source": [
    "3+4"
   ]
  },
  {
   "cell_type": "code",
   "execution_count": 2,
   "id": "fdff5c68",
   "metadata": {},
   "outputs": [
    {
     "name": "stdout",
     "output_type": "stream",
     "text": [
      "-1\n"
     ]
    }
   ],
   "source": [
    "x=3-4\n",
    "print(x)"
   ]
  },
  {
   "cell_type": "code",
   "execution_count": 3,
   "id": "5c5df5f3",
   "metadata": {},
   "outputs": [
    {
     "data": {
      "text/plain": [
       "7.0"
      ]
     },
     "execution_count": 3,
     "metadata": {},
     "output_type": "execute_result"
    }
   ],
   "source": [
    "56/8"
   ]
  },
  {
   "cell_type": "code",
   "execution_count": 4,
   "id": "676107a5",
   "metadata": {},
   "outputs": [
    {
     "data": {
      "text/plain": [
       "5.6"
      ]
     },
     "execution_count": 4,
     "metadata": {},
     "output_type": "execute_result"
    }
   ],
   "source": [
    "56/10"
   ]
  },
  {
   "cell_type": "code",
   "execution_count": 5,
   "id": "b4b795b9",
   "metadata": {},
   "outputs": [
    {
     "data": {
      "text/plain": [
       "7.0"
      ]
     },
     "execution_count": 5,
     "metadata": {},
     "output_type": "execute_result"
    }
   ],
   "source": [
    "2.1+4.9"
   ]
  },
  {
   "cell_type": "code",
   "execution_count": 6,
   "id": "9637739f",
   "metadata": {},
   "outputs": [
    {
     "name": "stdout",
     "output_type": "stream",
     "text": [
      "10\n",
      "23.14\n",
      "15\n"
     ]
    }
   ],
   "source": [
    "x=10\n",
    "y=20\n",
    "z=3.14\n",
    "print(x)\n",
    "x=y+z\n",
    "print(x)\n",
    "x=15\n",
    "print(x)"
   ]
  },
  {
   "cell_type": "code",
   "execution_count": 7,
   "id": "eb18af59",
   "metadata": {},
   "outputs": [
    {
     "data": {
      "text/plain": [
       "2"
      ]
     },
     "execution_count": 7,
     "metadata": {},
     "output_type": "execute_result"
    }
   ],
   "source": [
    "i=1\n",
    "i+=i\n",
    "i"
   ]
  },
  {
   "cell_type": "code",
   "execution_count": 10,
   "id": "5ccd77d6",
   "metadata": {},
   "outputs": [
    {
     "data": {
      "text/plain": [
       "11"
      ]
     },
     "execution_count": 10,
     "metadata": {},
     "output_type": "execute_result"
    }
   ],
   "source": [
    "i+=3\n",
    "i"
   ]
  },
  {
   "cell_type": "code",
   "execution_count": 11,
   "id": "6efa9766",
   "metadata": {},
   "outputs": [
    {
     "data": {
      "text/plain": [
       "11"
      ]
     },
     "execution_count": 11,
     "metadata": {},
     "output_type": "execute_result"
    }
   ],
   "source": [
    "i"
   ]
  },
  {
   "cell_type": "code",
   "execution_count": 12,
   "id": "545906f2",
   "metadata": {},
   "outputs": [
    {
     "data": {
      "text/plain": [
       "12"
      ]
     },
     "execution_count": 12,
     "metadata": {},
     "output_type": "execute_result"
    }
   ],
   "source": [
    "i += 1\n",
    "i"
   ]
  },
  {
   "cell_type": "code",
   "execution_count": null,
   "id": "67231511",
   "metadata": {},
   "outputs": [],
   "source": [
    "\"\"\"\n",
    "2. ders \n",
    "\"\"\""
   ]
  },
  {
   "cell_type": "code",
   "execution_count": 13,
   "id": "ba4dd5db",
   "metadata": {},
   "outputs": [
    {
     "data": {
      "text/plain": [
       "133"
      ]
     },
     "execution_count": 13,
     "metadata": {},
     "output_type": "execute_result"
    }
   ],
   "source": [
    "k=34\n",
    "l=45\n",
    "m=54\n",
    "z=k+l+m\n",
    "z"
   ]
  },
  {
   "cell_type": "code",
   "execution_count": 14,
   "id": "6376fe81",
   "metadata": {},
   "outputs": [
    {
     "data": {
      "text/plain": [
       "-11"
      ]
     },
     "execution_count": 14,
     "metadata": {},
     "output_type": "execute_result"
    }
   ],
   "source": [
    "k -l"
   ]
  },
  {
   "cell_type": "code",
   "execution_count": 15,
   "id": "a40f0b81",
   "metadata": {},
   "outputs": [
    {
     "data": {
      "text/plain": [
       "-9"
      ]
     },
     "execution_count": 15,
     "metadata": {},
     "output_type": "execute_result"
    }
   ],
   "source": [
    "l-m"
   ]
  },
  {
   "cell_type": "code",
   "execution_count": 18,
   "id": "5a6f2772",
   "metadata": {},
   "outputs": [
    {
     "data": {
      "text/plain": [
       "3.911764705882353"
      ]
     },
     "execution_count": 18,
     "metadata": {},
     "output_type": "execute_result"
    }
   ],
   "source": [
    "a=z/k\n",
    "a"
   ]
  },
  {
   "cell_type": "code",
   "execution_count": 17,
   "id": "9bb326aa",
   "metadata": {},
   "outputs": [
    {
     "data": {
      "text/plain": [
       "1.0"
      ]
     },
     "execution_count": 17,
     "metadata": {},
     "output_type": "execute_result"
    }
   ],
   "source": [
    "z/z"
   ]
  },
  {
   "cell_type": "code",
   "execution_count": 19,
   "id": "e7507854",
   "metadata": {},
   "outputs": [
    {
     "data": {
      "text/plain": [
       "0.0869281045751634"
      ]
     },
     "execution_count": 19,
     "metadata": {},
     "output_type": "execute_result"
    }
   ],
   "source": [
    "a/l"
   ]
  },
  {
   "cell_type": "code",
   "execution_count": 26,
   "id": "51539318",
   "metadata": {},
   "outputs": [
    {
     "name": "stdout",
     "output_type": "stream",
     "text": [
      "9.583333333333334\n",
      "9\n"
     ]
    }
   ],
   "source": [
    "a=345\n",
    "b=36\n",
    "print(a/b)\n",
    "print(a//b)#ondalıksız bölme işlemi yapar"
   ]
  },
  {
   "cell_type": "code",
   "execution_count": 30,
   "id": "fcbfc968",
   "metadata": {},
   "outputs": [
    {
     "data": {
      "text/plain": [
       "0.36354869816779173"
      ]
     },
     "execution_count": 30,
     "metadata": {},
     "output_type": "execute_result"
    }
   ],
   "source": [
    "11.31/31.11"
   ]
  },
  {
   "cell_type": "code",
   "execution_count": 31,
   "id": "1751effe",
   "metadata": {},
   "outputs": [
    {
     "data": {
      "text/plain": [
       "0.0"
      ]
     },
     "execution_count": 31,
     "metadata": {},
     "output_type": "execute_result"
    }
   ],
   "source": [
    "11.31//31.11"
   ]
  },
  {
   "cell_type": "code",
   "execution_count": 32,
   "id": "764ae660",
   "metadata": {},
   "outputs": [
    {
     "data": {
      "text/plain": [
       "0"
      ]
     },
     "execution_count": 32,
     "metadata": {},
     "output_type": "execute_result"
    }
   ],
   "source": [
    "#kalan bulma\n",
    "12%4"
   ]
  },
  {
   "cell_type": "code",
   "execution_count": 33,
   "id": "8e57f066",
   "metadata": {},
   "outputs": [
    {
     "data": {
      "text/plain": [
       "16"
      ]
     },
     "execution_count": 33,
     "metadata": {},
     "output_type": "execute_result"
    }
   ],
   "source": [
    "#üst bulma operatörü\n",
    "4**2"
   ]
  },
  {
   "cell_type": "code",
   "execution_count": 34,
   "id": "00e258a7",
   "metadata": {},
   "outputs": [
    {
     "data": {
      "text/plain": [
       "2"
      ]
     },
     "execution_count": 34,
     "metadata": {},
     "output_type": "execute_result"
    }
   ],
   "source": [
    "2**1"
   ]
  },
  {
   "cell_type": "code",
   "execution_count": 35,
   "id": "3b0d0523",
   "metadata": {},
   "outputs": [
    {
     "data": {
      "text/plain": [
       "2.291527663603424e+52"
      ]
     },
     "execution_count": 35,
     "metadata": {},
     "output_type": "execute_result"
    }
   ],
   "source": [
    "2.31**144"
   ]
  },
  {
   "cell_type": "code",
   "execution_count": 36,
   "id": "880949c9",
   "metadata": {},
   "outputs": [
    {
     "data": {
      "text/plain": [
       "151500037377440640765229965084862736481581201922403009524250816922368622529367267027151087462523849447461906980964644550129657960687694718939297936666538128651960731935302110984828778132466682335112987387911997848629563807304450268134917832594194031630315031523409866449672617615786253286603966041083426292450512374377896054869843711536355968891778761825480306707789616654689214630068689277863118510091668006980517876353870920803653327621921444904027134903294882867410743407464472554946546783476239955399312887285457092199959393189799243468658041263344680252035489792480140875249951754534714778456655359834675286983520966582034298451518792492678678095263577945370763475628949330154201348352674902544471591682198464236226566496046544424222792823042528586344687484008953057210897097500052627047823165352259782519165081327753839338652676817942340253626461332329630152662369952603239777468201600892286524084745474556467233589494398978583209136937319895500686411945200314288069444841998777011740413076051006123196967060249185789370233405845397687048673462976997664593740250697156263025697826859658380533521298642977549849690397539907154280210689945080813748743555671339252011653961301105724368600939727513899237376"
      ]
     },
     "execution_count": 36,
     "metadata": {},
     "output_type": "execute_result"
    }
   ],
   "source": [
    "22**900"
   ]
  },
  {
   "cell_type": "code",
   "execution_count": 37,
   "id": "52151b40",
   "metadata": {},
   "outputs": [
    {
     "data": {
      "text/plain": [
       "2539914458263550.5"
      ]
     },
     "execution_count": 37,
     "metadata": {},
     "output_type": "execute_result"
    }
   ],
   "source": [
    "3.14**31"
   ]
  },
  {
   "cell_type": "code",
   "execution_count": 38,
   "id": "f2e6552f",
   "metadata": {},
   "outputs": [
    {
     "data": {
      "text/plain": [
       "2.0"
      ]
     },
     "execution_count": 38,
     "metadata": {},
     "output_type": "execute_result"
    }
   ],
   "source": [
    "#karekök buldurma\n",
    "4**0.5"
   ]
  },
  {
   "cell_type": "code",
   "execution_count": 39,
   "id": "a0e602cd",
   "metadata": {},
   "outputs": [
    {
     "data": {
      "text/plain": [
       "2.0"
      ]
     },
     "execution_count": 39,
     "metadata": {},
     "output_type": "execute_result"
    }
   ],
   "source": [
    "#küpkök\n",
    "8**(1/3)"
   ]
  },
  {
   "cell_type": "code",
   "execution_count": 40,
   "id": "c4f0511d",
   "metadata": {},
   "outputs": [
    {
     "data": {
      "text/plain": [
       "-1"
      ]
     },
     "execution_count": 40,
     "metadata": {},
     "output_type": "execute_result"
    }
   ],
   "source": [
    "#işaret değiştirme\n",
    "a=1\n",
    "-a"
   ]
  },
  {
   "cell_type": "code",
   "execution_count": null,
   "id": "cf1ddd3e",
   "metadata": {},
   "outputs": [],
   "source": [
    "\"\"\"\n",
    "DERS 3 STRİNGLER- KARAKTER DİZİLERİ\n",
    "\"\"\""
   ]
  },
  {
   "cell_type": "code",
   "execution_count": 1,
   "id": "a61709ea",
   "metadata": {},
   "outputs": [
    {
     "data": {
      "text/plain": [
       "'Burak Furkan Erkemen'"
      ]
     },
     "execution_count": 1,
     "metadata": {},
     "output_type": "execute_result"
    }
   ],
   "source": [
    "#tek tırnak ile\n",
    "'Burak Furkan Erkemen'"
   ]
  },
  {
   "cell_type": "code",
   "execution_count": 2,
   "id": "2a137bdc",
   "metadata": {},
   "outputs": [
    {
     "data": {
      "text/plain": [
       "'Burak Furkan Erkemen'"
      ]
     },
     "execution_count": 2,
     "metadata": {},
     "output_type": "execute_result"
    }
   ],
   "source": [
    "#çift tırnak ile \n",
    "\"Burak Furkan Erkemen\""
   ]
  },
  {
   "cell_type": "code",
   "execution_count": 3,
   "id": "8ecffda0",
   "metadata": {},
   "outputs": [
    {
     "data": {
      "text/plain": [
       "'Burak Furkan Erke'"
      ]
     },
     "execution_count": 3,
     "metadata": {},
     "output_type": "execute_result"
    }
   ],
   "source": [
    "# üç tırnak ile \n",
    "\"\"\"Burak Furkan Erke\"\"\""
   ]
  },
  {
   "cell_type": "code",
   "execution_count": 5,
   "id": "e850aafb",
   "metadata": {},
   "outputs": [
    {
     "data": {
      "text/plain": [
       "\"Burak'ın bugün dersi var\""
      ]
     },
     "execution_count": 5,
     "metadata": {},
     "output_type": "execute_result"
    }
   ],
   "source": [
    "\"Burak'ın bugün dersi var\""
   ]
  },
  {
   "cell_type": "code",
   "execution_count": 6,
   "id": "74a8730f",
   "metadata": {},
   "outputs": [
    {
     "data": {
      "text/plain": [
       "\"Burak'ın bugün dersi var\""
      ]
     },
     "execution_count": 6,
     "metadata": {},
     "output_type": "execute_result"
    }
   ],
   "source": [
    "'Burak\\'ın bugün dersi var'"
   ]
  },
  {
   "cell_type": "code",
   "execution_count": 7,
   "id": "b89445c9",
   "metadata": {},
   "outputs": [
    {
     "data": {
      "text/plain": [
       "'Burak'"
      ]
     },
     "execution_count": 7,
     "metadata": {},
     "output_type": "execute_result"
    }
   ],
   "source": [
    "a=\"Burak\"\n",
    "a"
   ]
  },
  {
   "cell_type": "code",
   "execution_count": 8,
   "id": "1a03520e",
   "metadata": {},
   "outputs": [
    {
     "data": {
      "text/plain": [
       "'B'"
      ]
     },
     "execution_count": 8,
     "metadata": {},
     "output_type": "execute_result"
    }
   ],
   "source": [
    "#0. indis\n",
    "a[0]"
   ]
  },
  {
   "cell_type": "code",
   "execution_count": 11,
   "id": "d3b80162",
   "metadata": {},
   "outputs": [
    {
     "name": "stdout",
     "output_type": "stream",
     "text": [
      "u\n",
      "r\n",
      "a\n",
      "k\n"
     ]
    }
   ],
   "source": [
    "#1. indis\n",
    "print(a[1])\n",
    "#2. indis\n",
    "print(a[2])\n",
    "#3. indis\n",
    "print(a[3])\n",
    "#4. indis\n",
    "print(a[4])"
   ]
  },
  {
   "cell_type": "code",
   "execution_count": 14,
   "id": "f6c96095",
   "metadata": {},
   "outputs": [
    {
     "data": {
      "text/plain": [
       "'burak'"
      ]
     },
     "execution_count": 14,
     "metadata": {},
     "output_type": "execute_result"
    }
   ],
   "source": [
    "a=\"burak\"\n",
    "a"
   ]
  },
  {
   "cell_type": "code",
   "execution_count": 15,
   "id": "f226cef9",
   "metadata": {},
   "outputs": [
    {
     "data": {
      "text/plain": [
       "'k'"
      ]
     },
     "execution_count": 15,
     "metadata": {},
     "output_type": "execute_result"
    }
   ],
   "source": [
    "a[-1]"
   ]
  },
  {
   "cell_type": "code",
   "execution_count": 16,
   "id": "f9273458",
   "metadata": {},
   "outputs": [
    {
     "data": {
      "text/plain": [
       "'ur'"
      ]
     },
     "execution_count": 16,
     "metadata": {},
     "output_type": "execute_result"
    }
   ],
   "source": [
    "#[başlama indeksi:bitiş indeksi:atlama değeri]\n",
    "a=\"burak\"\n",
    "a[1:3]"
   ]
  },
  {
   "cell_type": "code",
   "execution_count": 18,
   "id": "fed409b8",
   "metadata": {},
   "outputs": [
    {
     "data": {
      "text/plain": [
       "'BrkFra R'"
      ]
     },
     "execution_count": 18,
     "metadata": {},
     "output_type": "execute_result"
    }
   ],
   "source": [
    "b=\"Burak Furkan ERKEMEN\"\n",
    "b[:10]"
   ]
  },
  {
   "cell_type": "code",
   "execution_count": 19,
   "id": "0b6ce6b5",
   "metadata": {},
   "outputs": [
    {
     "data": {
      "text/plain": [
       "'an ERKEMEN'"
      ]
     },
     "execution_count": 19,
     "metadata": {},
     "output_type": "execute_result"
    }
   ],
   "source": [
    "b[10:]"
   ]
  },
  {
   "cell_type": "code",
   "execution_count": 20,
   "id": "6194742b",
   "metadata": {},
   "outputs": [
    {
     "data": {
      "text/plain": [
       "'Burak Furkan ERKEMEN'"
      ]
     },
     "execution_count": 20,
     "metadata": {},
     "output_type": "execute_result"
    }
   ],
   "source": [
    "b[:]"
   ]
  },
  {
   "cell_type": "code",
   "execution_count": 21,
   "id": "b5f09695",
   "metadata": {},
   "outputs": [
    {
     "data": {
      "text/plain": [
       "'BrkFra R'"
      ]
     },
     "execution_count": 21,
     "metadata": {},
     "output_type": "execute_result"
    }
   ],
   "source": [
    "b[0:15:2]"
   ]
  },
  {
   "cell_type": "code",
   "execution_count": 22,
   "id": "23082303",
   "metadata": {},
   "outputs": [
    {
     "data": {
      "text/plain": [
       "'Burak Furkan ERKEME'"
      ]
     },
     "execution_count": 22,
     "metadata": {},
     "output_type": "execute_result"
    }
   ],
   "source": [
    "b[:-1]"
   ]
  },
  {
   "cell_type": "code",
   "execution_count": 23,
   "id": "b3771746",
   "metadata": {},
   "outputs": [
    {
     "data": {
      "text/plain": [
       "'BaFk KE'"
      ]
     },
     "execution_count": 23,
     "metadata": {},
     "output_type": "execute_result"
    }
   ],
   "source": [
    "b[::3]"
   ]
  },
  {
   "cell_type": "code",
   "execution_count": 24,
   "id": "650002e8",
   "metadata": {},
   "outputs": [
    {
     "data": {
      "text/plain": [
       "'Burak Furkan ERKEMEN'"
      ]
     },
     "execution_count": 24,
     "metadata": {},
     "output_type": "execute_result"
    }
   ],
   "source": [
    "b[::1]"
   ]
  },
  {
   "cell_type": "code",
   "execution_count": 25,
   "id": "9c4d0a23",
   "metadata": {},
   "outputs": [
    {
     "data": {
      "text/plain": [
       "'BrkFra REE'"
      ]
     },
     "execution_count": 25,
     "metadata": {},
     "output_type": "execute_result"
    }
   ],
   "source": [
    "b[::2]"
   ]
  },
  {
   "cell_type": "code",
   "execution_count": 26,
   "id": "66fa5925",
   "metadata": {},
   "outputs": [
    {
     "data": {
      "text/plain": [
       "'NEMEKRE nakruF karuB'"
      ]
     },
     "execution_count": 26,
     "metadata": {},
     "output_type": "execute_result"
    }
   ],
   "source": [
    "b[::-1]"
   ]
  },
  {
   "cell_type": "code",
   "execution_count": 27,
   "id": "a01b536a",
   "metadata": {},
   "outputs": [
    {
     "data": {
      "text/plain": [
       "20"
      ]
     },
     "execution_count": 27,
     "metadata": {},
     "output_type": "execute_result"
    }
   ],
   "source": [
    "#değişkenin uzunluğunu gösterir \n",
    "len(b)"
   ]
  },
  {
   "cell_type": "code",
   "execution_count": 28,
   "id": "c474f3f2",
   "metadata": {},
   "outputs": [
    {
     "ename": "TypeError",
     "evalue": "'str' object does not support item assignment",
     "output_type": "error",
     "traceback": [
      "\u001b[1;31m---------------------------------------------------------------------------\u001b[0m",
      "\u001b[1;31mTypeError\u001b[0m                                 Traceback (most recent call last)",
      "\u001b[1;32m~\\AppData\\Local\\Temp/ipykernel_10392/277289577.py\u001b[0m in \u001b[0;36m<module>\u001b[1;34m\u001b[0m\n\u001b[0;32m      1\u001b[0m \u001b[1;31m#string indisi direk güncellenemez\u001b[0m\u001b[1;33m\u001b[0m\u001b[1;33m\u001b[0m\u001b[0m\n\u001b[1;32m----> 2\u001b[1;33m \u001b[0mb\u001b[0m\u001b[1;33m[\u001b[0m\u001b[1;36m2\u001b[0m\u001b[1;33m]\u001b[0m\u001b[1;33m=\u001b[0m\u001b[1;34m'a'\u001b[0m\u001b[1;33m\u001b[0m\u001b[1;33m\u001b[0m\u001b[0m\n\u001b[0m",
      "\u001b[1;31mTypeError\u001b[0m: 'str' object does not support item assignment"
     ]
    }
   ],
   "source": [
    "#string indisi direk güncellenemez\n",
    "b[2]='a'"
   ]
  },
  {
   "cell_type": "code",
   "execution_count": 29,
   "id": "2d57430c",
   "metadata": {},
   "outputs": [
    {
     "data": {
      "text/plain": [
       "'BurakFurkanERKEMEN'"
      ]
     },
     "execution_count": 29,
     "metadata": {},
     "output_type": "execute_result"
    }
   ],
   "source": [
    "#stringler toplanabilir\n",
    "a=\"Burak\"\n",
    "b=\"Furkan\"\n",
    "c=\"ERKEMEN\"\n",
    "a+b+c"
   ]
  },
  {
   "cell_type": "code",
   "execution_count": 40,
   "id": "3f594436",
   "metadata": {},
   "outputs": [
    {
     "data": {
      "text/plain": [
       "'BurakFurkan ErkemenBurakFurkan ErkemenBurakFurkan Erkemen'"
      ]
     },
     "execution_count": 40,
     "metadata": {},
     "output_type": "execute_result"
    }
   ],
   "source": [
    "a*3"
   ]
  },
  {
   "cell_type": "code",
   "execution_count": 1,
   "id": "86257d4b",
   "metadata": {},
   "outputs": [],
   "source": [
    "#VERİ TİPİ DÖNÜŞÜMLERİ\n",
    "#İNPUT FONKSİYONLARINDA KULLANILIR GENEL OLARAK. KULLANICI GİRDİLERİ\n",
    "#STRİNG OLARAK ALINIR!!!!!"
   ]
  },
  {
   "cell_type": "code",
   "execution_count": 2,
   "id": "0b2f85d8",
   "metadata": {},
   "outputs": [
    {
     "data": {
      "text/plain": [
       "43.0"
      ]
     },
     "execution_count": 2,
     "metadata": {},
     "output_type": "execute_result"
    }
   ],
   "source": [
    "a=43\n",
    "#a bır tam sayıdır(int) ondalıklı sayıya çevirmek istersek float kullanırız\n",
    "float(a)"
   ]
  },
  {
   "cell_type": "code",
   "execution_count": 3,
   "id": "6f47c5fe",
   "metadata": {},
   "outputs": [
    {
     "data": {
      "text/plain": [
       "43"
      ]
     },
     "execution_count": 3,
     "metadata": {},
     "output_type": "execute_result"
    }
   ],
   "source": [
    "a=43.31\n",
    "#ondalıklı a sayısını tam sayıya çevirme\n",
    "int(a)"
   ]
  },
  {
   "cell_type": "code",
   "execution_count": 4,
   "id": "cad9bbb7",
   "metadata": {},
   "outputs": [
    {
     "data": {
      "text/plain": [
       "'23'"
      ]
     },
     "execution_count": 4,
     "metadata": {},
     "output_type": "execute_result"
    }
   ],
   "source": [
    "#SAYILARI STRİNGE ÇEVİRME \n",
    "#bir sayıyı stringe çevirmek için \"str()\" kullanılır!!!! \n",
    "a=23\n",
    "b=str(a)\n",
    "b"
   ]
  },
  {
   "cell_type": "code",
   "execution_count": 5,
   "id": "08ba13bc",
   "metadata": {},
   "outputs": [
    {
     "data": {
      "text/plain": [
       "'23.23'"
      ]
     },
     "execution_count": 5,
     "metadata": {},
     "output_type": "execute_result"
    }
   ],
   "source": [
    "a=23.23\n",
    "b=str(a)\n",
    "b"
   ]
  },
  {
   "cell_type": "code",
   "execution_count": 7,
   "id": "2faf3b8d",
   "metadata": {},
   "outputs": [
    {
     "data": {
      "text/plain": [
       "345.0"
      ]
     },
     "execution_count": 7,
     "metadata": {},
     "output_type": "execute_result"
    }
   ],
   "source": [
    "a=str(345)\n",
    "b=float(a)\n",
    "b"
   ]
  },
  {
   "cell_type": "code",
   "execution_count": 8,
   "id": "22042d4f",
   "metadata": {},
   "outputs": [
    {
     "data": {
      "text/plain": [
       "3"
      ]
     },
     "execution_count": 8,
     "metadata": {},
     "output_type": "execute_result"
    }
   ],
   "source": [
    "len(a)"
   ]
  },
  {
   "cell_type": "code",
   "execution_count": 10,
   "id": "fbf2b6b4",
   "metadata": {},
   "outputs": [
    {
     "data": {
      "text/plain": [
       "51866886"
      ]
     },
     "execution_count": 10,
     "metadata": {},
     "output_type": "execute_result"
    }
   ],
   "source": [
    "a=\"51866886\"\n",
    "int(a)"
   ]
  },
  {
   "cell_type": "code",
   "execution_count": 11,
   "id": "dffc3a85",
   "metadata": {},
   "outputs": [
    {
     "data": {
      "text/plain": [
       "51866886.0"
      ]
     },
     "execution_count": 11,
     "metadata": {},
     "output_type": "execute_result"
    }
   ],
   "source": [
    "float(a)"
   ]
  },
  {
   "cell_type": "code",
   "execution_count": 12,
   "id": "535eda77",
   "metadata": {},
   "outputs": [
    {
     "data": {
      "text/plain": [
       "8"
      ]
     },
     "execution_count": 12,
     "metadata": {},
     "output_type": "execute_result"
    }
   ],
   "source": [
    "len(a)"
   ]
  },
  {
   "cell_type": "code",
   "execution_count": 13,
   "id": "ae4cd5ac",
   "metadata": {},
   "outputs": [
    {
     "data": {
      "text/plain": [
       "484886.1"
      ]
     },
     "execution_count": 13,
     "metadata": {},
     "output_type": "execute_result"
    }
   ],
   "source": [
    "a=\"484886\"\n",
    "b=float(a)+0.1\n",
    "b"
   ]
  },
  {
   "cell_type": "code",
   "execution_count": 14,
   "id": "dc119b10",
   "metadata": {},
   "outputs": [
    {
     "data": {
      "text/plain": [
       "'\\nYAZILAN KODLARI EKRANA BASTIRMAK ISTEDIGIMIZDE KULLANILIR!! \\nprint()=Console.WriteLine();!!!\\nkullanımı basit olmakla birlikte değişik özellikleride vardır!\\n'"
      ]
     },
     "execution_count": 14,
     "metadata": {},
     "output_type": "execute_result"
    }
   ],
   "source": [
    "#PRİNT FONKSİYONU VE FORMATLAMA İŞLEMLERİ!!!!\n",
    "#print() fonksiyonu;\n",
    "\"\"\"\n",
    "YAZILAN KODLARI EKRANA BASTIRMAK ISTEDIGIMIZDE KULLANILIR!! \n",
    "print()=Console.WriteLine();!!!\n",
    "kullanımı basit olmakla birlikte değişik özellikleride vardır!\n",
    "\"\"\""
   ]
  },
  {
   "cell_type": "code",
   "execution_count": 15,
   "id": "1a88556b",
   "metadata": {},
   "outputs": [
    {
     "name": "stdout",
     "output_type": "stream",
     "text": [
      "35\n"
     ]
    }
   ],
   "source": [
    "print(35)"
   ]
  },
  {
   "cell_type": "code",
   "execution_count": 16,
   "id": "6c615a5e",
   "metadata": {},
   "outputs": [
    {
     "name": "stdout",
     "output_type": "stream",
     "text": [
      "3.14\n"
     ]
    }
   ],
   "source": [
    "print(3.14)"
   ]
  },
  {
   "cell_type": "code",
   "execution_count": 20,
   "id": "ddd6976a",
   "metadata": {},
   "outputs": [
    {
     "name": "stdout",
     "output_type": "stream",
     "text": [
      "Burak\n"
     ]
    },
    {
     "data": {
      "text/plain": [
       "'Burak'"
      ]
     },
     "execution_count": 20,
     "metadata": {},
     "output_type": "execute_result"
    }
   ],
   "source": [
    "print(\"Burak\") #print içinde iken tırnaksız output yaptı fakat\n",
    "\"Burak\"        #print kullanılmadığı taktırde tırnaklı bır gösterim oldu!!"
   ]
  },
  {
   "cell_type": "code",
   "execution_count": 22,
   "id": "af075a8b",
   "metadata": {},
   "outputs": [
    {
     "name": "stdout",
     "output_type": "stream",
     "text": [
      "24\n"
     ]
    }
   ],
   "source": [
    "a=15\n",
    "b=\"9\"\n",
    "print(a+int(b))"
   ]
  },
  {
   "cell_type": "code",
   "execution_count": 23,
   "id": "5a262bf9",
   "metadata": {},
   "outputs": [
    {
     "name": "stdout",
     "output_type": "stream",
     "text": [
      "15 16 17 3.14 Hi\n"
     ]
    }
   ],
   "source": [
    "print(15,16,17,3.14,\"Hi\")"
   ]
  },
  {
   "cell_type": "code",
   "execution_count": 24,
   "id": "53cc2e8f",
   "metadata": {},
   "outputs": [
    {
     "name": "stdout",
     "output_type": "stream",
     "text": [
      "Burak\n",
      "Furkan\n",
      "ERKEMEN\n"
     ]
    }
   ],
   "source": [
    "print(\"Burak\\nFurkan\\nERKEMEN\")#\\m satır atlatır! C# taki gibi"
   ]
  },
  {
   "cell_type": "code",
   "execution_count": 28,
   "id": "20b0f67f",
   "metadata": {},
   "outputs": [
    {
     "name": "stdout",
     "output_type": "stream",
     "text": [
      "OCAK\tŞUBAT\tMART\n"
     ]
    }
   ],
   "source": [
    "#\\t 1 tab kadar boşluk atar\n",
    "print(\"OCAK\\tŞUBAT\\tMART\")"
   ]
  },
  {
   "cell_type": "code",
   "execution_count": 30,
   "id": "a1a887b5",
   "metadata": {},
   "outputs": [
    {
     "data": {
      "text/plain": [
       "float"
      ]
     },
     "execution_count": 30,
     "metadata": {},
     "output_type": "execute_result"
    }
   ],
   "source": [
    "#type()  fonksiyonu içine gönderilen değerin hangi tipte olduğunu söyler\n",
    "type(3.16)"
   ]
  },
  {
   "cell_type": "code",
   "execution_count": 33,
   "id": "ac9405ad",
   "metadata": {},
   "outputs": [
    {
     "name": "stdout",
     "output_type": "stream",
     "text": [
      "1,2,3,4,5,6,7\n"
     ]
    }
   ],
   "source": [
    "#PRİNT FONKİYOUNU ÖZELLİKLERİ!!\n",
    "#sep parametresi= yazdırılan değerlerin arasına istenilen karakteri yazdırır!!\n",
    "print(1,2,3,4,5,6,7,sep=\",\")"
   ]
  },
  {
   "cell_type": "code",
   "execution_count": 34,
   "id": "2616725b",
   "metadata": {},
   "outputs": [
    {
     "name": "stdout",
     "output_type": "stream",
     "text": [
      "1\\/2\\/3\\/4\\/5\\/6\\/6\\/32\\/2\\/22\\/2\\/3\n"
     ]
    }
   ],
   "source": [
    "print(1,2,3,4,5,6,6,32,2,22,2,3,sep=\"\\/\")"
   ]
  },
  {
   "cell_type": "code",
   "execution_count": 36,
   "id": "41e4fa03",
   "metadata": {},
   "outputs": [
    {
     "name": "stdout",
     "output_type": "stream",
     "text": [
      "Burak\n",
      "Furkan\n",
      "Erkemen\n"
     ]
    }
   ],
   "source": [
    "print(\"Burak\",\"Furkan\",\"Erkemen\",sep=\"\\n\")"
   ]
  },
  {
   "cell_type": "code",
   "execution_count": 37,
   "id": "63a85e33",
   "metadata": {},
   "outputs": [
    {
     "name": "stdout",
     "output_type": "stream",
     "text": [
      "B u r a k\n"
     ]
    }
   ],
   "source": [
    "#print(*\"\") karakterlerin arasına bir boşluk koyarak ayırır\n",
    "print(*\"Burak\")"
   ]
  },
  {
   "cell_type": "code",
   "execution_count": 38,
   "id": "a8c75512",
   "metadata": {},
   "outputs": [
    {
     "name": "stdout",
     "output_type": "stream",
     "text": [
      "B\n",
      "u\n",
      "r\n",
      "a\n",
      "k\n"
     ]
    }
   ],
   "source": [
    "print(*\"Burak\",sep=\"\\n\")"
   ]
  },
  {
   "cell_type": "code",
   "execution_count": 39,
   "id": "3f0288cc",
   "metadata": {},
   "outputs": [
    {
     "name": "stdout",
     "output_type": "stream",
     "text": [
      "B\tu\tr\ta\tk\n"
     ]
    }
   ],
   "source": [
    "print(*\"Burak\",sep=\"\\t\")"
   ]
  },
  {
   "cell_type": "code",
   "execution_count": 40,
   "id": "68f0acde",
   "metadata": {},
   "outputs": [],
   "source": [
    "#FORMATLAMA İŞLEMİ!!\n",
    "#PRİNTİN İÇİNDEKİ DEĞERİ DEĞİŞTİRMEK İSTEYEBİLİRSİNİZ BU \n",
    "#FORMATLAMA İŞLEMİ İLE YAPILMAKTARDIR"
   ]
  },
  {
   "cell_type": "code",
   "execution_count": 58,
   "id": "1a57fa2c",
   "metadata": {},
   "outputs": [
    {
     "data": {
      "text/plain": [
       "'3.1415 0.1321 0.43232'"
      ]
     },
     "execution_count": 58,
     "metadata": {},
     "output_type": "execute_result"
    }
   ],
   "source": [
    "\"{} {} {}\".format(3.1415,0.1321,0.43232)\n",
    "#BOŞLUK KONULMADIĞI TAKTİRDE SAYILARI BİRLEŞTİREREK YAZIYOR!!! \n",
    "#BENZER İŞLEM C# TA DA VARDIR!"
   ]
  },
  {
   "cell_type": "code",
   "execution_count": 50,
   "id": "d9b33287",
   "metadata": {},
   "outputs": [
    {
     "name": "stdout",
     "output_type": "stream",
     "text": [
      "11 + 12 = 23\n"
     ]
    }
   ],
   "source": [
    "a=11\n",
    "b=12\n",
    "print(\"{} + {} = {}\".format(a,b,a+b))"
   ]
  },
  {
   "cell_type": "code",
   "execution_count": 52,
   "id": "b0ee2237",
   "metadata": {},
   "outputs": [
    {
     "data": {
      "text/plain": [
       "'Burak 21 Yaşındadır 21'"
      ]
     },
     "execution_count": 52,
     "metadata": {},
     "output_type": "execute_result"
    }
   ],
   "source": [
    "#süslü sayıların içindeki sayılar format fonksiyonu içinden hangi sıradaki\n",
    "#değer geleceğini söyler\n",
    "\"{1} {0} {2} {0}\".format(21,\"Burak\",\"Yaşındadır\")"
   ]
  },
  {
   "cell_type": "code",
   "execution_count": 53,
   "id": "87e9f5e1",
   "metadata": {},
   "outputs": [
    {
     "name": "stdout",
     "output_type": "stream",
     "text": [
      "Burak 21 Yaşındadır 21\n"
     ]
    }
   ],
   "source": [
    "print(\"{1} {0} {2} {0}\".format(21,\"Burak\",\"Yaşındadır\"))"
   ]
  },
  {
   "cell_type": "code",
   "execution_count": 55,
   "id": "54b90ddf",
   "metadata": {},
   "outputs": [
    {
     "data": {
      "text/plain": [
       "'3.1 4.14 6.728'"
      ]
     },
     "execution_count": 55,
     "metadata": {},
     "output_type": "execute_result"
    }
   ],
   "source": [
    "#süslü prantezler içindeki kullanım ondalıklı kısım sadece 2 basamağına\n",
    "#kadar olmak istediğini söyler\n",
    "\"{:.1f} {:.2f} {:.3f}\".format(3.1415,4.1415,6.7284) \n",
    "#sonuçta göründüğü gibi sadece yazılan kadar basamağı aldı"
   ]
  },
  {
   "cell_type": "code",
   "execution_count": 57,
   "id": "38f266ae",
   "metadata": {},
   "outputs": [],
   "source": [
    "#LİSTE VERİ TİPLERİ!!!!!!\n",
    "#DİZİLER GİBİ DÜŞÜNÜLEBİLİR!\n",
    "#1)LİSTE OLUŞTURMA\n",
    "#2)İNDEKSLEME VE PARÇALAMA\n",
    "#3)TEMEL LİSTE METODLARI VE İŞLEMLERİ\n",
    "#4)İÇ İÇE LİSTELER"
   ]
  },
  {
   "cell_type": "code",
   "execution_count": 63,
   "id": "51aab4a0",
   "metadata": {},
   "outputs": [
    {
     "name": "stdout",
     "output_type": "stream",
     "text": [
      "Burak Furkan Erkemen 21\n"
     ]
    }
   ],
   "source": [
    "#liste değişkeni, değişken veri tiplerinden değerleri saklayabiliyoruz\n",
    "liste=[\"Burak\",\"Furkan\",\"Erkemen\",21]\n",
    "print(liste[0],liste[1],liste[2],liste[3])"
   ]
  },
  {
   "cell_type": "code",
   "execution_count": 64,
   "id": "41bafc21",
   "metadata": {},
   "outputs": [
    {
     "data": {
      "text/plain": [
       "list"
      ]
     },
     "execution_count": 64,
     "metadata": {},
     "output_type": "execute_result"
    }
   ],
   "source": [
    "type(liste)"
   ]
  },
  {
   "cell_type": "code",
   "execution_count": 65,
   "id": "e2b13f55",
   "metadata": {},
   "outputs": [
    {
     "data": {
      "text/plain": [
       "4"
      ]
     },
     "execution_count": 65,
     "metadata": {},
     "output_type": "execute_result"
    }
   ],
   "source": [
    "len(liste)"
   ]
  },
  {
   "cell_type": "code",
   "execution_count": 66,
   "id": "3444285f",
   "metadata": {},
   "outputs": [
    {
     "data": {
      "text/plain": [
       "[]"
      ]
     },
     "execution_count": 66,
     "metadata": {},
     "output_type": "execute_result"
    }
   ],
   "source": [
    "dizi=[]\n",
    "dizi"
   ]
  },
  {
   "cell_type": "code",
   "execution_count": 67,
   "id": "dbd1d73f",
   "metadata": {},
   "outputs": [
    {
     "data": {
      "text/plain": [
       "['B',\n",
       " 'u',\n",
       " 'r',\n",
       " 'a',\n",
       " 'k',\n",
       " ' ',\n",
       " 'F',\n",
       " 'u',\n",
       " 'r',\n",
       " 'k',\n",
       " 'a',\n",
       " 'n',\n",
       " ' ',\n",
       " 'E',\n",
       " 'r',\n",
       " 'k',\n",
       " 'e',\n",
       " 'm',\n",
       " 'e',\n",
       " 'n']"
      ]
     },
     "execution_count": 67,
     "metadata": {},
     "output_type": "execute_result"
    }
   ],
   "source": [
    "liste=list(\"Burak Furkan Erkemen\")\n",
    "liste"
   ]
  },
  {
   "cell_type": "code",
   "execution_count": 68,
   "id": "a355b363",
   "metadata": {},
   "outputs": [
    {
     "data": {
      "text/plain": [
       "20"
      ]
     },
     "execution_count": 68,
     "metadata": {},
     "output_type": "execute_result"
    }
   ],
   "source": [
    "len(liste)"
   ]
  },
  {
   "cell_type": "code",
   "execution_count": 69,
   "id": "3687d71f",
   "metadata": {},
   "outputs": [
    {
     "data": {
      "text/plain": [
       "5"
      ]
     },
     "execution_count": 69,
     "metadata": {},
     "output_type": "execute_result"
    }
   ],
   "source": [
    "#LİSTELERİ İNDEKSLEME VE PARÇALAMA!!!!!\n",
    "liste=[3,4,5,6,7,8,9,10]\n",
    "liste[2]"
   ]
  },
  {
   "cell_type": "code",
   "execution_count": 71,
   "id": "90fbdf37",
   "metadata": {},
   "outputs": [
    {
     "data": {
      "text/plain": [
       "10"
      ]
     },
     "execution_count": 71,
     "metadata": {},
     "output_type": "execute_result"
    }
   ],
   "source": [
    "liste[-1]"
   ]
  },
  {
   "cell_type": "code",
   "execution_count": 72,
   "id": "bd7e0525",
   "metadata": {},
   "outputs": [
    {
     "data": {
      "text/plain": [
       "10"
      ]
     },
     "execution_count": 72,
     "metadata": {},
     "output_type": "execute_result"
    }
   ],
   "source": [
    "liste[len(liste)-1] \n",
    "#eleman sayısı bilindiğinden dolayı son elemanın indisine\n",
    "#ulaşılarak son indisi bulabildik"
   ]
  },
  {
   "cell_type": "code",
   "execution_count": 73,
   "id": "4b7633bf",
   "metadata": {},
   "outputs": [
    {
     "data": {
      "text/plain": [
       "10"
      ]
     },
     "execution_count": 73,
     "metadata": {},
     "output_type": "execute_result"
    }
   ],
   "source": [
    "liste[1-2]"
   ]
  },
  {
   "cell_type": "code",
   "execution_count": 75,
   "id": "15b4b8ce",
   "metadata": {},
   "outputs": [
    {
     "data": {
      "text/plain": [
       "[7, 8, 9, 10]"
      ]
     },
     "execution_count": 75,
     "metadata": {},
     "output_type": "execute_result"
    }
   ],
   "source": [
    "liste[4:]"
   ]
  },
  {
   "cell_type": "code",
   "execution_count": 76,
   "id": "1d078cfd",
   "metadata": {},
   "outputs": [
    {
     "data": {
      "text/plain": [
       "[3, 4, 5]"
      ]
     },
     "execution_count": 76,
     "metadata": {},
     "output_type": "execute_result"
    }
   ],
   "source": [
    "liste[:3]"
   ]
  },
  {
   "cell_type": "code",
   "execution_count": 77,
   "id": "2982ecd3",
   "metadata": {},
   "outputs": [
    {
     "data": {
      "text/plain": [
       "[3, 6, 9]"
      ]
     },
     "execution_count": 77,
     "metadata": {},
     "output_type": "execute_result"
    }
   ],
   "source": [
    "liste[::3]"
   ]
  },
  {
   "cell_type": "code",
   "execution_count": 78,
   "id": "53ebb379",
   "metadata": {},
   "outputs": [
    {
     "data": {
      "text/plain": [
       "[10, 9, 8, 7, 6, 5, 4, 3]"
      ]
     },
     "execution_count": 78,
     "metadata": {},
     "output_type": "execute_result"
    }
   ],
   "source": [
    "liste[::-1]\n",
    "#listeyi ters çevirmiş olduk!!!!"
   ]
  },
  {
   "cell_type": "code",
   "execution_count": 80,
   "id": "03a1da58",
   "metadata": {},
   "outputs": [
    {
     "data": {
      "text/plain": [
       "[1, 2, 3, 4, 5, 6, 7, 8]"
      ]
     },
     "execution_count": 80,
     "metadata": {},
     "output_type": "execute_result"
    }
   ],
   "source": [
    "liste1=[1,2,3,4]\n",
    "liste2=[5,6,7,8]\n",
    "liste3=liste1+liste2\n",
    "liste3"
   ]
  },
  {
   "cell_type": "code",
   "execution_count": 81,
   "id": "d7eb49e7",
   "metadata": {},
   "outputs": [
    {
     "data": {
      "text/plain": [
       "[1, 2, 3, 4, 5, 6, 7, 8, 1, 2, 3, 4, 5, 6, 7, 8, 1, 2, 3, 4, 5, 6, 7, 8]"
      ]
     },
     "execution_count": 81,
     "metadata": {},
     "output_type": "execute_result"
    }
   ],
   "source": [
    "liste3*3"
   ]
  },
  {
   "cell_type": "code",
   "execution_count": 85,
   "id": "9fd3902c",
   "metadata": {},
   "outputs": [
    {
     "data": {
      "text/plain": [
       "[1, 2, 3, 4, 1, 2, 3, 4]"
      ]
     },
     "execution_count": 85,
     "metadata": {},
     "output_type": "execute_result"
    }
   ],
   "source": [
    "liste1\n",
    "liste1=liste1*2\n",
    "liste1"
   ]
  },
  {
   "cell_type": "code",
   "execution_count": 86,
   "id": "271bf7ca",
   "metadata": {},
   "outputs": [
    {
     "data": {
      "text/plain": [
       "[5, 6, 7, 8]"
      ]
     },
     "execution_count": 86,
     "metadata": {},
     "output_type": "execute_result"
    }
   ],
   "source": [
    "liste2"
   ]
  },
  {
   "cell_type": "code",
   "execution_count": 88,
   "id": "db50df27",
   "metadata": {},
   "outputs": [
    {
     "data": {
      "text/plain": [
       "[5, 10, 7, 8]"
      ]
     },
     "execution_count": 88,
     "metadata": {},
     "output_type": "execute_result"
    }
   ],
   "source": [
    "liste2[1]=10\n",
    "liste2"
   ]
  },
  {
   "cell_type": "code",
   "execution_count": 92,
   "id": "827136bf",
   "metadata": {},
   "outputs": [
    {
     "data": {
      "text/plain": [
       "[10, 11, 2, 3, 4, 5, 6, 7, 8, 9]"
      ]
     },
     "execution_count": 92,
     "metadata": {},
     "output_type": "execute_result"
    }
   ],
   "source": [
    "#listenin ilk iki elemanını değiştirme\n",
    "liste=[0,1,2,3,4,5,6,7,8,9]\n",
    "liste[:2]=[10,11]\n",
    "liste"
   ]
  },
  {
   "cell_type": "code",
   "execution_count": 94,
   "id": "398bd853",
   "metadata": {},
   "outputs": [
    {
     "data": {
      "text/plain": [
       "[10, 11, 2, 3, 4, 5, 6, 7, 8, 9, 10]"
      ]
     },
     "execution_count": 94,
     "metadata": {},
     "output_type": "execute_result"
    }
   ],
   "source": [
    "#APPEND METODU!!!!\n",
    "#verilen değeri listeye eklemeyi sağlar\n",
    "liste.append(10)\n",
    "liste"
   ]
  },
  {
   "cell_type": "code",
   "execution_count": 95,
   "id": "0cc8cdf3",
   "metadata": {},
   "outputs": [
    {
     "data": {
      "text/plain": [
       "[10, 11, 2, 3, 4, 5, 6, 7, 8, 9, 10, 'Garip sayılar']"
      ]
     },
     "execution_count": 95,
     "metadata": {},
     "output_type": "execute_result"
    }
   ],
   "source": [
    "liste.append(\"Garip sayılar\")\n",
    "liste"
   ]
  },
  {
   "cell_type": "code",
   "execution_count": 96,
   "id": "126c542b",
   "metadata": {},
   "outputs": [
    {
     "data": {
      "text/plain": [
       "[10, 11, 2, 3, 4, 5, 6, 7, 8, 9, 10]"
      ]
     },
     "execution_count": 96,
     "metadata": {},
     "output_type": "execute_result"
    }
   ],
   "source": [
    "#pop metodu!!!\n",
    "#listenin sonundaki elemanı atar!!\n",
    "liste.pop()\n",
    "liste"
   ]
  },
  {
   "cell_type": "code",
   "execution_count": 97,
   "id": "433a7313",
   "metadata": {},
   "outputs": [
    {
     "data": {
      "text/plain": [
       "[11, 2, 3, 4, 5, 6, 7, 8, 9, 10]"
      ]
     },
     "execution_count": 97,
     "metadata": {},
     "output_type": "execute_result"
    }
   ],
   "source": [
    "liste.pop(0)#indis  numarası verilirse o indistekini atar!!\n",
    "liste"
   ]
  },
  {
   "cell_type": "code",
   "execution_count": 98,
   "id": "209f106e",
   "metadata": {},
   "outputs": [
    {
     "data": {
      "text/plain": [
       "[0, 1, 21, 23, 34, 432, 654]"
      ]
     },
     "execution_count": 98,
     "metadata": {},
     "output_type": "execute_result"
    }
   ],
   "source": [
    "#sort metodu\n",
    "#sıralama yapar\n",
    "liste=[34,23,654,432,21,1,0]\n",
    "liste.sort()\n",
    "liste"
   ]
  },
  {
   "cell_type": "code",
   "execution_count": 104,
   "id": "edfeed87",
   "metadata": {},
   "outputs": [
    {
     "data": {
      "text/plain": [
       "[654, 432, 34, 23, 21, 1, 0]"
      ]
     },
     "execution_count": 104,
     "metadata": {},
     "output_type": "execute_result"
    }
   ],
   "source": [
    "iste=[34,23,654,432,21,1,0]\n",
    "iste.sort(reverse = True)#Listeyi tersten sıraladık!!!\n",
    "iste"
   ]
  },
  {
   "cell_type": "code",
   "execution_count": 106,
   "id": "56fcbe36",
   "metadata": {},
   "outputs": [
    {
     "data": {
      "text/plain": [
       "['C', 'C#', 'C++', 'CSS', 'HTML', 'JAVA', 'PHP', 'PYTHON']"
      ]
     },
     "execution_count": 106,
     "metadata": {},
     "output_type": "execute_result"
    }
   ],
   "source": [
    "liste=[\"PHP\",\"HTML\",\"JAVA\",\"C\",\"C++\",\"C#\",\"CSS\",\"PYTHON\"]\n",
    "liste.sort()\n",
    "liste"
   ]
  },
  {
   "cell_type": "code",
   "execution_count": 107,
   "id": "239067ab",
   "metadata": {},
   "outputs": [
    {
     "data": {
      "text/plain": [
       "['PYTHON', 'PHP', 'JAVA', 'HTML', 'CSS', 'C++', 'C#', 'C']"
      ]
     },
     "execution_count": 107,
     "metadata": {},
     "output_type": "execute_result"
    }
   ],
   "source": [
    "liste.sort(reverse=True)\n",
    "liste"
   ]
  },
  {
   "cell_type": "code",
   "execution_count": 108,
   "id": "6bd40fdb",
   "metadata": {},
   "outputs": [
    {
     "data": {
      "text/plain": [
       "[[1, 2], [3, 4], [4, 5], [6, 7]]"
      ]
     },
     "execution_count": 108,
     "metadata": {},
     "output_type": "execute_result"
    }
   ],
   "source": [
    "#İÇ İÇE LİSTE!!!!!\n",
    "liste=[[1,2],[3,4],[4,5],[6,7]]\n",
    "liste"
   ]
  },
  {
   "cell_type": "code",
   "execution_count": 110,
   "id": "89bbfdd7",
   "metadata": {},
   "outputs": [
    {
     "data": {
      "text/plain": [
       "4"
      ]
     },
     "execution_count": 110,
     "metadata": {},
     "output_type": "execute_result"
    }
   ],
   "source": [
    "liste[1][1]"
   ]
  },
  {
   "cell_type": "code",
   "execution_count": 111,
   "id": "7fc95b51",
   "metadata": {},
   "outputs": [
    {
     "name": "stdout",
     "output_type": "stream",
     "text": [
      "[1, 2, 3, 4, 5]\n"
     ]
    }
   ],
   "source": [
    "liste = [1,2,3,4,5]\n",
    "liste * 3\n",
    "print(liste)"
   ]
  },
  {
   "cell_type": "code",
   "execution_count": 112,
   "id": "e850261f",
   "metadata": {},
   "outputs": [],
   "source": [
    "#DEMETLER(TUPLELAR)!!!!!!!\n",
    "#LİSTELERLE BENZERLERDİR FAKAT FARKLARI DEĞİŞTİRİLEMEZ OLMALARIDIR!!"
   ]
  },
  {
   "cell_type": "code",
   "execution_count": 113,
   "id": "7f277734",
   "metadata": {},
   "outputs": [
    {
     "data": {
      "text/plain": [
       "(1, 2, 3, 4, 5, 6, 7, 8, 9)"
      ]
     },
     "execution_count": 113,
     "metadata": {},
     "output_type": "execute_result"
    }
   ],
   "source": [
    "#parantez içinde alınarak oluşturulur\n",
    "demet=(1,2,3,4,5,6,7,8,9)\n",
    "demet"
   ]
  },
  {
   "cell_type": "code",
   "execution_count": 115,
   "id": "b64845db",
   "metadata": {},
   "outputs": [
    {
     "data": {
      "text/plain": [
       "tuple"
      ]
     },
     "execution_count": 115,
     "metadata": {},
     "output_type": "execute_result"
    }
   ],
   "source": [
    "type(demet)"
   ]
  },
  {
   "cell_type": "code",
   "execution_count": 116,
   "id": "239ce21d",
   "metadata": {
    "scrolled": false
   },
   "outputs": [
    {
     "data": {
      "text/plain": [
       "9"
      ]
     },
     "execution_count": 116,
     "metadata": {},
     "output_type": "execute_result"
    }
   ],
   "source": [
    "len(demet)"
   ]
  },
  {
   "cell_type": "code",
   "execution_count": 117,
   "id": "b1e3b87a",
   "metadata": {},
   "outputs": [
    {
     "data": {
      "text/plain": [
       "5"
      ]
     },
     "execution_count": 117,
     "metadata": {},
     "output_type": "execute_result"
    }
   ],
   "source": [
    "demet[4]"
   ]
  },
  {
   "cell_type": "code",
   "execution_count": 118,
   "id": "1cfe50f0",
   "metadata": {},
   "outputs": [
    {
     "data": {
      "text/plain": [
       "1"
      ]
     },
     "execution_count": 118,
     "metadata": {},
     "output_type": "execute_result"
    }
   ],
   "source": [
    "demet[0]"
   ]
  },
  {
   "cell_type": "code",
   "execution_count": 119,
   "id": "65e212a4",
   "metadata": {},
   "outputs": [
    {
     "data": {
      "text/plain": [
       "9"
      ]
     },
     "execution_count": 119,
     "metadata": {},
     "output_type": "execute_result"
    }
   ],
   "source": [
    "demet[-1]"
   ]
  },
  {
   "cell_type": "code",
   "execution_count": 120,
   "id": "6b726936",
   "metadata": {},
   "outputs": [
    {
     "data": {
      "text/plain": [
       "(1, 2, 3, 4, 5, 6, 7, 8)"
      ]
     },
     "execution_count": 120,
     "metadata": {},
     "output_type": "execute_result"
    }
   ],
   "source": [
    "demet[:-1]"
   ]
  },
  {
   "cell_type": "code",
   "execution_count": 121,
   "id": "db649260",
   "metadata": {},
   "outputs": [
    {
     "data": {
      "text/plain": [
       "(9, 8, 7, 6, 5, 4, 3, 2, 1)"
      ]
     },
     "execution_count": 121,
     "metadata": {},
     "output_type": "execute_result"
    }
   ],
   "source": [
    "demet[::-1]"
   ]
  },
  {
   "cell_type": "code",
   "execution_count": 122,
   "id": "9d43dfbb",
   "metadata": {},
   "outputs": [],
   "source": [
    "#demetlerin temel metodları!!"
   ]
  },
  {
   "cell_type": "code",
   "execution_count": 123,
   "id": "ed60a905",
   "metadata": {},
   "outputs": [
    {
     "data": {
      "text/plain": [
       "6"
      ]
     },
     "execution_count": 123,
     "metadata": {},
     "output_type": "execute_result"
    }
   ],
   "source": [
    "demet=(1,1,1,1,1,1,2,2,4,5)\n",
    "demet.count(1)"
   ]
  },
  {
   "cell_type": "code",
   "execution_count": 124,
   "id": "66e0b1f9",
   "metadata": {},
   "outputs": [
    {
     "data": {
      "text/plain": [
       "2"
      ]
     },
     "execution_count": 124,
     "metadata": {},
     "output_type": "execute_result"
    }
   ],
   "source": [
    "demet.count(2)"
   ]
  },
  {
   "cell_type": "code",
   "execution_count": 125,
   "id": "542062d2",
   "metadata": {},
   "outputs": [
    {
     "data": {
      "text/plain": [
       "0"
      ]
     },
     "execution_count": 125,
     "metadata": {},
     "output_type": "execute_result"
    }
   ],
   "source": [
    "demet.count(21)"
   ]
  },
  {
   "cell_type": "code",
   "execution_count": 126,
   "id": "bea0f5e6",
   "metadata": {},
   "outputs": [],
   "source": [
    "#count fonksiyonu girilen sayının kaç kere geçtiğini yazdırır"
   ]
  },
  {
   "cell_type": "code",
   "execution_count": 131,
   "id": "ba21f405",
   "metadata": {},
   "outputs": [
    {
     "data": {
      "text/plain": [
       "0"
      ]
     },
     "execution_count": 131,
     "metadata": {},
     "output_type": "execute_result"
    }
   ],
   "source": [
    "demet=(\"Burak\",\"Furkan\",\"ERKEMEN\")\n",
    "demet.index(\"Burak\")\n",
    "#index girilen sayının kaçıncı indekste olduğunu gösterir"
   ]
  },
  {
   "cell_type": "code",
   "execution_count": null,
   "id": "4d83d7fc",
   "metadata": {},
   "outputs": [],
   "source": [
    "#SÖYLÜKLER\n",
    "#SÖZLÜĞÜN İÇİNDEKİ ELEMAN SAYI YERİNE KEY(ADLANDIRILDIĞI-İSİMLENDİRİLDİĞİ GİBİ)\n",
    "#ÇAĞRILIR VE ANLAMLANDIRILDIĞI ANLAMDA KULLANILIR!!!"
   ]
  },
  {
   "cell_type": "code",
   "execution_count": 1,
   "id": "e262ef13",
   "metadata": {},
   "outputs": [
    {
     "data": {
      "text/plain": [
       "{'sıfır': 0, 'bir': 1, 'iki': 2, 'üç': 3}"
      ]
     },
     "execution_count": 1,
     "metadata": {},
     "output_type": "execute_result"
    }
   ],
   "source": [
    "#SÜSLÜ PARANTEZ VE İKİNOKTA İLE(:) OLUŞTURURUYORUZ!!\n",
    "sözlük1={\"sıfır\":0,\"bir\":1,\"iki\":2,\"üç\":3}\n",
    "sözlük1"
   ]
  },
  {
   "cell_type": "code",
   "execution_count": 2,
   "id": "1ca58c18",
   "metadata": {},
   "outputs": [
    {
     "data": {
      "text/plain": [
       "{}"
      ]
     },
     "execution_count": 2,
     "metadata": {},
     "output_type": "execute_result"
    }
   ],
   "source": [
    "sözlük2={}\n",
    "sözlük2"
   ]
  },
  {
   "cell_type": "code",
   "execution_count": 3,
   "id": "3e5ee4c6",
   "metadata": {},
   "outputs": [
    {
     "data": {
      "text/plain": [
       "dict"
      ]
     },
     "execution_count": 3,
     "metadata": {},
     "output_type": "execute_result"
    }
   ],
   "source": [
    "type(sözlük1)"
   ]
  },
  {
   "cell_type": "code",
   "execution_count": 4,
   "id": "4fc93ca4",
   "metadata": {},
   "outputs": [
    {
     "data": {
      "text/plain": [
       "{}"
      ]
     },
     "execution_count": 4,
     "metadata": {},
     "output_type": "execute_result"
    }
   ],
   "source": [
    "sözlük2=dict()\n",
    "sözlük2"
   ]
  },
  {
   "cell_type": "code",
   "execution_count": 7,
   "id": "b8fbce80",
   "metadata": {},
   "outputs": [
    {
     "data": {
      "text/plain": [
       "0"
      ]
     },
     "execution_count": 7,
     "metadata": {},
     "output_type": "execute_result"
    }
   ],
   "source": [
    "sözlük1[\"sıfır\"]"
   ]
  },
  {
   "cell_type": "code",
   "execution_count": 8,
   "id": "c1c763a0",
   "metadata": {},
   "outputs": [
    {
     "data": {
      "text/plain": [
       "1"
      ]
     },
     "execution_count": 8,
     "metadata": {},
     "output_type": "execute_result"
    }
   ],
   "source": [
    "sözlük1[\"bir\"]"
   ]
  },
  {
   "cell_type": "code",
   "execution_count": 9,
   "id": "098b5761",
   "metadata": {},
   "outputs": [
    {
     "data": {
      "text/plain": [
       "{'sıfır': 0, 'bir': 1, 'iki': 2, 'üç': 3, 'beş': 5}"
      ]
     },
     "execution_count": 9,
     "metadata": {},
     "output_type": "execute_result"
    }
   ],
   "source": [
    "sözlük1[\"beş\"]=5\n",
    "sözlük1"
   ]
  },
  {
   "cell_type": "code",
   "execution_count": 15,
   "id": "fd7cc5ae",
   "metadata": {},
   "outputs": [
    {
     "data": {
      "text/plain": [
       "[1, 2, 3, 4]"
      ]
     },
     "execution_count": 15,
     "metadata": {},
     "output_type": "execute_result"
    }
   ],
   "source": [
    "sözlük1.clear()\n",
    "sözlük1\n",
    "sözlük1={\"bir\":[1,2,3,4],\"iki\":[[1,2],[3,4],[5,6]],\"üç\":15}\n",
    "sözlük1[\"bir\"]"
   ]
  },
  {
   "cell_type": "code",
   "execution_count": 16,
   "id": "852f8fe2",
   "metadata": {},
   "outputs": [
    {
     "data": {
      "text/plain": [
       "[[1, 2], [3, 4], [5, 6]]"
      ]
     },
     "execution_count": 16,
     "metadata": {},
     "output_type": "execute_result"
    }
   ],
   "source": [
    "sözlük1[\"iki\"]"
   ]
  },
  {
   "cell_type": "code",
   "execution_count": 17,
   "id": "9e28e672",
   "metadata": {},
   "outputs": [
    {
     "data": {
      "text/plain": [
       "5"
      ]
     },
     "execution_count": 17,
     "metadata": {},
     "output_type": "execute_result"
    }
   ],
   "source": [
    "sözlük1[\"iki\"][2][0]"
   ]
  },
  {
   "cell_type": "code",
   "execution_count": 18,
   "id": "857fac03",
   "metadata": {},
   "outputs": [
    {
     "data": {
      "text/plain": [
       "{'bir': [1, 2, 3, 4], 'iki': [[1, 2], [3, 4], [5, 6]], 'üç': 15}"
      ]
     },
     "execution_count": 18,
     "metadata": {},
     "output_type": "execute_result"
    }
   ],
   "source": [
    "#elemanın değerini değiştirme\n",
    "sözlük1"
   ]
  },
  {
   "cell_type": "code",
   "execution_count": 20,
   "id": "40d61439",
   "metadata": {},
   "outputs": [
    {
     "data": {
      "text/plain": [
       "{'bir': [1, 2, 3, 4], 'iki': [[1, 2], [3, 4], [5, 6]], 'üç': 10}"
      ]
     },
     "execution_count": 20,
     "metadata": {},
     "output_type": "execute_result"
    }
   ],
   "source": [
    "sözlük1[\"üç\"]=10\n",
    "sözlük1"
   ]
  },
  {
   "cell_type": "code",
   "execution_count": 21,
   "id": "4e9f0e80",
   "metadata": {},
   "outputs": [
    {
     "data": {
      "text/plain": [
       "{'bir': 1, 'iki': 2, 'üç': 3}"
      ]
     },
     "execution_count": 21,
     "metadata": {},
     "output_type": "execute_result"
    }
   ],
   "source": [
    "#İÇ İÇE SÖZLÜKLER!!!!!!!!!!!\n",
    "a={\"sayılar\":{\"bir\":1,\"iki\":2,\"üç\":3},\"meyveler\":{\"kiraz\":\"yaz\",\"portakal\":\"kış\",\"erik\":\"yaz\"}}\n",
    "a[\"sayılar\"]"
   ]
  },
  {
   "cell_type": "code",
   "execution_count": 22,
   "id": "9994b9d3",
   "metadata": {},
   "outputs": [
    {
     "data": {
      "text/plain": [
       "2"
      ]
     },
     "execution_count": 22,
     "metadata": {},
     "output_type": "execute_result"
    }
   ],
   "source": [
    "a[\"sayılar\"][\"iki\"]"
   ]
  },
  {
   "cell_type": "code",
   "execution_count": 23,
   "id": "b5149795",
   "metadata": {},
   "outputs": [
    {
     "data": {
      "text/plain": [
       "'yaz'"
      ]
     },
     "execution_count": 23,
     "metadata": {},
     "output_type": "execute_result"
    }
   ],
   "source": [
    "a[\"meyveler\"][\"erik\"]"
   ]
  },
  {
   "cell_type": "code",
   "execution_count": 24,
   "id": "7bbd2a73",
   "metadata": {},
   "outputs": [],
   "source": [
    "#TEMEL SÖZLÜK METODLARI!!!!!!!"
   ]
  },
  {
   "cell_type": "code",
   "execution_count": 25,
   "id": "a0faf5de",
   "metadata": {},
   "outputs": [
    {
     "data": {
      "text/plain": [
       "{'bir': [1, 2, 3, 4], 'iki': [[1, 2], [3, 4], [5, 6]], 'üç': 10}"
      ]
     },
     "execution_count": 25,
     "metadata": {},
     "output_type": "execute_result"
    }
   ],
   "source": [
    "sözlük1"
   ]
  },
  {
   "cell_type": "code",
   "execution_count": 26,
   "id": "be8273fc",
   "metadata": {},
   "outputs": [
    {
     "data": {
      "text/plain": [
       "dict_keys(['bir', 'iki', 'üç'])"
      ]
     },
     "execution_count": 26,
     "metadata": {},
     "output_type": "execute_result"
    }
   ],
   "source": [
    "#keys() => anahtarları verir\n",
    "sözlük1.keys()"
   ]
  },
  {
   "cell_type": "code",
   "execution_count": 27,
   "id": "c69adf27",
   "metadata": {},
   "outputs": [
    {
     "data": {
      "text/plain": [
       "dict_values([[1, 2, 3, 4], [[1, 2], [3, 4], [5, 6]], 10])"
      ]
     },
     "execution_count": 27,
     "metadata": {},
     "output_type": "execute_result"
    }
   ],
   "source": [
    "#values() => değerleri verir\n",
    "sözlük1.values()"
   ]
  },
  {
   "cell_type": "code",
   "execution_count": 28,
   "id": "88b767d9",
   "metadata": {},
   "outputs": [
    {
     "data": {
      "text/plain": [
       "dict_items([('bir', [1, 2, 3, 4]), ('iki', [[1, 2], [3, 4], [5, 6]]), ('üç', 10)])"
      ]
     },
     "execution_count": 28,
     "metadata": {},
     "output_type": "execute_result"
    }
   ],
   "source": [
    "#items() => keyle birlikte değerini birlikte gösterir!\n",
    "sözlük1.items()"
   ]
  },
  {
   "cell_type": "code",
   "execution_count": 29,
   "id": "40532223",
   "metadata": {},
   "outputs": [
    {
     "data": {
      "text/plain": [
       "dict_items([('sayılar', {'bir': 1, 'iki': 2, 'üç': 3}), ('meyveler', {'kiraz': 'yaz', 'portakal': 'kış', 'erik': 'yaz'})])"
      ]
     },
     "execution_count": 29,
     "metadata": {},
     "output_type": "execute_result"
    }
   ],
   "source": [
    "a.items()"
   ]
  },
  {
   "cell_type": "code",
   "execution_count": 30,
   "id": "d24dccef",
   "metadata": {},
   "outputs": [],
   "source": [
    "#KULLANICIDAN VERİ ALMA-input() FONKSİYONU !!!!!!!!!!!!!!!!!"
   ]
  },
  {
   "cell_type": "code",
   "execution_count": 31,
   "id": "943174bd",
   "metadata": {},
   "outputs": [
    {
     "name": "stdout",
     "output_type": "stream",
     "text": [
      "15\n"
     ]
    },
    {
     "data": {
      "text/plain": [
       "'15'"
      ]
     },
     "execution_count": 31,
     "metadata": {},
     "output_type": "execute_result"
    }
   ],
   "source": [
    "#input() çalıştırıldığında  veriyi bekler\n",
    "input()"
   ]
  },
  {
   "cell_type": "code",
   "execution_count": 32,
   "id": "2ae75561",
   "metadata": {},
   "outputs": [
    {
     "name": "stdout",
     "output_type": "stream",
     "text": [
      "Lütfen bir sayı giriniz12\n"
     ]
    },
    {
     "data": {
      "text/plain": [
       "'12'"
      ]
     },
     "execution_count": 32,
     "metadata": {},
     "output_type": "execute_result"
    }
   ],
   "source": [
    "input(\"Lütfen bir sayı giriniz\")"
   ]
  },
  {
   "cell_type": "code",
   "execution_count": 33,
   "id": "0725e62a",
   "metadata": {},
   "outputs": [
    {
     "name": "stdout",
     "output_type": "stream",
     "text": [
      "Bir sayı giriniz: 23\n",
      "Kullanıcının girdiği değer 23\n"
     ]
    }
   ],
   "source": [
    "a=input(\"Bir sayı giriniz: \")\n",
    "print(\"Kullanıcının girdiği değer\",a)"
   ]
  },
  {
   "cell_type": "code",
   "execution_count": 34,
   "id": "c0facba7",
   "metadata": {},
   "outputs": [
    {
     "name": "stdout",
     "output_type": "stream",
     "text": [
      "Bir sayı giriniz: 12\n",
      "121212\n"
     ]
    }
   ],
   "source": [
    "#girilen değerler string olarak alınır\n",
    "a=input(\"Bir sayı giriniz: \")\n",
    "print(a*3)"
   ]
  },
  {
   "cell_type": "code",
   "execution_count": 35,
   "id": "64078d63",
   "metadata": {},
   "outputs": [
    {
     "name": "stdout",
     "output_type": "stream",
     "text": [
      "Bir sayı giriniz: 11\n",
      "33\n"
     ]
    }
   ],
   "source": [
    "a=input(\"Bir sayı giriniz: \")\n",
    "print(int(a)*3)"
   ]
  },
  {
   "cell_type": "code",
   "execution_count": 36,
   "id": "8290edc0",
   "metadata": {},
   "outputs": [
    {
     "name": "stdout",
     "output_type": "stream",
     "text": [
      "Bir sayı giriniz: 35\n",
      "105\n"
     ]
    }
   ],
   "source": [
    "a=int(input(\"Bir sayı giriniz: \"))\n",
    "print(a*3)"
   ]
  },
  {
   "cell_type": "code",
   "execution_count": 39,
   "id": "b19237f8",
   "metadata": {},
   "outputs": [
    {
     "name": "stdout",
     "output_type": "stream",
     "text": [
      "Birinci tam sayı giriniz:1\n",
      "İkinci tam sayı giriniz:1\n",
      "Üçüncü tam sayı giriniz:1\n",
      "Girdiğiniz sayıların toplamı= 3\n"
     ]
    }
   ],
   "source": [
    "a=int(input(\"Birinci tam sayı giriniz:\"))\n",
    "b=int(input(\"İkinci tam sayı giriniz:\"))\n",
    "c=int(input(\"Üçüncü tam sayı giriniz:\"))\n",
    "print(\"Girdiğiniz sayıların toplamı=\",a+b+c)"
   ]
  },
  {
   "cell_type": "code",
   "execution_count": 43,
   "id": "1eee9c1e",
   "metadata": {},
   "outputs": [
    {
     "name": "stdout",
     "output_type": "stream",
     "text": [
      "a:dassadsd\n",
      "Doğru format giriniz!!!\n"
     ]
    }
   ],
   "source": [
    "try:\n",
    "    a=int(input(\"a:\"))\n",
    "    print(a)\n",
    "except ValueError:\n",
    "        print(\"Doğru format giriniz!!!\")"
   ]
  },
  {
   "cell_type": "code",
   "execution_count": null,
   "id": "ca7d371e",
   "metadata": {},
   "outputs": [],
   "source": []
  }
 ],
 "metadata": {
  "kernelspec": {
   "display_name": "Python 3 (ipykernel)",
   "language": "python",
   "name": "python3"
  },
  "language_info": {
   "codemirror_mode": {
    "name": "ipython",
    "version": 3
   },
   "file_extension": ".py",
   "mimetype": "text/x-python",
   "name": "python",
   "nbconvert_exporter": "python",
   "pygments_lexer": "ipython3",
   "version": "3.9.7"
  }
 },
 "nbformat": 4,
 "nbformat_minor": 5
}
