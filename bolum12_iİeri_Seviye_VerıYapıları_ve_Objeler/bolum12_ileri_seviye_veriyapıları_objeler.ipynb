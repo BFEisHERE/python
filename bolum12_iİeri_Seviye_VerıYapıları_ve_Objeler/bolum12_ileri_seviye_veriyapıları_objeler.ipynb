{
 "cells": [
  {
   "cell_type": "code",
   "execution_count": 1,
   "id": "45b6161b",
   "metadata": {},
   "outputs": [],
   "source": [
    "#İLERİ SEVİYE SAYILAR!!\n",
    "#BAZEN PROGRAMLAMADA SAYILARIMIZI 10'LUK TABAN HARİCİNDE 2'LİK(BİNARY) VE\n",
    "#16'LIK(HEXADECİMAL) TABANDA GOSTERMEK VE KULLANMAK İSTEYEBİLRİZ."
   ]
  },
  {
   "cell_type": "code",
   "execution_count": 2,
   "id": "6e2c3148",
   "metadata": {},
   "outputs": [],
   "source": [
    "#**********************bin() FONKSİYONU*********************** "
   ]
  },
  {
   "cell_type": "code",
   "execution_count": 4,
   "id": "c84992f8",
   "metadata": {},
   "outputs": [
    {
     "data": {
      "text/plain": [
       "'0b100'"
      ]
     },
     "execution_count": 4,
     "metadata": {},
     "output_type": "execute_result"
    }
   ],
   "source": [
    "bin(4) #bin fonksiyonu 2lik tabanda yazar  (1 ve 0)"
   ]
  },
  {
   "cell_type": "code",
   "execution_count": 1,
   "id": "58c71fd3",
   "metadata": {},
   "outputs": [
    {
     "data": {
      "text/plain": [
       "'0b1'"
      ]
     },
     "execution_count": 1,
     "metadata": {},
     "output_type": "execute_result"
    }
   ],
   "source": [
    "bin(1)"
   ]
  },
  {
   "cell_type": "code",
   "execution_count": 6,
   "id": "cc8e4488",
   "metadata": {},
   "outputs": [
    {
     "data": {
      "text/plain": [
       "'0b10011'"
      ]
     },
     "execution_count": 6,
     "metadata": {},
     "output_type": "execute_result"
    }
   ],
   "source": [
    "bin(19)"
   ]
  },
  {
   "cell_type": "code",
   "execution_count": 2,
   "id": "24c59b19",
   "metadata": {},
   "outputs": [],
   "source": [
    "#hex() 10'luk tabandan 16'lık tabana çevirmeyi sağlar"
   ]
  },
  {
   "cell_type": "code",
   "execution_count": 3,
   "id": "3cee827d",
   "metadata": {},
   "outputs": [
    {
     "data": {
      "text/plain": [
       "'0x14'"
      ]
     },
     "execution_count": 3,
     "metadata": {},
     "output_type": "execute_result"
    }
   ],
   "source": [
    "hex(20)"
   ]
  },
  {
   "cell_type": "code",
   "execution_count": 4,
   "id": "54c764b8",
   "metadata": {},
   "outputs": [
    {
     "data": {
      "text/plain": [
       "'0x64'"
      ]
     },
     "execution_count": 4,
     "metadata": {},
     "output_type": "execute_result"
    }
   ],
   "source": [
    "hex(100)"
   ]
  },
  {
   "cell_type": "code",
   "execution_count": 5,
   "id": "8dc3dabb",
   "metadata": {},
   "outputs": [
    {
     "data": {
      "text/plain": [
       "'0x168'"
      ]
     },
     "execution_count": 5,
     "metadata": {},
     "output_type": "execute_result"
    }
   ],
   "source": [
    "hex(360)"
   ]
  },
  {
   "cell_type": "code",
   "execution_count": 6,
   "id": "68274ba1",
   "metadata": {},
   "outputs": [
    {
     "data": {
      "text/plain": [
       "'0x1e0fc'"
      ]
     },
     "execution_count": 6,
     "metadata": {},
     "output_type": "execute_result"
    }
   ],
   "source": [
    "hex(123132)"
   ]
  },
  {
   "cell_type": "code",
   "execution_count": 7,
   "id": "21afc43a",
   "metadata": {},
   "outputs": [],
   "source": [
    "#abs() sayının muklak değerini almamızı sağlar"
   ]
  },
  {
   "cell_type": "code",
   "execution_count": 8,
   "id": "7b1354c5",
   "metadata": {},
   "outputs": [
    {
     "data": {
      "text/plain": [
       "4"
      ]
     },
     "execution_count": 8,
     "metadata": {},
     "output_type": "execute_result"
    }
   ],
   "source": [
    "abs(-4)"
   ]
  },
  {
   "cell_type": "code",
   "execution_count": 9,
   "id": "5a3bce08",
   "metadata": {},
   "outputs": [
    {
     "data": {
      "text/plain": [
       "222"
      ]
     },
     "execution_count": 9,
     "metadata": {},
     "output_type": "execute_result"
    }
   ],
   "source": [
    "abs(10-232)"
   ]
  },
  {
   "cell_type": "code",
   "execution_count": 10,
   "id": "323ff038",
   "metadata": {},
   "outputs": [],
   "source": [
    "#round() fonksiyonu sayıları altına veya üstüne yuvarlamayı sağlar"
   ]
  },
  {
   "cell_type": "code",
   "execution_count": 11,
   "id": "72d83bb2",
   "metadata": {},
   "outputs": [
    {
     "data": {
      "text/plain": [
       "5"
      ]
     },
     "execution_count": 11,
     "metadata": {},
     "output_type": "execute_result"
    }
   ],
   "source": [
    "round(4.8)"
   ]
  },
  {
   "cell_type": "code",
   "execution_count": 12,
   "id": "ce23d209",
   "metadata": {},
   "outputs": [
    {
     "data": {
      "text/plain": [
       "4"
      ]
     },
     "execution_count": 12,
     "metadata": {},
     "output_type": "execute_result"
    }
   ],
   "source": [
    "round(4.5)"
   ]
  },
  {
   "cell_type": "code",
   "execution_count": 13,
   "id": "10b2a531",
   "metadata": {},
   "outputs": [
    {
     "data": {
      "text/plain": [
       "4"
      ]
     },
     "execution_count": 13,
     "metadata": {},
     "output_type": "execute_result"
    }
   ],
   "source": [
    "round(4.2)"
   ]
  },
  {
   "cell_type": "code",
   "execution_count": 14,
   "id": "8dac6370",
   "metadata": {},
   "outputs": [
    {
     "data": {
      "text/plain": [
       "3"
      ]
     },
     "execution_count": 14,
     "metadata": {},
     "output_type": "execute_result"
    }
   ],
   "source": [
    "round(3.2229)"
   ]
  },
  {
   "cell_type": "code",
   "execution_count": 15,
   "id": "d5bdae71",
   "metadata": {},
   "outputs": [
    {
     "data": {
      "text/plain": [
       "3.223"
      ]
     },
     "execution_count": 15,
     "metadata": {},
     "output_type": "execute_result"
    }
   ],
   "source": [
    "round(3.2229,3)"
   ]
  },
  {
   "cell_type": "code",
   "execution_count": 16,
   "id": "9c20569d",
   "metadata": {},
   "outputs": [
    {
     "data": {
      "text/plain": [
       "3.222"
      ]
     },
     "execution_count": 16,
     "metadata": {},
     "output_type": "execute_result"
    }
   ],
   "source": [
    "round(3.2224,3)"
   ]
  },
  {
   "cell_type": "code",
   "execution_count": 17,
   "id": "e6733540",
   "metadata": {},
   "outputs": [],
   "source": [
    "#max()\n",
    "#min()\n",
    "#verilen değerleri öndeki fonksiyona göre çıktısını bulur"
   ]
  },
  {
   "cell_type": "code",
   "execution_count": 18,
   "id": "98ae34ae",
   "metadata": {},
   "outputs": [
    {
     "data": {
      "text/plain": [
       "4"
      ]
     },
     "execution_count": 18,
     "metadata": {},
     "output_type": "execute_result"
    }
   ],
   "source": [
    "max(4,2)"
   ]
  },
  {
   "cell_type": "code",
   "execution_count": 19,
   "id": "c613802b",
   "metadata": {},
   "outputs": [
    {
     "data": {
      "text/plain": [
       "2"
      ]
     },
     "execution_count": 19,
     "metadata": {},
     "output_type": "execute_result"
    }
   ],
   "source": [
    "min(4,2)"
   ]
  },
  {
   "cell_type": "code",
   "execution_count": 20,
   "id": "67bd7748",
   "metadata": {},
   "outputs": [
    {
     "data": {
      "text/plain": [
       "53534"
      ]
     },
     "execution_count": 20,
     "metadata": {},
     "output_type": "execute_result"
    }
   ],
   "source": [
    "max(4,2,5,1321,53534,431,0)"
   ]
  },
  {
   "cell_type": "code",
   "execution_count": 21,
   "id": "741c1074",
   "metadata": {},
   "outputs": [
    {
     "data": {
      "text/plain": [
       "0"
      ]
     },
     "execution_count": 21,
     "metadata": {},
     "output_type": "execute_result"
    }
   ],
   "source": [
    "min(4,2,5,1321,53534,431,0)"
   ]
  },
  {
   "cell_type": "code",
   "execution_count": 22,
   "id": "faf7cd72",
   "metadata": {},
   "outputs": [],
   "source": [
    "#sum() fonksiyonu verilen değerleri toplayarak döndürür.\n",
    "#değerlerin liste,demet,vb. şekilde verilmesi gerekir"
   ]
  },
  {
   "cell_type": "code",
   "execution_count": 23,
   "id": "2cbc5151",
   "metadata": {},
   "outputs": [
    {
     "data": {
      "text/plain": [
       "55"
      ]
     },
     "execution_count": 23,
     "metadata": {},
     "output_type": "execute_result"
    }
   ],
   "source": [
    "sum([1,2,3,4,5,6,7,8,9,10])"
   ]
  },
  {
   "cell_type": "code",
   "execution_count": 25,
   "id": "ba274994",
   "metadata": {},
   "outputs": [],
   "source": [
    "#pow() fonksiyoun 2 değer alır. birincisi taban ikincisi üst değeri alır"
   ]
  },
  {
   "cell_type": "code",
   "execution_count": 26,
   "id": "770e96e2",
   "metadata": {},
   "outputs": [
    {
     "data": {
      "text/plain": [
       "25"
      ]
     },
     "execution_count": 26,
     "metadata": {},
     "output_type": "execute_result"
    }
   ],
   "source": [
    "pow(5,2)"
   ]
  },
  {
   "cell_type": "code",
   "execution_count": 28,
   "id": "323a4e51",
   "metadata": {},
   "outputs": [],
   "source": [
    "#******************************************************\n",
    "#STRİNGLERİN İLERİ SEVİYE FONKSİYONLARI"
   ]
  },
  {
   "cell_type": "code",
   "execution_count": 29,
   "id": "c62fa791",
   "metadata": {},
   "outputs": [],
   "source": [
    "#upper()-lover()\n",
    "#tüm karakterleri büyük harf - küçük harf yapar"
   ]
  },
  {
   "cell_type": "code",
   "execution_count": 30,
   "id": "0528ea7e",
   "metadata": {},
   "outputs": [
    {
     "data": {
      "text/plain": [
       "'BURAK'"
      ]
     },
     "execution_count": 30,
     "metadata": {},
     "output_type": "execute_result"
    }
   ],
   "source": [
    "\"burak\".upper()"
   ]
  },
  {
   "cell_type": "code",
   "execution_count": 31,
   "id": "f539d081",
   "metadata": {},
   "outputs": [
    {
     "data": {
      "text/plain": [
       "'burak'"
      ]
     },
     "execution_count": 31,
     "metadata": {},
     "output_type": "execute_result"
    }
   ],
   "source": [
    "\"BURAK\".lower()"
   ]
  },
  {
   "cell_type": "code",
   "execution_count": 32,
   "id": "78d65a64",
   "metadata": {},
   "outputs": [],
   "source": [
    "a = \"Burak\""
   ]
  },
  {
   "cell_type": "code",
   "execution_count": 33,
   "id": "e6bde43e",
   "metadata": {},
   "outputs": [
    {
     "data": {
      "text/plain": [
       "'BURAK'"
      ]
     },
     "execution_count": 33,
     "metadata": {},
     "output_type": "execute_result"
    }
   ],
   "source": [
    "a.upper()"
   ]
  },
  {
   "cell_type": "code",
   "execution_count": 34,
   "id": "051ec27e",
   "metadata": {},
   "outputs": [
    {
     "data": {
      "text/plain": [
       "'burak'"
      ]
     },
     "execution_count": 34,
     "metadata": {},
     "output_type": "execute_result"
    }
   ],
   "source": [
    "a.lower()"
   ]
  },
  {
   "cell_type": "code",
   "execution_count": 35,
   "id": "b58f39b5",
   "metadata": {},
   "outputs": [],
   "source": [
    "#replace(x,y) stringyteki x değerlerini y ile değiştirir"
   ]
  },
  {
   "cell_type": "code",
   "execution_count": 36,
   "id": "b83819b9",
   "metadata": {},
   "outputs": [],
   "source": [
    "a = \"Burak Furkan Erkemen\""
   ]
  },
  {
   "cell_type": "code",
   "execution_count": 37,
   "id": "c94fa62e",
   "metadata": {},
   "outputs": [
    {
     "data": {
      "text/plain": [
       "'BurAk FurkAn Erkemen'"
      ]
     },
     "execution_count": 37,
     "metadata": {},
     "output_type": "execute_result"
    }
   ],
   "source": [
    "a.replace(\"a\",\"A\")"
   ]
  },
  {
   "cell_type": "code",
   "execution_count": 38,
   "id": "dee72a99",
   "metadata": {},
   "outputs": [],
   "source": [
    "#startswith() - endswith()\n",
    "#startswith() -> x ile başlıyorsa True, başlamıyorsa False döner\n",
    "#endswith() -> x ile bitiyorsa True, bitmiyorsa False döner"
   ]
  },
  {
   "cell_type": "code",
   "execution_count": 39,
   "id": "f98628db",
   "metadata": {},
   "outputs": [
    {
     "data": {
      "text/plain": [
       "False"
      ]
     },
     "execution_count": 39,
     "metadata": {},
     "output_type": "execute_result"
    }
   ],
   "source": [
    "a.startswith(\"b\")"
   ]
  },
  {
   "cell_type": "code",
   "execution_count": 40,
   "id": "98eba56a",
   "metadata": {},
   "outputs": [
    {
     "data": {
      "text/plain": [
       "True"
      ]
     },
     "execution_count": 40,
     "metadata": {},
     "output_type": "execute_result"
    }
   ],
   "source": [
    "a.startswith(\"B\")"
   ]
  },
  {
   "cell_type": "code",
   "execution_count": 41,
   "id": "2c7c7938",
   "metadata": {},
   "outputs": [
    {
     "data": {
      "text/plain": [
       "True"
      ]
     },
     "execution_count": 41,
     "metadata": {},
     "output_type": "execute_result"
    }
   ],
   "source": [
    "a.endswith(\"n\")"
   ]
  },
  {
   "cell_type": "code",
   "execution_count": 42,
   "id": "e7c494d0",
   "metadata": {},
   "outputs": [],
   "source": [
    "#split()\n",
    "#verilen bir a değeri string parçalarla ayrılarak herbir parça listelenir"
   ]
  },
  {
   "cell_type": "code",
   "execution_count": 43,
   "id": "61f5ef00",
   "metadata": {},
   "outputs": [],
   "source": [
    "liste = \"Burak Furkan\""
   ]
  },
  {
   "cell_type": "code",
   "execution_count": 44,
   "id": "1eca97e9",
   "metadata": {},
   "outputs": [
    {
     "data": {
      "text/plain": [
       "['Burak', 'Furkan']"
      ]
     },
     "execution_count": 44,
     "metadata": {},
     "output_type": "execute_result"
    }
   ],
   "source": [
    "liste.split(\" \")"
   ]
  },
  {
   "cell_type": "code",
   "execution_count": 45,
   "id": "1d8a8d91",
   "metadata": {},
   "outputs": [
    {
     "name": "stdout",
     "output_type": "stream",
     "text": [
      "Burak Furkan\n"
     ]
    }
   ],
   "source": [
    "print(liste)"
   ]
  },
  {
   "cell_type": "code",
   "execution_count": 46,
   "id": "fdb3697f",
   "metadata": {},
   "outputs": [
    {
     "name": "stdout",
     "output_type": "stream",
     "text": [
      "['Burak', 'Furkan']\n"
     ]
    }
   ],
   "source": [
    "print(liste.split(\" \"))"
   ]
  },
  {
   "cell_type": "code",
   "execution_count": 48,
   "id": "a20bc5e0",
   "metadata": {},
   "outputs": [],
   "source": [
    "#strip() - lstrip() - rstrip()\n",
    "#strip(x) -> stringin başında ve sonunda bulunan x değerlerini siler\n",
    "#lstrip(x) -> stringin sadece başında bulunan x değerini siler\n",
    "#rstrip(x) -> stringin sadece sonunda bulunan x değerini siler"
   ]
  },
  {
   "cell_type": "code",
   "execution_count": 49,
   "id": "b5931826",
   "metadata": {},
   "outputs": [
    {
     "data": {
      "text/plain": [
       "'python'"
      ]
     },
     "execution_count": 49,
     "metadata": {},
     "output_type": "execute_result"
    }
   ],
   "source": [
    "\"          python           \".strip()"
   ]
  },
  {
   "cell_type": "code",
   "execution_count": 50,
   "id": "b4e14a74",
   "metadata": {},
   "outputs": [],
   "source": [
    "a = \"                      python                     \""
   ]
  },
  {
   "cell_type": "code",
   "execution_count": 51,
   "id": "503e5bec",
   "metadata": {},
   "outputs": [
    {
     "data": {
      "text/plain": [
       "'python                     '"
      ]
     },
     "execution_count": 51,
     "metadata": {},
     "output_type": "execute_result"
    }
   ],
   "source": [
    "a.lstrip()"
   ]
  },
  {
   "cell_type": "code",
   "execution_count": 52,
   "id": "8d21f4fd",
   "metadata": {},
   "outputs": [
    {
     "data": {
      "text/plain": [
       "'                      python'"
      ]
     },
     "execution_count": 52,
     "metadata": {},
     "output_type": "execute_result"
    }
   ],
   "source": [
    "a.rstrip()"
   ]
  },
  {
   "cell_type": "code",
   "execution_count": 53,
   "id": "66d2024a",
   "metadata": {},
   "outputs": [
    {
     "data": {
      "text/plain": [
       "'>>>>>>>>>>>>>>>>>>>python'"
      ]
     },
     "execution_count": 53,
     "metadata": {},
     "output_type": "execute_result"
    }
   ],
   "source": [
    "\">>>>>>>>>>>>>>>>>>>python<<<<<<<<<<<<<<<<<<<<<<<<<\".strip(\"<\")"
   ]
  },
  {
   "cell_type": "code",
   "execution_count": 54,
   "id": "2302bd25",
   "metadata": {},
   "outputs": [],
   "source": [
    "#join()\n",
    "#listenin elemanların bir string değeriyle birleştirir"
   ]
  },
  {
   "cell_type": "code",
   "execution_count": 55,
   "id": "2e4bdd24",
   "metadata": {},
   "outputs": [],
   "source": [
    "liste = [\"21\",\"01\",\"2014\"]"
   ]
  },
  {
   "cell_type": "code",
   "execution_count": 56,
   "id": "6b8e220f",
   "metadata": {},
   "outputs": [
    {
     "data": {
      "text/plain": [
       "'21/01/2014'"
      ]
     },
     "execution_count": 56,
     "metadata": {},
     "output_type": "execute_result"
    }
   ],
   "source": [
    "\"/\".join(liste)"
   ]
  },
  {
   "cell_type": "code",
   "execution_count": 57,
   "id": "22befe19",
   "metadata": {},
   "outputs": [],
   "source": [
    "#count() -> string içindeki x değerlerini sayar\n",
    "#count(x,indeks) -> verilen indeksten kaç tane geçtiğini sayar"
   ]
  },
  {
   "cell_type": "code",
   "execution_count": 58,
   "id": "6e601dea",
   "metadata": {},
   "outputs": [
    {
     "data": {
      "text/plain": [
       "6"
      ]
     },
     "execution_count": 58,
     "metadata": {},
     "output_type": "execute_result"
    }
   ],
   "source": [
    "\"ada kapısı yandan çarklı\".count(\"a\")"
   ]
  },
  {
   "cell_type": "code",
   "execution_count": 59,
   "id": "19990354",
   "metadata": {},
   "outputs": [
    {
     "data": {
      "text/plain": [
       "5"
      ]
     },
     "execution_count": 59,
     "metadata": {},
     "output_type": "execute_result"
    }
   ],
   "source": [
    "\"ada kapısı yandan çarklı\".count(\"a\",2) #ad\"a\" nın a sından başlayıp sayar"
   ]
  },
  {
   "cell_type": "code",
   "execution_count": 60,
   "id": "bae659f9",
   "metadata": {},
   "outputs": [],
   "source": [
    "#find() - rfind()\n",
    "#find(x)-> x değerini stringte arar ve bulduğu indeksi döndürür bulamazsa -1 döner\n",
    "#rfind(x) -> x değerini sondan itibaren arar ve bulduğu indeksi döndürür, bulamazsa -1 döner"
   ]
  },
  {
   "cell_type": "code",
   "execution_count": 61,
   "id": "433059ac",
   "metadata": {},
   "outputs": [
    {
     "data": {
      "text/plain": [
       "0"
      ]
     },
     "execution_count": 61,
     "metadata": {},
     "output_type": "execute_result"
    }
   ],
   "source": [
    "\"arada\".find(\"a\")"
   ]
  },
  {
   "cell_type": "code",
   "execution_count": 62,
   "id": "ea6271e4",
   "metadata": {},
   "outputs": [
    {
     "data": {
      "text/plain": [
       "-1"
      ]
     },
     "execution_count": 62,
     "metadata": {},
     "output_type": "execute_result"
    }
   ],
   "source": [
    "\"arada\".find(\"s\")"
   ]
  },
  {
   "cell_type": "code",
   "execution_count": 65,
   "id": "8a5f4de1",
   "metadata": {},
   "outputs": [
    {
     "data": {
      "text/plain": [
       "4"
      ]
     },
     "execution_count": 65,
     "metadata": {},
     "output_type": "execute_result"
    }
   ],
   "source": [
    "\"arada\".rfind(\"a\")"
   ]
  },
  {
   "cell_type": "code",
   "execution_count": 67,
   "id": "a4c80f03",
   "metadata": {},
   "outputs": [],
   "source": [
    "#**************************************************************\n",
    "#KÜMELER(sets)\n",
    "#matematikteki kümelere benzer\n",
    "#bir elemandan bir tane tutan veri tipidir."
   ]
  },
  {
   "cell_type": "code",
   "execution_count": 68,
   "id": "5afbfab5",
   "metadata": {},
   "outputs": [],
   "source": [
    "x = set() #boş küme"
   ]
  },
  {
   "cell_type": "code",
   "execution_count": 69,
   "id": "3982ce0c",
   "metadata": {},
   "outputs": [
    {
     "data": {
      "text/plain": [
       "set"
      ]
     },
     "execution_count": 69,
     "metadata": {},
     "output_type": "execute_result"
    }
   ],
   "source": [
    "type(x)"
   ]
  },
  {
   "cell_type": "code",
   "execution_count": 70,
   "id": "078053fa",
   "metadata": {},
   "outputs": [],
   "source": [
    "liste = [1,2,3,3,1,1,2,2,2] #aynı elemanlar birçok defa barındıran bir liste"
   ]
  },
  {
   "cell_type": "code",
   "execution_count": 71,
   "id": "c34bcda2",
   "metadata": {},
   "outputs": [],
   "source": [
    "x = set(liste) #veri tipi dönüşümü"
   ]
  },
  {
   "cell_type": "code",
   "execution_count": 74,
   "id": "8b5d0b46",
   "metadata": {},
   "outputs": [
    {
     "data": {
      "text/plain": [
       "{1, 2, 3}"
      ]
     },
     "execution_count": 74,
     "metadata": {},
     "output_type": "execute_result"
    }
   ],
   "source": [
    "x #aynı elemanlar tek bir elemana indirgendi"
   ]
  },
  {
   "cell_type": "code",
   "execution_count": 75,
   "id": "73e34c4b",
   "metadata": {},
   "outputs": [],
   "source": [
    "x = {1,1,1,2,3,4,4,4,5,6}"
   ]
  },
  {
   "cell_type": "code",
   "execution_count": 76,
   "id": "4a309f9e",
   "metadata": {},
   "outputs": [
    {
     "data": {
      "text/plain": [
       "set"
      ]
     },
     "execution_count": 76,
     "metadata": {},
     "output_type": "execute_result"
    }
   ],
   "source": [
    "type(x)"
   ]
  },
  {
   "cell_type": "code",
   "execution_count": 77,
   "id": "c605e112",
   "metadata": {},
   "outputs": [
    {
     "name": "stdout",
     "output_type": "stream",
     "text": [
      "{1, 2, 3, 4, 5, 6}\n"
     ]
    }
   ],
   "source": [
    "print(x)"
   ]
  },
  {
   "cell_type": "code",
   "execution_count": 78,
   "id": "773d6222",
   "metadata": {},
   "outputs": [],
   "source": [
    "#for döngüsüyle gezmek"
   ]
  },
  {
   "cell_type": "code",
   "execution_count": 79,
   "id": "c59cb2b8",
   "metadata": {},
   "outputs": [],
   "source": [
    "x = {\"Elma\",\"Armut\",\"Kiraz\",\"Muz\"}"
   ]
  },
  {
   "cell_type": "code",
   "execution_count": 80,
   "id": "d77578b8",
   "metadata": {},
   "outputs": [
    {
     "name": "stdout",
     "output_type": "stream",
     "text": [
      "Elma\n",
      "Kiraz\n",
      "Muz\n",
      "Armut\n"
     ]
    }
   ],
   "source": [
    "for i in x:\n",
    "    print(i)"
   ]
  },
  {
   "cell_type": "code",
   "execution_count": 81,
   "id": "9a5fd86a",
   "metadata": {},
   "outputs": [],
   "source": [
    "x = {\"Python\",\"Php\",\"Java\",\"Js\"}"
   ]
  },
  {
   "cell_type": "code",
   "execution_count": 82,
   "id": "1a9da708",
   "metadata": {},
   "outputs": [],
   "source": [
    "liste = list(x)"
   ]
  },
  {
   "cell_type": "code",
   "execution_count": 83,
   "id": "dd33020d",
   "metadata": {},
   "outputs": [
    {
     "data": {
      "text/plain": [
       "['Java', 'Python', 'Php', 'Js']"
      ]
     },
     "execution_count": 83,
     "metadata": {},
     "output_type": "execute_result"
    }
   ],
   "source": [
    "liste"
   ]
  },
  {
   "cell_type": "code",
   "execution_count": 84,
   "id": "2fa859ca",
   "metadata": {},
   "outputs": [
    {
     "name": "stdout",
     "output_type": "stream",
     "text": [
      "Java\n",
      "Python\n",
      "Php\n",
      "Js\n"
     ]
    }
   ],
   "source": [
    "for i in liste:\n",
    "    print(i)"
   ]
  },
  {
   "cell_type": "code",
   "execution_count": 85,
   "id": "4c58adb4",
   "metadata": {},
   "outputs": [],
   "source": [
    "#******************************\n",
    "#KÜMELERİN METODLARI\n",
    "#add() metodu\n",
    "#kümeye eleman eklemeyi sağlar. Aynı eleman eklenmeye calısılırsa hata verir"
   ]
  },
  {
   "cell_type": "code",
   "execution_count": 86,
   "id": "feae7bc8",
   "metadata": {},
   "outputs": [],
   "source": [
    "x = {1,2,3}"
   ]
  },
  {
   "cell_type": "code",
   "execution_count": 87,
   "id": "62081951",
   "metadata": {},
   "outputs": [],
   "source": [
    "x.add(4)"
   ]
  },
  {
   "cell_type": "code",
   "execution_count": 88,
   "id": "fa381e4f",
   "metadata": {},
   "outputs": [
    {
     "name": "stdout",
     "output_type": "stream",
     "text": [
      "{1, 2, 3, 4}\n"
     ]
    }
   ],
   "source": [
    "print(x)"
   ]
  },
  {
   "cell_type": "code",
   "execution_count": 89,
   "id": "05ee8084",
   "metadata": {},
   "outputs": [],
   "source": [
    "x.add(4)"
   ]
  },
  {
   "cell_type": "code",
   "execution_count": 90,
   "id": "165e3662",
   "metadata": {},
   "outputs": [
    {
     "name": "stdout",
     "output_type": "stream",
     "text": [
      "{1, 2, 3, 4}\n"
     ]
    }
   ],
   "source": [
    "print(x)"
   ]
  },
  {
   "cell_type": "code",
   "execution_count": 91,
   "id": "2c315c70",
   "metadata": {},
   "outputs": [],
   "source": [
    "#difference() metodu\n",
    "#birinci kümenin ikinci kümeden farkını alır\n",
    "#küme1.difference(küme2)"
   ]
  },
  {
   "cell_type": "code",
   "execution_count": 92,
   "id": "7f08ae4a",
   "metadata": {},
   "outputs": [],
   "source": [
    "küme1={1,2,3,10,34,100,-2}\n",
    "küme2={1,2,23,35,-1}"
   ]
  },
  {
   "cell_type": "code",
   "execution_count": 93,
   "id": "0326f5b2",
   "metadata": {},
   "outputs": [
    {
     "data": {
      "text/plain": [
       "{-2, 3, 10, 34, 100}"
      ]
     },
     "execution_count": 93,
     "metadata": {},
     "output_type": "execute_result"
    }
   ],
   "source": [
    "küme1.difference(küme2)"
   ]
  },
  {
   "cell_type": "code",
   "execution_count": 94,
   "id": "3ac70a58",
   "metadata": {},
   "outputs": [
    {
     "data": {
      "text/plain": [
       "{-1, 23, 35}"
      ]
     },
     "execution_count": 94,
     "metadata": {},
     "output_type": "execute_result"
    }
   ],
   "source": [
    "küme2.difference(küme1)"
   ]
  },
  {
   "cell_type": "code",
   "execution_count": 95,
   "id": "e9c63012",
   "metadata": {},
   "outputs": [
    {
     "data": {
      "text/plain": [
       "{-2, 1, 2, 3, 10, 34, 100}"
      ]
     },
     "execution_count": 95,
     "metadata": {},
     "output_type": "execute_result"
    }
   ],
   "source": [
    "küme1"
   ]
  },
  {
   "cell_type": "code",
   "execution_count": 96,
   "id": "7dd4bc21",
   "metadata": {},
   "outputs": [
    {
     "data": {
      "text/plain": [
       "{-1, 1, 2, 23, 35}"
      ]
     },
     "execution_count": 96,
     "metadata": {},
     "output_type": "execute_result"
    }
   ],
   "source": [
    "küme2"
   ]
  },
  {
   "cell_type": "code",
   "execution_count": 97,
   "id": "70abfcdd",
   "metadata": {},
   "outputs": [],
   "source": [
    "#difference_update()\n",
    "#farklarını bulup ekler"
   ]
  },
  {
   "cell_type": "code",
   "execution_count": 102,
   "id": "6ff07b01",
   "metadata": {},
   "outputs": [],
   "source": [
    "küme1={1,2,3,10,34,100,-2}\n",
    "küme2={1,2,23,35,-1}"
   ]
  },
  {
   "cell_type": "code",
   "execution_count": 103,
   "id": "04e6a64c",
   "metadata": {},
   "outputs": [],
   "source": [
    "küme1.difference_update(küme2)"
   ]
  },
  {
   "cell_type": "code",
   "execution_count": 105,
   "id": "b3297af7",
   "metadata": {},
   "outputs": [
    {
     "data": {
      "text/plain": [
       "{-2, 3, 10, 34, 100}"
      ]
     },
     "execution_count": 105,
     "metadata": {},
     "output_type": "execute_result"
    }
   ],
   "source": [
    "küme1 #1 ve 2 sayıları atıldı"
   ]
  },
  {
   "cell_type": "code",
   "execution_count": 106,
   "id": "5be481b5",
   "metadata": {},
   "outputs": [],
   "source": [
    "küme2.difference_update(küme1)"
   ]
  },
  {
   "cell_type": "code",
   "execution_count": 107,
   "id": "72ea2b94",
   "metadata": {},
   "outputs": [
    {
     "data": {
      "text/plain": [
       "{-1, 1, 2, 23, 35}"
      ]
     },
     "execution_count": 107,
     "metadata": {},
     "output_type": "execute_result"
    }
   ],
   "source": [
    "küme2"
   ]
  },
  {
   "cell_type": "code",
   "execution_count": 108,
   "id": "d393f247",
   "metadata": {},
   "outputs": [],
   "source": [
    "#discard()\n",
    "#kümeden elemen çıkarmayı sağlar. değer yoksa hiçbir şey yapmaz"
   ]
  },
  {
   "cell_type": "code",
   "execution_count": 109,
   "id": "3e217abc",
   "metadata": {},
   "outputs": [],
   "source": [
    "x = {1,2,3,4,5,6}"
   ]
  },
  {
   "cell_type": "code",
   "execution_count": 110,
   "id": "7de49566",
   "metadata": {},
   "outputs": [],
   "source": [
    "x.discard(2)"
   ]
  },
  {
   "cell_type": "code",
   "execution_count": 111,
   "id": "af573a00",
   "metadata": {},
   "outputs": [
    {
     "data": {
      "text/plain": [
       "{1, 3, 4, 5, 6}"
      ]
     },
     "execution_count": 111,
     "metadata": {},
     "output_type": "execute_result"
    }
   ],
   "source": [
    "x"
   ]
  },
  {
   "cell_type": "code",
   "execution_count": 112,
   "id": "915dd1f4",
   "metadata": {},
   "outputs": [],
   "source": [
    "x.discard(100)"
   ]
  },
  {
   "cell_type": "code",
   "execution_count": 113,
   "id": "31e1633c",
   "metadata": {},
   "outputs": [
    {
     "data": {
      "text/plain": [
       "{1, 3, 4, 5, 6}"
      ]
     },
     "execution_count": 113,
     "metadata": {},
     "output_type": "execute_result"
    }
   ],
   "source": [
    "x"
   ]
  },
  {
   "cell_type": "code",
   "execution_count": 114,
   "id": "680bf821",
   "metadata": {},
   "outputs": [],
   "source": [
    "#küme kesişimlei : intersection()\n",
    "#iki kümenin kesişimini bulur"
   ]
  },
  {
   "cell_type": "code",
   "execution_count": 115,
   "id": "db497ff2",
   "metadata": {},
   "outputs": [],
   "source": [
    "küme1={1,2,3,10,34,100,-2}\n",
    "küme2={1,2,23,35,-1}"
   ]
  },
  {
   "cell_type": "code",
   "execution_count": 116,
   "id": "0a1a0c48",
   "metadata": {},
   "outputs": [
    {
     "data": {
      "text/plain": [
       "{1, 2}"
      ]
     },
     "execution_count": 116,
     "metadata": {},
     "output_type": "execute_result"
    }
   ],
   "source": [
    "küme1.intersection(küme2)"
   ]
  },
  {
   "cell_type": "code",
   "execution_count": 117,
   "id": "4be38474",
   "metadata": {},
   "outputs": [],
   "source": [
    "#küme kesişimi ve güncelleme : intersection_update()\n",
    "#sonucu bulur ve ekler"
   ]
  },
  {
   "cell_type": "code",
   "execution_count": 118,
   "id": "6d6c673d",
   "metadata": {},
   "outputs": [],
   "source": [
    "küme1.intersection_update(küme2)"
   ]
  },
  {
   "cell_type": "code",
   "execution_count": 119,
   "id": "7ac1e9b8",
   "metadata": {},
   "outputs": [
    {
     "data": {
      "text/plain": [
       "{1, 2}"
      ]
     },
     "execution_count": 119,
     "metadata": {},
     "output_type": "execute_result"
    }
   ],
   "source": [
    "küme1"
   ]
  },
  {
   "cell_type": "code",
   "execution_count": 120,
   "id": "3aa829fa",
   "metadata": {},
   "outputs": [],
   "source": [
    "#kümeler ayrık küme mi? : isdisjoint()\n",
    "#kesişim kümesi yoksa True, varsa False döndürür"
   ]
  },
  {
   "cell_type": "code",
   "execution_count": 121,
   "id": "cc0ce9b3",
   "metadata": {},
   "outputs": [],
   "source": [
    "küme1={1,2,3,10,34,100,-2}\n",
    "küme2={1,2,23,35,-1}"
   ]
  },
  {
   "cell_type": "code",
   "execution_count": 122,
   "id": "c1fc7904",
   "metadata": {},
   "outputs": [
    {
     "data": {
      "text/plain": [
       "False"
      ]
     },
     "execution_count": 122,
     "metadata": {},
     "output_type": "execute_result"
    }
   ],
   "source": [
    "küme1.isdisjoint(küme2)"
   ]
  },
  {
   "cell_type": "code",
   "execution_count": 123,
   "id": "cb40d6da",
   "metadata": {},
   "outputs": [],
   "source": [
    "küme3={30,40,50}"
   ]
  },
  {
   "cell_type": "code",
   "execution_count": 127,
   "id": "a17d7f21",
   "metadata": {},
   "outputs": [
    {
     "data": {
      "text/plain": [
       "True"
      ]
     },
     "execution_count": 127,
     "metadata": {},
     "output_type": "execute_result"
    }
   ],
   "source": [
    "küme1.isdisjoint(küme3)"
   ]
  },
  {
   "cell_type": "code",
   "execution_count": 128,
   "id": "99b3f6a3",
   "metadata": {},
   "outputs": [],
   "source": [
    "#alt kümesi mi? : issubset() metodu\n",
    "#birinci küme ikinci kümenin alt kümesi ise True, değilse False döndürür"
   ]
  },
  {
   "cell_type": "code",
   "execution_count": 130,
   "id": "1709667c",
   "metadata": {},
   "outputs": [],
   "source": [
    "küme1={1,2,3}\n",
    "küme2={1,2,3,4}\n",
    "küme3={5,6,7}"
   ]
  },
  {
   "cell_type": "code",
   "execution_count": 131,
   "id": "add67987",
   "metadata": {},
   "outputs": [
    {
     "data": {
      "text/plain": [
       "True"
      ]
     },
     "execution_count": 131,
     "metadata": {},
     "output_type": "execute_result"
    }
   ],
   "source": [
    "küme1.issubset(küme2)"
   ]
  },
  {
   "cell_type": "code",
   "execution_count": 132,
   "id": "76cf6c7a",
   "metadata": {},
   "outputs": [
    {
     "data": {
      "text/plain": [
       "False"
      ]
     },
     "execution_count": 132,
     "metadata": {},
     "output_type": "execute_result"
    }
   ],
   "source": [
    "küme2.issubset(küme3)"
   ]
  },
  {
   "cell_type": "code",
   "execution_count": 133,
   "id": "e22e9770",
   "metadata": {},
   "outputs": [],
   "source": [
    "#birleşim kümesi : union() metodu\n",
    "#birleşim ve güncelleme : update() metodu"
   ]
  },
  {
   "cell_type": "code",
   "execution_count": 138,
   "id": "dcaadb20",
   "metadata": {},
   "outputs": [],
   "source": [
    "küme1 = {1,2,3,10,34,100,-2}\n",
    "küme2 = {1,2,23,34,-1}"
   ]
  },
  {
   "cell_type": "code",
   "execution_count": 139,
   "id": "174fdfa9",
   "metadata": {},
   "outputs": [
    {
     "data": {
      "text/plain": [
       "{-2, -1, 1, 2, 3, 10, 23, 34, 100}"
      ]
     },
     "execution_count": 139,
     "metadata": {},
     "output_type": "execute_result"
    }
   ],
   "source": [
    "küme1.union(küme2)"
   ]
  },
  {
   "cell_type": "code",
   "execution_count": 140,
   "id": "af0ce889",
   "metadata": {},
   "outputs": [],
   "source": [
    "küme1.update(küme2)"
   ]
  },
  {
   "cell_type": "code",
   "execution_count": 141,
   "id": "df6f0376",
   "metadata": {},
   "outputs": [
    {
     "data": {
      "text/plain": [
       "{-2, -1, 1, 2, 3, 10, 23, 34, 100}"
      ]
     },
     "execution_count": 141,
     "metadata": {},
     "output_type": "execute_result"
    }
   ],
   "source": [
    "küme1"
   ]
  },
  {
   "cell_type": "code",
   "execution_count": 143,
   "id": "1186cef9",
   "metadata": {},
   "outputs": [],
   "source": [
    "#**************************************************************\n",
    "#LİSTELER VE LİSTE METODLARI İLERİ SEVİYE\n",
    "#append() metodu\n",
    "#liste sonuna bir şey eklemeyi sağlar"
   ]
  },
  {
   "cell_type": "code",
   "execution_count": 1,
   "id": "4fc17cfc",
   "metadata": {},
   "outputs": [],
   "source": [
    "liste = [1,2,3,4,5]\n",
    "liste.append(7)"
   ]
  },
  {
   "cell_type": "code",
   "execution_count": 2,
   "id": "6d3f879a",
   "metadata": {},
   "outputs": [
    {
     "name": "stdout",
     "output_type": "stream",
     "text": [
      "[1, 2, 3, 4, 5, 7]\n"
     ]
    }
   ],
   "source": [
    "print(liste)"
   ]
  },
  {
   "cell_type": "code",
   "execution_count": 3,
   "id": "51d6e0e1",
   "metadata": {},
   "outputs": [],
   "source": [
    "#extend() metodu\n",
    "#listeye başka bir listeden eleman çekmedir"
   ]
  },
  {
   "cell_type": "code",
   "execution_count": 4,
   "id": "b5a048d7",
   "metadata": {},
   "outputs": [],
   "source": [
    "liste = [1,2,3,4,5,6,7]"
   ]
  },
  {
   "cell_type": "code",
   "execution_count": 7,
   "id": "90be7758",
   "metadata": {},
   "outputs": [],
   "source": [
    "liste2= [10,11,12]"
   ]
  },
  {
   "cell_type": "code",
   "execution_count": 9,
   "id": "b1daea34",
   "metadata": {},
   "outputs": [],
   "source": [
    "liste.extend(liste2)"
   ]
  },
  {
   "cell_type": "code",
   "execution_count": 10,
   "id": "cac00e45",
   "metadata": {},
   "outputs": [
    {
     "data": {
      "text/plain": [
       "[1, 2, 3, 4, 5, 6, 7, 10, 11, 12, 10, 11, 12, 10, 11, 12]"
      ]
     },
     "execution_count": 10,
     "metadata": {},
     "output_type": "execute_result"
    }
   ],
   "source": [
    "liste"
   ]
  },
  {
   "cell_type": "code",
   "execution_count": 11,
   "id": "84b881d6",
   "metadata": {},
   "outputs": [],
   "source": [
    "#insert() metodu\n",
    "#listenin belli bir indeksine veri eklemeyi sağlar"
   ]
  },
  {
   "cell_type": "code",
   "execution_count": 12,
   "id": "de3b202a",
   "metadata": {},
   "outputs": [],
   "source": [
    "liste = [1,2,3,4,5,6,7,8,9]\n",
    "liste.insert(2,\"Burak\")"
   ]
  },
  {
   "cell_type": "code",
   "execution_count": 13,
   "id": "fd0e6b20",
   "metadata": {},
   "outputs": [
    {
     "data": {
      "text/plain": [
       "[1, 2, 'Burak', 3, 4, 5, 6, 7, 8, 9]"
      ]
     },
     "execution_count": 13,
     "metadata": {},
     "output_type": "execute_result"
    }
   ],
   "source": [
    "liste"
   ]
  },
  {
   "cell_type": "code",
   "execution_count": 14,
   "id": "0cb1b204",
   "metadata": {},
   "outputs": [
    {
     "data": {
      "text/plain": [
       "10"
      ]
     },
     "execution_count": 14,
     "metadata": {},
     "output_type": "execute_result"
    }
   ],
   "source": [
    "len(liste)"
   ]
  },
  {
   "cell_type": "code",
   "execution_count": 15,
   "id": "3185cbc9",
   "metadata": {},
   "outputs": [],
   "source": [
    "#pop()metodu\n",
    "#listeden eleman çıkarılıyor"
   ]
  },
  {
   "cell_type": "code",
   "execution_count": 16,
   "id": "366c7d99",
   "metadata": {},
   "outputs": [
    {
     "data": {
      "text/plain": [
       "9"
      ]
     },
     "execution_count": 16,
     "metadata": {},
     "output_type": "execute_result"
    }
   ],
   "source": [
    "liste = [1,2,3,4,5,6,7,8,9]\n",
    "liste.pop()"
   ]
  },
  {
   "cell_type": "code",
   "execution_count": 17,
   "id": "30d20b32",
   "metadata": {},
   "outputs": [
    {
     "data": {
      "text/plain": [
       "3"
      ]
     },
     "execution_count": 17,
     "metadata": {},
     "output_type": "execute_result"
    }
   ],
   "source": [
    "liste.pop(2)"
   ]
  },
  {
   "cell_type": "code",
   "execution_count": 18,
   "id": "bd9ffb3e",
   "metadata": {},
   "outputs": [
    {
     "data": {
      "text/plain": [
       "[1, 2, 4, 5, 6, 7, 8]"
      ]
     },
     "execution_count": 18,
     "metadata": {},
     "output_type": "execute_result"
    }
   ],
   "source": [
    "liste"
   ]
  },
  {
   "cell_type": "code",
   "execution_count": 19,
   "id": "bfb175a1",
   "metadata": {},
   "outputs": [],
   "source": [
    "#remove()metodu\n",
    "#verdiğimiz değeri listeden çıkarır"
   ]
  },
  {
   "cell_type": "code",
   "execution_count": 20,
   "id": "c09eca3c",
   "metadata": {},
   "outputs": [
    {
     "data": {
      "text/plain": [
       "[1, 2, 3, 4, 5, 6, 7, 8]"
      ]
     },
     "execution_count": 20,
     "metadata": {},
     "output_type": "execute_result"
    }
   ],
   "source": [
    "liste = [1,2,3,4,5,6,7,8,9]\n",
    "liste.remove(9)\n",
    "liste"
   ]
  },
  {
   "cell_type": "code",
   "execution_count": 21,
   "id": "5c91069e",
   "metadata": {},
   "outputs": [],
   "source": [
    "#index() metodu\n",
    "#verilen karakterin hangi indexte olduğunu soyler. eğer ki değer belirlenirse\n",
    "#verilen değerdeki indeksten aramaya başlar"
   ]
  },
  {
   "cell_type": "code",
   "execution_count": 23,
   "id": "d18f088b",
   "metadata": {},
   "outputs": [
    {
     "data": {
      "text/plain": [
       "2"
      ]
     },
     "execution_count": 23,
     "metadata": {},
     "output_type": "execute_result"
    }
   ],
   "source": [
    "liste = [1,2,3,4,5,6,7,7]\n",
    "liste.index(3)"
   ]
  },
  {
   "cell_type": "code",
   "execution_count": 24,
   "id": "fc8273d2",
   "metadata": {},
   "outputs": [
    {
     "data": {
      "text/plain": [
       "6"
      ]
     },
     "execution_count": 24,
     "metadata": {},
     "output_type": "execute_result"
    }
   ],
   "source": [
    "liste.index(7)"
   ]
  },
  {
   "cell_type": "code",
   "execution_count": 27,
   "id": "42bd7afb",
   "metadata": {},
   "outputs": [
    {
     "data": {
      "text/plain": [
       "7"
      ]
     },
     "execution_count": 27,
     "metadata": {},
     "output_type": "execute_result"
    }
   ],
   "source": [
    "liste.index(7,-1)"
   ]
  },
  {
   "cell_type": "code",
   "execution_count": 28,
   "id": "e855ef9d",
   "metadata": {},
   "outputs": [],
   "source": [
    "#count() metodu\n",
    "#verilen değerin listede kaç tane olduğunu sayar"
   ]
  },
  {
   "cell_type": "code",
   "execution_count": 29,
   "id": "5ba31a41",
   "metadata": {},
   "outputs": [
    {
     "data": {
      "text/plain": [
       "2"
      ]
     },
     "execution_count": 29,
     "metadata": {},
     "output_type": "execute_result"
    }
   ],
   "source": [
    "liste.count(7)"
   ]
  },
  {
   "cell_type": "code",
   "execution_count": 32,
   "id": "6c6d3a40",
   "metadata": {},
   "outputs": [],
   "source": [
    "#sort() metodu\n",
    "#listenin elemanlarını sıralar.\n",
    "#sayı ise küçükten büyüğü, string ise alfabetik sıralar"
   ]
  },
  {
   "cell_type": "code",
   "execution_count": 33,
   "id": "6f2b4604",
   "metadata": {},
   "outputs": [
    {
     "data": {
      "text/plain": [
       "[-423, -1, 1, 2, 3, 432, 123123]"
      ]
     },
     "execution_count": 33,
     "metadata": {},
     "output_type": "execute_result"
    }
   ],
   "source": [
    "liste = [1,2,3,-1,-423,123123,432]\n",
    "liste.sort()\n",
    "liste"
   ]
  },
  {
   "cell_type": "code",
   "execution_count": 34,
   "id": "38c19687",
   "metadata": {},
   "outputs": [
    {
     "data": {
      "text/plain": [
       "['Burak', 'Furkan', 'Hakan', 'Osman', 'Python']"
      ]
     },
     "execution_count": 34,
     "metadata": {},
     "output_type": "execute_result"
    }
   ],
   "source": [
    "liste1=[\"Burak\",\"Furkan\",\"Python\",\"Hakan\",\"Osman\"]\n",
    "liste1.sort()\n",
    "liste1"
   ]
  },
  {
   "cell_type": "code",
   "execution_count": 36,
   "id": "b91757bf",
   "metadata": {},
   "outputs": [],
   "source": [
    "liste1.sort(reverse = True)"
   ]
  },
  {
   "cell_type": "code",
   "execution_count": 37,
   "id": "a8d42046",
   "metadata": {},
   "outputs": [
    {
     "data": {
      "text/plain": [
       "['Python', 'Osman', 'Hakan', 'Furkan', 'Burak']"
      ]
     },
     "execution_count": 37,
     "metadata": {},
     "output_type": "execute_result"
    }
   ],
   "source": [
    "liste1"
   ]
  },
  {
   "cell_type": "code",
   "execution_count": null,
   "id": "3855484f",
   "metadata": {},
   "outputs": [],
   "source": []
  }
 ],
 "metadata": {
  "kernelspec": {
   "display_name": "Python 3 (ipykernel)",
   "language": "python",
   "name": "python3"
  },
  "language_info": {
   "codemirror_mode": {
    "name": "ipython",
    "version": 3
   },
   "file_extension": ".py",
   "mimetype": "text/x-python",
   "name": "python",
   "nbconvert_exporter": "python",
   "pygments_lexer": "ipython3",
   "version": "3.9.7"
  }
 },
 "nbformat": 4,
 "nbformat_minor": 5
}
